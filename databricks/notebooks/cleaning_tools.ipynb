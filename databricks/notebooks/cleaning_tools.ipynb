{
 "cells": [
  {
   "cell_type": "code",
   "execution_count": 0,
   "metadata": {
    "application/vnd.databricks.v1+cell": {
     "cellMetadata": {
      "byteLimit": 2048000,
      "rowLimit": 10000
     },
     "inputWidgets": {},
     "nuid": "bed484f5-9705-4c0e-bfb0-73f8a808ad46",
     "showTitle": false,
     "title": ""
    }
   },
   "outputs": [
    {
     "output_type": "display_data",
     "data": {
      "text/html": [
       "<style scoped>\n",
       "  .ansiout {\n",
       "    display: block;\n",
       "    unicode-bidi: embed;\n",
       "    white-space: pre-wrap;\n",
       "    word-wrap: break-word;\n",
       "    word-break: break-all;\n",
       "    font-family: \"Menlo\", \"Monaco\", \"Consolas\", \"Ubuntu Mono\", \"Source Code Pro\", monospace;\n",
       "    font-size: 13px;\n",
       "    color: #555;\n",
       "    margin-left: 4px;\n",
       "    line-height: 19px;\n",
       "  }\n",
       "</style>\n",
       "<div class=\"ansiout\"></div>"
      ]
     },
     "metadata": {
      "application/vnd.databricks.v1+output": {
       "addedWidgets": {},
       "arguments": {},
       "data": "<div class=\"ansiout\"></div>",
       "datasetInfos": [],
       "metadata": {},
       "removedWidgets": [],
       "type": "html"
      }
     },
     "output_type": "display_data"
    }
   ],
   "source": [
    "from pyspark.sql import DataFrame\n",
    "from pyspark.sql.functions import *\n"
   ]
  },
  {
   "cell_type": "code",
   "execution_count": 0,
   "metadata": {
    "application/vnd.databricks.v1+cell": {
     "cellMetadata": {
      "byteLimit": 2048000,
      "rowLimit": 10000
     },
     "inputWidgets": {},
     "nuid": "86cac8b3-5e58-4fee-980a-d1a155de60bf",
     "showTitle": false,
     "title": ""
    }
   },
   "outputs": [
    {
     "output_type": "display_data",
     "data": {
      "text/html": [
       "<style scoped>\n",
       "  .ansiout {\n",
       "    display: block;\n",
       "    unicode-bidi: embed;\n",
       "    white-space: pre-wrap;\n",
       "    word-wrap: break-word;\n",
       "    word-break: break-all;\n",
       "    font-family: \"Menlo\", \"Monaco\", \"Consolas\", \"Ubuntu Mono\", \"Source Code Pro\", monospace;\n",
       "    font-size: 13px;\n",
       "    color: #555;\n",
       "    margin-left: 4px;\n",
       "    line-height: 19px;\n",
       "  }\n",
       "</style>\n",
       "<div class=\"ansiout\"></div>"
      ]
     },
     "metadata": {
      "application/vnd.databricks.v1+output": {
       "addedWidgets": {},
       "arguments": {},
       "data": "<div class=\"ansiout\"></div>",
       "datasetInfos": [],
       "metadata": {},
       "removedWidgets": [],
       "type": "html"
      }
     },
     "output_type": "display_data"
    }
   ],
   "source": [
    "# clean df_pin\n",
    "def clean_df_pin(df_pin: DataFrame) -> DataFrame:\n",
    "    df = df_pin\n",
    "\n",
    "    # replace empty entries and invalid entries with None\n",
    "    entries_to_replace = [\"\", \"No description available Story format\", \"No description available\", \"Image src error.\", \"User Info Error\", \"N,o, ,T,a,g,s, ,A,v,a,i,l,a,b,l,e\", \"No Title Data Available\"]\n",
    "    for column in df.columns:\n",
    "        df = df.withColumn(column, when(col(column).isin(entries_to_replace), None).otherwise(col(column)))\n",
    "    \n",
    "    # transofrm follower_count to numeric data \n",
    "    column = \"follower_count\"\n",
    "    df = df.withColumn(column, when(col(column).contains(\"k\"), regexp_replace(col(column), \"k\", \"\").cast(\"int\") * 1000).when(col(column).contains(\"M\"), regexp_replace(col(column), \"M\", \"\").cast(\"int\") * 1000 * 1000).otherwise(col(column).cast(\"int\")))\n",
    "\n",
    "    # casting numeric columns to numreic data type\n",
    "    df = df.withColumn(\"downloaded\", col(\"downloaded\").cast(\"int\"))\n",
    "    df = df.withColumn(\"index\", col(\"index\").cast(\"int\"))\n",
    "\n",
    "    # Clean the data in the save_location column to include only the save location path\n",
    "    df = df.withColumn(\"save_location\",regexp_replace(col(\"save_location\"), \"Local save in \", \"\"))\n",
    "\n",
    "    # Rename the index column to ind.\n",
    "    df = df.withColumnRenamed(\"index\", \"ind\")\n",
    "\n",
    "    # reorder columns\n",
    "    df = df.select(\"ind\", \"unique_id\", \"title\", \"description\", \"follower_count\", \"poster_name\", \"tag_list\", \"is_image_or_video\", \"image_src\", \"save_location\", \"category\")\n",
    "    return df\n"
   ]
  },
  {
   "cell_type": "code",
   "execution_count": 0,
   "metadata": {
    "application/vnd.databricks.v1+cell": {
     "cellMetadata": {
      "byteLimit": 2048000,
      "rowLimit": 10000
     },
     "inputWidgets": {},
     "nuid": "44858961-8210-4a8a-ade9-eec89830d1f4",
     "showTitle": false,
     "title": ""
    }
   },
   "outputs": [
    {
     "output_type": "display_data",
     "data": {
      "text/html": [
       "<style scoped>\n",
       "  .ansiout {\n",
       "    display: block;\n",
       "    unicode-bidi: embed;\n",
       "    white-space: pre-wrap;\n",
       "    word-wrap: break-word;\n",
       "    word-break: break-all;\n",
       "    font-family: \"Menlo\", \"Monaco\", \"Consolas\", \"Ubuntu Mono\", \"Source Code Pro\", monospace;\n",
       "    font-size: 13px;\n",
       "    color: #555;\n",
       "    margin-left: 4px;\n",
       "    line-height: 19px;\n",
       "  }\n",
       "</style>\n",
       "<div class=\"ansiout\"></div>"
      ]
     },
     "metadata": {
      "application/vnd.databricks.v1+output": {
       "addedWidgets": {},
       "arguments": {},
       "data": "<div class=\"ansiout\"></div>",
       "datasetInfos": [],
       "metadata": {},
       "removedWidgets": [],
       "type": "html"
      }
     },
     "output_type": "display_data"
    }
   ],
   "source": [
    "# clean df_geo\n",
    "def clean_df_geo(df_geo: DataFrame) -> DataFrame:\n",
    "    df = df_geo\n",
    "\n",
    "    # create \"coordinate\" column\n",
    "    df = df.withColumn(\"coordinates\", array(col(\"latitude\"), col(\"longitude\")))\n",
    "\n",
    "    # drop the \"latitude\" and \"longitude\" columns\n",
    "    df = df.drop(\"latitude\")\n",
    "    df = df.drop(\"longitude\")\n",
    "\n",
    "    # Convert the \"timestamp\" column to a timestamp data type\n",
    "    df = df.withColumn(\"timestamp\", to_timestamp(col(\"timestamp\")))\n",
    "\n",
    "    # convert the \"ind\" column to a numeric data type\n",
    "    df = df.withColumn(\"ind\", col(\"ind\").cast(\"int\"))\n",
    "\n",
    "    # reoder columns\n",
    "    df = df.select(\"ind\", \"country\", \"coordinates\", \"timestamp\")\n",
    "    return df\n"
   ]
  },
  {
   "cell_type": "code",
   "execution_count": 0,
   "metadata": {
    "application/vnd.databricks.v1+cell": {
     "cellMetadata": {
      "byteLimit": 2048000,
      "rowLimit": 10000
     },
     "inputWidgets": {},
     "nuid": "911df830-2f8e-449b-be4b-d1de696a6805",
     "showTitle": false,
     "title": ""
    }
   },
   "outputs": [
    {
     "output_type": "display_data",
     "data": {
      "text/html": [
       "<style scoped>\n",
       "  .ansiout {\n",
       "    display: block;\n",
       "    unicode-bidi: embed;\n",
       "    white-space: pre-wrap;\n",
       "    word-wrap: break-word;\n",
       "    word-break: break-all;\n",
       "    font-family: \"Menlo\", \"Monaco\", \"Consolas\", \"Ubuntu Mono\", \"Source Code Pro\", monospace;\n",
       "    font-size: 13px;\n",
       "    color: #555;\n",
       "    margin-left: 4px;\n",
       "    line-height: 19px;\n",
       "  }\n",
       "</style>\n",
       "<div class=\"ansiout\"></div>"
      ]
     },
     "metadata": {
      "application/vnd.databricks.v1+output": {
       "addedWidgets": {},
       "arguments": {},
       "data": "<div class=\"ansiout\"></div>",
       "datasetInfos": [],
       "metadata": {},
       "removedWidgets": [],
       "type": "html"
      }
     },
     "output_type": "display_data"
    }
   ],
   "source": [
    "# clean df_user\n",
    "def clean_df_user(df_user: DataFrame) -> DataFrame:\n",
    "    df = df_user\n",
    "\n",
    "    # create \"username\" column\n",
    "    df = df.withColumn(\"username\", concat(\"first_name\", lit(\" \"), \"last_name\"))\n",
    "\n",
    "    # drop the unwanted columns\n",
    "    df = df.drop(\"first_name\")\n",
    "    df = df.drop(\"last_name\")\n",
    "\n",
    "    if \"index\" in df.columns:\n",
    "        df = df.drop(\"index\")\n",
    "        df = df.drop(\"name\")\n",
    "        df = df.drop(\"role\")\n",
    "\n",
    "    # Convert the \"join_date\" column to a timestamp data type\n",
    "    df = df.withColumn(\"date_joined\", to_timestamp(col(\"date_joined\")))\n",
    "\n",
    "    # Convert numeric columns to a numeric data type\n",
    "    df = df.withColumn(\"ind\", col(\"ind\").cast(\"int\"))\n",
    "    df = df.withColumn(\"age\", col(\"age\").cast(\"int\"))\n",
    "\n",
    "    # Reorder columns\n",
    "    df = df.select(\"ind\", \"username\", \"age\", \"date_joined\")\n",
    "\n",
    "    # remove rows where suername is null\n",
    "    df = df.filter(df.username.isNotNull())\n",
    "    return df\n"
   ]
  }
 ],
 "metadata": {
  "application/vnd.databricks.v1+notebook": {
   "dashboards": [],
   "language": "python",
   "notebookMetadata": {
    "pythonIndentUnit": 4
   },
   "notebookName": "cleaning_tools",
   "widgets": {}
  }
 },
 "nbformat": 4,
 "nbformat_minor": 0
}
