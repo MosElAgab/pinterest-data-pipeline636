{
 "cells": [
  {
   "cell_type": "code",
   "execution_count": 0,
   "metadata": {
    "application/vnd.databricks.v1+cell": {
     "cellMetadata": {
      "byteLimit": 2048000,
      "rowLimit": 10000
     },
     "inputWidgets": {},
     "nuid": "de6f21fb-0f3b-41cf-a15a-6999533242ce",
     "showTitle": false,
     "title": ""
    }
   },
   "outputs": [
    {
     "output_type": "display_data",
     "data": {
      "text/html": [
       "<style scoped>\n",
       "  .ansiout {\n",
       "    display: block;\n",
       "    unicode-bidi: embed;\n",
       "    white-space: pre-wrap;\n",
       "    word-wrap: break-word;\n",
       "    word-break: break-all;\n",
       "    font-family: \"Menlo\", \"Monaco\", \"Consolas\", \"Ubuntu Mono\", \"Source Code Pro\", monospace;\n",
       "    font-size: 13px;\n",
       "    color: #555;\n",
       "    margin-left: 4px;\n",
       "    line-height: 19px;\n",
       "  }\n",
       "</style>\n",
       "<div class=\"ansiout\"></div>"
      ]
     },
     "metadata": {
      "application/vnd.databricks.v1+output": {
       "addedWidgets": {},
       "arguments": {},
       "data": "<div class=\"ansiout\"></div>",
       "datasetInfos": [],
       "metadata": {},
       "removedWidgets": [],
       "type": "html"
      }
     },
     "output_type": "display_data"
    }
   ],
   "source": [
    "# load the data\n",
    "df_pin = spark.read.parquet(\"/mnt/12f2c229fbdb-tables/12f2c229fbdb.pin\")\n",
    "df_geo = spark.read.parquet(\"/mnt/12f2c229fbdb-tables/12f2c229fbdb.geo\")\n",
    "df_user = spark.read.parquet(\"/mnt/12f2c229fbdb-tables/12f2c229fbdb.user\")"
   ]
  },
  {
   "cell_type": "code",
   "execution_count": 0,
   "metadata": {
    "application/vnd.databricks.v1+cell": {
     "cellMetadata": {
      "byteLimit": 2048000,
      "implicitDf": true,
      "rowLimit": 10000
     },
     "inputWidgets": {},
     "nuid": "dc216686-318f-4475-9d07-60314c352bce",
     "showTitle": false,
     "title": ""
    }
   },
   "outputs": [
    {
     "output_type": "display_data",
     "data": {
      "text/html": [
       "<style scoped>\n",
       "  .ansiout {\n",
       "    display: block;\n",
       "    unicode-bidi: embed;\n",
       "    white-space: pre-wrap;\n",
       "    word-wrap: break-word;\n",
       "    word-break: break-all;\n",
       "    font-family: \"Menlo\", \"Monaco\", \"Consolas\", \"Ubuntu Mono\", \"Source Code Pro\", monospace;\n",
       "    font-size: 13px;\n",
       "    color: #555;\n",
       "    margin-left: 4px;\n",
       "    line-height: 19px;\n",
       "  }\n",
       "</style>\n",
       "<div class=\"ansiout\"></div>"
      ]
     },
     "metadata": {
      "application/vnd.databricks.v1+output": {
       "addedWidgets": {},
       "arguments": {},
       "data": "<div class=\"ansiout\"></div>",
       "datasetInfos": [],
       "metadata": {},
       "removedWidgets": [],
       "type": "html"
      }
     },
     "output_type": "display_data"
    }
   ],
   "source": [
    "# create temrorary views\n",
    "df_pin.createOrReplaceTempView(\"12f2c229fbdb_temp_view_pin\")\n",
    "df_geo.createOrReplaceTempView(\"12f2c229fbdb_temp_view_geo\")\n",
    "df_user.createOrReplaceTempView(\"12f2c229fbdb_temp_view_user\")"
   ]
  },
  {
   "cell_type": "code",
   "execution_count": 0,
   "metadata": {
    "application/vnd.databricks.v1+cell": {
     "cellMetadata": {
      "byteLimit": 2048000,
      "implicitDf": true,
      "rowLimit": 10000
     },
     "inputWidgets": {},
     "nuid": "1e3522f6-9e2c-4841-8a59-63f28dfae09f",
     "showTitle": false,
     "title": ""
    }
   },
   "outputs": [
    {
     "output_type": "display_data",
     "data": {
      "text/html": [
       "<style scoped>\n",
       "  .table-result-container {\n",
       "    max-height: 300px;\n",
       "    overflow: auto;\n",
       "  }\n",
       "  table, th, td {\n",
       "    border: 1px solid black;\n",
       "    border-collapse: collapse;\n",
       "  }\n",
       "  th, td {\n",
       "    padding: 5px;\n",
       "  }\n",
       "  th {\n",
       "    text-align: left;\n",
       "  }\n",
       "</style><div class='table-result-container'><table class='table-result'><thead style='background-color: white'><tr><th>country</th><th>category</th><th>category_count</th></tr></thead><tbody><tr><td>French Guiana</td><td>art</td><td>25</td></tr><tr><td>Lesotho</td><td>mens-fashion</td><td>9</td></tr><tr><td>Azerbaijan</td><td>christmas</td><td>27</td></tr><tr><td>Algeria</td><td>finance</td><td>49</td></tr><tr><td>India</td><td>travel</td><td>42</td></tr><tr><td>Qatar</td><td>christmas</td><td>9</td></tr><tr><td>Sudan</td><td>art</td><td>25</td></tr><tr><td>Romania</td><td>tattoos</td><td>49</td></tr><tr><td>Lithuania</td><td>diy-and-crafts</td><td>9</td></tr><tr><td>Romania</td><td>art</td><td>36</td></tr><tr><td>Chad</td><td>diy-and-crafts</td><td>45</td></tr><tr><td>Jersey</td><td>quotes</td><td>11</td></tr><tr><td>Sweden</td><td>finance</td><td>9</td></tr><tr><td>Albania</td><td>travel</td><td>27</td></tr><tr><td>Armenia</td><td>vehicles</td><td>85</td></tr><tr><td>Bolivia</td><td>christmas</td><td>37</td></tr><tr><td>Latvia</td><td>home-decor</td><td>9</td></tr><tr><td>Namibia</td><td>quotes</td><td>81</td></tr><tr><td>Guatemala</td><td>finance</td><td>37</td></tr><tr><td>Nigeria</td><td>education</td><td>45</td></tr><tr><td>Nigeria</td><td>christmas</td><td>32</td></tr><tr><td>Cambodia</td><td>beauty</td><td>34</td></tr><tr><td>Australia</td><td>christmas</td><td>104</td></tr><tr><td>Guadeloupe</td><td>christmas</td><td>54</td></tr><tr><td>Tokelau</td><td>vehicles</td><td>36</td></tr><tr><td>Ethiopia</td><td>finance</td><td>26</td></tr><tr><td>Faroe Islands</td><td>finance</td><td>36</td></tr><tr><td>Uganda</td><td>mens-fashion</td><td>9</td></tr><tr><td>Sudan</td><td>vehicles</td><td>9</td></tr><tr><td>France</td><td>diy-and-crafts</td><td>18</td></tr><tr><td>Samoa</td><td>vehicles</td><td>36</td></tr><tr><td>Panama</td><td>event-planning</td><td>9</td></tr><tr><td>Samoa</td><td>finance</td><td>9</td></tr><tr><td>Djibouti</td><td>christmas</td><td>18</td></tr><tr><td>Morocco</td><td>education</td><td>9</td></tr><tr><td>Denmark</td><td>mens-fashion</td><td>9</td></tr><tr><td>Jamaica</td><td>beauty</td><td>1</td></tr><tr><td>Iceland</td><td>mens-fashion</td><td>9</td></tr><tr><td>Lithuania</td><td>tattoos</td><td>16</td></tr><tr><td>Israel</td><td>quotes</td><td>36</td></tr><tr><td>Djibouti</td><td>diy-and-crafts</td><td>54</td></tr><tr><td>Ukraine</td><td>finance</td><td>9</td></tr><tr><td>Guinea</td><td>christmas</td><td>25</td></tr><tr><td>China</td><td>finance</td><td>9</td></tr><tr><td>Saudi Arabia</td><td>travel</td><td>9</td></tr><tr><td>Cambodia</td><td>travel</td><td>13</td></tr><tr><td>Cambodia</td><td>tattoos</td><td>9</td></tr><tr><td>Bahamas</td><td>education</td><td>9</td></tr><tr><td>Madagascar</td><td>event-planning</td><td>36</td></tr><tr><td>Israel</td><td>finance</td><td>36</td></tr><tr><td>Finland</td><td>home-decor</td><td>9</td></tr><tr><td>Grenada</td><td>vehicles</td><td>64</td></tr><tr><td>Kuwait</td><td>travel</td><td>10</td></tr><tr><td>Belgium</td><td>home-decor</td><td>13</td></tr><tr><td>Egypt</td><td>home-decor</td><td>61</td></tr><tr><td>Ecuador</td><td>christmas</td><td>9</td></tr><tr><td>Botswana</td><td>beauty</td><td>16</td></tr><tr><td>Chile</td><td>quotes</td><td>36</td></tr><tr><td>Ecuador</td><td>mens-fashion</td><td>61</td></tr><tr><td>Mozambique</td><td>home-decor</td><td>157</td></tr><tr><td>Bulgaria</td><td>christmas</td><td>173</td></tr><tr><td>Morocco</td><td>quotes</td><td>153</td></tr><tr><td>Armenia</td><td>christmas</td><td>36</td></tr><tr><td>Austria</td><td>beauty</td><td>18</td></tr><tr><td>Botswana</td><td>finance</td><td>19</td></tr><tr><td>Bangladesh</td><td>mens-fashion</td><td>58</td></tr><tr><td>Estonia</td><td>christmas</td><td>25</td></tr><tr><td>Greece</td><td>finance</td><td>25</td></tr><tr><td>Paraguay</td><td>quotes</td><td>9</td></tr><tr><td>Maldives</td><td>quotes</td><td>9</td></tr><tr><td>Australia</td><td>mens-fashion</td><td>87</td></tr><tr><td>Venezuela</td><td>diy-and-crafts</td><td>36</td></tr><tr><td>Niger</td><td>education</td><td>16</td></tr><tr><td>Argentina</td><td>home-decor</td><td>70</td></tr><tr><td>Argentina</td><td>art</td><td>37</td></tr><tr><td>Guinea-Bissau</td><td>diy-and-crafts</td><td>9</td></tr><tr><td>Kiribati</td><td>travel</td><td>9</td></tr><tr><td>Bahrain</td><td>art</td><td>18</td></tr><tr><td>Nicaragua</td><td>mens-fashion</td><td>18</td></tr><tr><td>Austria</td><td>quotes</td><td>9</td></tr><tr><td>Qatar</td><td>beauty</td><td>18</td></tr><tr><td>Guinea-Bissau</td><td>travel</td><td>25</td></tr><tr><td>Bermuda</td><td>beauty</td><td>49</td></tr><tr><td>Guyana</td><td>finance</td><td>4</td></tr><tr><td>Bahrain</td><td>event-planning</td><td>9</td></tr><tr><td>Bermuda</td><td>tattoos</td><td>18</td></tr><tr><td>Gibraltar</td><td>mens-fashion</td><td>18</td></tr><tr><td>Finland</td><td>beauty</td><td>45</td></tr><tr><td>Kenya</td><td>diy-and-crafts</td><td>90</td></tr><tr><td>Aruba</td><td>home-decor</td><td>10</td></tr><tr><td>Kazakhstan</td><td>beauty</td><td>10</td></tr><tr><td>Botswana</td><td>christmas</td><td>16</td></tr><tr><td>Belgium</td><td>finance</td><td>9</td></tr><tr><td>Bahamas</td><td>art</td><td>138</td></tr><tr><td>Vietnam</td><td>quotes</td><td>64</td></tr><tr><td>Poland</td><td>event-planning</td><td>36</td></tr><tr><td>Denmark</td><td>beauty</td><td>81</td></tr><tr><td>Congo</td><td>education</td><td>34</td></tr><tr><td>Tanzania</td><td>travel</td><td>9</td></tr><tr><td>Andorra</td><td>vehicles</td><td>27</td></tr><tr><td>Bhutan</td><td>event-planning</td><td>54</td></tr><tr><td>Armenia</td><td>beauty</td><td>95</td></tr><tr><td>Macao</td><td>mens-fashion</td><td>36</td></tr><tr><td>Uganda</td><td>finance</td><td>9</td></tr><tr><td>Liechtenstein</td><td>mens-fashion</td><td>18</td></tr><tr><td>Anguilla</td><td>vehicles</td><td>9</td></tr><tr><td>Mongolia</td><td>travel</td><td>9</td></tr><tr><td>Albania</td><td>finance</td><td>61</td></tr><tr><td>French Guiana</td><td>diy-and-crafts</td><td>9</td></tr><tr><td>Andorra</td><td>quotes</td><td>112</td></tr><tr><td>Aruba</td><td>mens-fashion</td><td>199</td></tr><tr><td>Kiribati</td><td>beauty</td><td>32</td></tr><tr><td>Belgium</td><td>quotes</td><td>9</td></tr><tr><td>Azerbaijan</td><td>finance</td><td>154</td></tr><tr><td>Luxembourg</td><td>education</td><td>25</td></tr><tr><td>Finland</td><td>vehicles</td><td>36</td></tr><tr><td>Afghanistan</td><td>beauty</td><td>9</td></tr><tr><td>Aruba</td><td>christmas</td><td>201</td></tr><tr><td>Isle of Man</td><td>finance</td><td>36</td></tr><tr><td>Finland</td><td>finance</td><td>90</td></tr><tr><td>Cuba</td><td>home-decor</td><td>25</td></tr><tr><td>Cambodia</td><td>event-planning</td><td>18</td></tr><tr><td>Armenia</td><td>diy-and-crafts</td><td>193</td></tr><tr><td>Iceland</td><td>diy-and-crafts</td><td>9</td></tr><tr><td>Hong Kong</td><td>finance</td><td>1</td></tr><tr><td>Madagascar</td><td>quotes</td><td>9</td></tr><tr><td>Andorra</td><td>diy-and-crafts</td><td>50</td></tr><tr><td>Mozambique</td><td>art</td><td>36</td></tr><tr><td>Iran</td><td>tattoos</td><td>16</td></tr><tr><td>Bermuda</td><td>event-planning</td><td>18</td></tr><tr><td>Honduras</td><td>event-planning</td><td>18</td></tr><tr><td>Nauru</td><td>mens-fashion</td><td>18</td></tr><tr><td>Burkina Faso</td><td>quotes</td><td>135</td></tr><tr><td>Gabon</td><td>travel</td><td>29</td></tr><tr><td>Turkey</td><td>event-planning</td><td>9</td></tr><tr><td>Moldova</td><td>beauty</td><td>45</td></tr><tr><td>Seychelles</td><td>tattoos</td><td>42</td></tr><tr><td>Bulgaria</td><td>art</td><td>36</td></tr><tr><td>Bolivia</td><td>art</td><td>18</td></tr><tr><td>Canada</td><td>mens-fashion</td><td>9</td></tr><tr><td>Latvia</td><td>beauty</td><td>25</td></tr><tr><td>Aruba</td><td>finance</td><td>36</td></tr><tr><td>Montenegro</td><td>diy-and-crafts</td><td>9</td></tr><tr><td>Kazakhstan</td><td>home-decor</td><td>25</td></tr><tr><td>Cook Islands</td><td>diy-and-crafts</td><td>9</td></tr><tr><td>Ecuador</td><td>diy-and-crafts</td><td>25</td></tr><tr><td>Djibouti</td><td>mens-fashion</td><td>18</td></tr><tr><td>Isle of Man</td><td>art</td><td>73</td></tr><tr><td>Isle of Man</td><td>vehicles</td><td>9</td></tr><tr><td>Romania</td><td>quotes</td><td>16</td></tr><tr><td>Maldives</td><td>event-planning</td><td>34</td></tr><tr><td>Aruba</td><td>tattoos</td><td>272</td></tr><tr><td>Ireland</td><td>home-decor</td><td>36</td></tr><tr><td>Guatemala</td><td>art</td><td>37</td></tr><tr><td>Hungary</td><td>education</td><td>9</td></tr><tr><td>Singapore</td><td>mens-fashion</td><td>9</td></tr><tr><td>Somalia</td><td>quotes</td><td>36</td></tr><tr><td>Canada</td><td>travel</td><td>45</td></tr><tr><td>Malawi</td><td>travel</td><td>34</td></tr><tr><td>Costa Rica</td><td>quotes</td><td>18</td></tr><tr><td>Bolivia</td><td>home-decor</td><td>97</td></tr><tr><td>Panama</td><td>vehicles</td><td>18</td></tr><tr><td>Israel</td><td>education</td><td>9</td></tr><tr><td>Sweden</td><td>mens-fashion</td><td>49</td></tr><tr><td>Mozambique</td><td>finance</td><td>9</td></tr><tr><td>Uzbekistan</td><td>quotes</td><td>9</td></tr><tr><td>Georgia</td><td>education</td><td>146</td></tr><tr><td>Andorra</td><td>event-planning</td><td>34</td></tr><tr><td>Greenland</td><td>education</td><td>16</td></tr><tr><td>Senegal</td><td>beauty</td><td>36</td></tr><tr><td>Bulgaria</td><td>vehicles</td><td>64</td></tr><tr><td>Finland</td><td>mens-fashion</td><td>9</td></tr><tr><td>Burkina Faso</td><td>tattoos</td><td>9</td></tr><tr><td>Mayotte</td><td>christmas</td><td>36</td></tr><tr><td>Colombia</td><td>home-decor</td><td>32</td></tr><tr><td>Canada</td><td>christmas</td><td>36</td></tr><tr><td>Colombia</td><td>finance</td><td>135</td></tr><tr><td>Costa Rica</td><td>home-decor</td><td>34</td></tr><tr><td>Bhutan</td><td>diy-and-crafts</td><td>55</td></tr><tr><td>Benin</td><td>beauty</td><td>18</td></tr><tr><td>Bangladesh</td><td>education</td><td>27</td></tr><tr><td>Mongolia</td><td>mens-fashion</td><td>36</td></tr><tr><td>Angola</td><td>diy-and-crafts</td><td>106</td></tr><tr><td>Korea</td><td>travel</td><td>34</td></tr><tr><td>Argentina</td><td>diy-and-crafts</td><td>85</td></tr><tr><td>Bermuda</td><td>christmas</td><td>103</td></tr><tr><td>Andorra</td><td>education</td><td>54</td></tr><tr><td>Montserrat</td><td>quotes</td><td>1</td></tr><tr><td>Somalia</td><td>diy-and-crafts</td><td>9</td></tr><tr><td>Benin</td><td>tattoos</td><td>46</td></tr><tr><td>Benin</td><td>travel</td><td>45</td></tr><tr><td>Congo</td><td>finance</td><td>27</td></tr><tr><td>Cote d'Ivoire</td><td>beauty</td><td>18</td></tr><tr><td>Martinique</td><td>quotes</td><td>25</td></tr><tr><td>Croatia</td><td>beauty</td><td>10</td></tr><tr><td>Egypt</td><td>vehicles</td><td>9</td></tr><tr><td>Cameroon</td><td>diy-and-crafts</td><td>18</td></tr><tr><td>Bahamas</td><td>vehicles</td><td>68</td></tr><tr><td>Monaco</td><td>vehicles</td><td>49</td></tr><tr><td>Botswana</td><td>vehicles</td><td>1</td></tr><tr><td>Belize</td><td>diy-and-crafts</td><td>109</td></tr><tr><td>Monaco</td><td>mens-fashion</td><td>9</td></tr><tr><td>Bangladesh</td><td>art</td><td>78</td></tr><tr><td>Tajikistan</td><td>beauty</td><td>18</td></tr><tr><td>Honduras</td><td>travel</td><td>4</td></tr><tr><td>Egypt</td><td>mens-fashion</td><td>49</td></tr><tr><td>Afghanistan</td><td>vehicles</td><td>65</td></tr><tr><td>Cayman Islands</td><td>mens-fashion</td><td>9</td></tr><tr><td>Nepal</td><td>christmas</td><td>9</td></tr><tr><td>Gibraltar</td><td>event-planning</td><td>10</td></tr><tr><td>Belgium</td><td>diy-and-crafts</td><td>59</td></tr><tr><td>Isle of Man</td><td>travel</td><td>36</td></tr><tr><td>Burkina Faso</td><td>travel</td><td>9</td></tr><tr><td>Dominica</td><td>diy-and-crafts</td><td>36</td></tr><tr><td>Fiji</td><td>education</td><td>16</td></tr><tr><td>Micronesia</td><td>christmas</td><td>9</td></tr><tr><td>Serbia</td><td>vehicles</td><td>16</td></tr><tr><td>Mauritania</td><td>home-decor</td><td>1</td></tr><tr><td>Costa Rica</td><td>tattoos</td><td>10</td></tr><tr><td>Moldova</td><td>home-decor</td><td>16</td></tr><tr><td>Croatia</td><td>finance</td><td>86</td></tr><tr><td>Bangladesh</td><td>diy-and-crafts</td><td>18</td></tr><tr><td>Montserrat</td><td>art</td><td>36</td></tr><tr><td>Monaco</td><td>art</td><td>45</td></tr><tr><td>Austria</td><td>diy-and-crafts</td><td>9</td></tr><tr><td>Kiribati</td><td>christmas</td><td>9</td></tr><tr><td>Lesotho</td><td>tattoos</td><td>25</td></tr><tr><td>Georgia</td><td>diy-and-crafts</td><td>18</td></tr><tr><td>Norfolk Island</td><td>event-planning</td><td>16</td></tr><tr><td>Austria</td><td>event-planning</td><td>34</td></tr><tr><td>Venezuela</td><td>quotes</td><td>49</td></tr><tr><td>Australia</td><td>vehicles</td><td>9</td></tr><tr><td>Bhutan</td><td>christmas</td><td>9</td></tr><tr><td>Armenia</td><td>tattoos</td><td>25</td></tr><tr><td>Bangladesh</td><td>christmas</td><td>159</td></tr><tr><td>Canada</td><td>event-planning</td><td>13</td></tr><tr><td>Monaco</td><td>education</td><td>9</td></tr><tr><td>Ireland</td><td>tattoos</td><td>9</td></tr><tr><td>Namibia</td><td>vehicles</td><td>49</td></tr><tr><td>Macedonia</td><td>tattoos</td><td>25</td></tr><tr><td>Kazakhstan</td><td>christmas</td><td>36</td></tr><tr><td>Cameroon</td><td>vehicles</td><td>9</td></tr><tr><td>Brazil</td><td>home-decor</td><td>13</td></tr><tr><td>Bahamas</td><td>travel</td><td>45</td></tr><tr><td>Malawi</td><td>vehicles</td><td>9</td></tr><tr><td>Congo</td><td>art</td><td>94</td></tr><tr><td>Vanuatu</td><td>education</td><td>9</td></tr><tr><td>Australia</td><td>education</td><td>73</td></tr><tr><td>Taiwan</td><td>christmas</td><td>9</td></tr><tr><td>Armenia</td><td>art</td><td>118</td></tr><tr><td>Nicaragua</td><td>home-decor</td><td>18</td></tr><tr><td>New Zealand</td><td>quotes</td><td>18</td></tr><tr><td>Burkina Faso</td><td>home-decor</td><td>18</td></tr><tr><td>Lesotho</td><td>beauty</td><td>9</td></tr><tr><td>Madagascar</td><td>finance</td><td>9</td></tr><tr><td>Singapore</td><td>education</td><td>36</td></tr><tr><td>Ethiopia</td><td>travel</td><td>16</td></tr><tr><td>New Caledonia</td><td>travel</td><td>18</td></tr><tr><td>Grenada</td><td>finance</td><td>25</td></tr><tr><td>Ecuador</td><td>art</td><td>25</td></tr><tr><td>Nicaragua</td><td>vehicles</td><td>36</td></tr><tr><td>Nauru</td><td>travel</td><td>49</td></tr><tr><td>Hong Kong</td><td>home-decor</td><td>18</td></tr><tr><td>Tunisia</td><td>diy-and-crafts</td><td>36</td></tr><tr><td>Norfolk Island</td><td>beauty</td><td>36</td></tr><tr><td>Egypt</td><td>quotes</td><td>36</td></tr><tr><td>Gibraltar</td><td>vehicles</td><td>36</td></tr><tr><td>Anguilla</td><td>beauty</td><td>55</td></tr><tr><td>San Marino</td><td>home-decor</td><td>18</td></tr><tr><td>Togo</td><td>vehicles</td><td>9</td></tr><tr><td>Nauru</td><td>beauty</td><td>61</td></tr><tr><td>Jamaica</td><td>finance</td><td>45</td></tr><tr><td>Albania</td><td>christmas</td><td>99</td></tr><tr><td>Somalia</td><td>event-planning</td><td>9</td></tr><tr><td>Lebanon</td><td>beauty</td><td>9</td></tr><tr><td>Belize</td><td>education</td><td>72</td></tr><tr><td>Maldives</td><td>beauty</td><td>80</td></tr><tr><td>Algeria</td><td>beauty</td><td>36</td></tr><tr><td>Vanuatu</td><td>quotes</td><td>9</td></tr><tr><td>Liechtenstein</td><td>quotes</td><td>49</td></tr><tr><td>Austria</td><td>tattoos</td><td>99</td></tr><tr><td>Algeria</td><td>christmas</td><td>63</td></tr><tr><td>Palau</td><td>education</td><td>9</td></tr><tr><td>Isle of Man</td><td>home-decor</td><td>9</td></tr><tr><td>Algeria</td><td>mens-fashion</td><td>198</td></tr><tr><td>Canada</td><td>education</td><td>10</td></tr><tr><td>Grenada</td><td>quotes</td><td>18</td></tr><tr><td>Uganda</td><td>event-planning</td><td>27</td></tr><tr><td>Haiti</td><td>christmas</td><td>9</td></tr><tr><td>Yemen</td><td>beauty</td><td>9</td></tr><tr><td>Kuwait</td><td>quotes</td><td>36</td></tr><tr><td>American Samoa</td><td>art</td><td>105</td></tr><tr><td>Cameroon</td><td>art</td><td>61</td></tr><tr><td>Aruba</td><td>education</td><td>180</td></tr><tr><td>Tajikistan</td><td>event-planning</td><td>9</td></tr><tr><td>Brazil</td><td>finance</td><td>30</td></tr><tr><td>Austria</td><td>education</td><td>25</td></tr><tr><td>Cote d'Ivoire</td><td>event-planning</td><td>27</td></tr><tr><td>Aruba</td><td>travel</td><td>79</td></tr><tr><td>Cape Verde</td><td>event-planning</td><td>18</td></tr><tr><td>Armenia</td><td>quotes</td><td>36</td></tr><tr><td>Comoros</td><td>christmas</td><td>13</td></tr><tr><td>Bahrain</td><td>christmas</td><td>10</td></tr><tr><td>Guinea</td><td>vehicles</td><td>10</td></tr><tr><td>Guernsey</td><td>tattoos</td><td>13</td></tr><tr><td>Aruba</td><td>event-planning</td><td>95</td></tr><tr><td>Comoros</td><td>education</td><td>36</td></tr><tr><td>Australia</td><td>travel</td><td>54</td></tr><tr><td>Albania</td><td>diy-and-crafts</td><td>187</td></tr><tr><td>Brazil</td><td>christmas</td><td>25</td></tr><tr><td>Andorra</td><td>beauty</td><td>36</td></tr><tr><td>Cyprus</td><td>home-decor</td><td>45</td></tr><tr><td>Ecuador</td><td>vehicles</td><td>18</td></tr><tr><td>Algeria</td><td>tattoos</td><td>72</td></tr><tr><td>Cuba</td><td>beauty</td><td>10</td></tr><tr><td>Korea</td><td>beauty</td><td>34</td></tr><tr><td>Latvia</td><td>mens-fashion</td><td>81</td></tr><tr><td>Armenia</td><td>mens-fashion</td><td>9</td></tr><tr><td>Argentina</td><td>finance</td><td>52</td></tr><tr><td>Cyprus</td><td>quotes</td><td>25</td></tr><tr><td>San Marino</td><td>quotes</td><td>9</td></tr><tr><td>Somalia</td><td>travel</td><td>9</td></tr><tr><td>Azerbaijan</td><td>art</td><td>9</td></tr><tr><td>Bermuda</td><td>diy-and-crafts</td><td>36</td></tr><tr><td>Saint Martin</td><td>christmas</td><td>16</td></tr><tr><td>Angola</td><td>event-planning</td><td>10</td></tr><tr><td>Ecuador</td><td>travel</td><td>18</td></tr><tr><td>Namibia</td><td>event-planning</td><td>36</td></tr><tr><td>Armenia</td><td>education</td><td>27</td></tr><tr><td>New Zealand</td><td>mens-fashion</td><td>13</td></tr><tr><td>Cape Verde</td><td>education</td><td>81</td></tr><tr><td>Bulgaria</td><td>mens-fashion</td><td>16</td></tr><tr><td>Bahrain</td><td>finance</td><td>79</td></tr><tr><td>Comoros</td><td>quotes</td><td>45</td></tr><tr><td>Isle of Man</td><td>diy-and-crafts</td><td>2</td></tr><tr><td>Saint Helena</td><td>tattoos</td><td>9</td></tr><tr><td>Andorra</td><td>tattoos</td><td>173</td></tr><tr><td>Chile</td><td>travel</td><td>25</td></tr><tr><td>Montserrat</td><td>event-planning</td><td>16</td></tr><tr><td>Anguilla</td><td>tattoos</td><td>28</td></tr><tr><td>Georgia</td><td>quotes</td><td>9</td></tr><tr><td>Uganda</td><td>christmas</td><td>32</td></tr><tr><td>Cyprus</td><td>beauty</td><td>4</td></tr><tr><td>Albania</td><td>art</td><td>419</td></tr><tr><td>Mauritania</td><td>education</td><td>36</td></tr><tr><td>Argentina</td><td>event-planning</td><td>45</td></tr><tr><td>Denmark</td><td>travel</td><td>4</td></tr><tr><td>Australia</td><td>home-decor</td><td>45</td></tr><tr><td>Poland</td><td>beauty</td><td>9</td></tr><tr><td>Bhutan</td><td>finance</td><td>18</td></tr><tr><td>Philippines</td><td>event-planning</td><td>36</td></tr><tr><td>Albania</td><td>tattoos</td><td>78</td></tr><tr><td>Cape Verde</td><td>home-decor</td><td>36</td></tr><tr><td>Guernsey</td><td>mens-fashion</td><td>9</td></tr><tr><td>Algeria</td><td>travel</td><td>159</td></tr><tr><td>Egypt</td><td>education</td><td>9</td></tr><tr><td>Nigeria</td><td>mens-fashion</td><td>9</td></tr><tr><td>Angola</td><td>home-decor</td><td>27</td></tr><tr><td>Cameroon</td><td>travel</td><td>46</td></tr><tr><td>Mongolia</td><td>tattoos</td><td>9</td></tr><tr><td>Azerbaijan</td><td>beauty</td><td>14</td></tr><tr><td>Comoros</td><td>event-planning</td><td>18</td></tr><tr><td>Zambia</td><td>mens-fashion</td><td>9</td></tr><tr><td>Nigeria</td><td>event-planning</td><td>9</td></tr><tr><td>Indonesia</td><td>finance</td><td>83</td></tr><tr><td>Bolivia</td><td>beauty</td><td>45</td></tr><tr><td>Andorra</td><td>christmas</td><td>54</td></tr><tr><td>Azerbaijan</td><td>event-planning</td><td>113</td></tr><tr><td>Cyprus</td><td>vehicles</td><td>18</td></tr><tr><td>Chile</td><td>mens-fashion</td><td>19</td></tr><tr><td>Mauritania</td><td>travel</td><td>1</td></tr><tr><td>Bulgaria</td><td>event-planning</td><td>27</td></tr><tr><td>Algeria</td><td>quotes</td><td>645</td></tr><tr><td>Armenia</td><td>home-decor</td><td>36</td></tr><tr><td>Austria</td><td>home-decor</td><td>97</td></tr><tr><td>Burundi</td><td>christmas</td><td>18</td></tr><tr><td>Albania</td><td>quotes</td><td>141</td></tr><tr><td>Canada</td><td>tattoos</td><td>9</td></tr><tr><td>Saint Helena</td><td>mens-fashion</td><td>9</td></tr><tr><td>Andorra</td><td>art</td><td>90</td></tr><tr><td>Congo</td><td>home-decor</td><td>34</td></tr><tr><td>Cyprus</td><td>travel</td><td>9</td></tr><tr><td>Gibraltar</td><td>education</td><td>9</td></tr><tr><td>Puerto Rico</td><td>event-planning</td><td>25</td></tr><tr><td>Bhutan</td><td>mens-fashion</td><td>9</td></tr><tr><td>Croatia</td><td>mens-fashion</td><td>9</td></tr><tr><td>Hong Kong</td><td>event-planning</td><td>9</td></tr><tr><td>Gibraltar</td><td>art</td><td>36</td></tr><tr><td>Tajikistan</td><td>travel</td><td>9</td></tr><tr><td>India</td><td>event-planning</td><td>18</td></tr><tr><td>Guinea</td><td>diy-and-crafts</td><td>16</td></tr><tr><td>Kuwait</td><td>diy-and-crafts</td><td>36</td></tr><tr><td>Bangladesh</td><td>home-decor</td><td>68</td></tr><tr><td>Lebanon</td><td>quotes</td><td>27</td></tr><tr><td>Belarus</td><td>travel</td><td>21</td></tr><tr><td>Montenegro</td><td>finance</td><td>9</td></tr><tr><td>Luxembourg</td><td>diy-and-crafts</td><td>9</td></tr><tr><td>Sweden</td><td>event-planning</td><td>9</td></tr><tr><td>Albania</td><td>mens-fashion</td><td>623</td></tr><tr><td>Guinea</td><td>finance</td><td>36</td></tr><tr><td>Czech Republic</td><td>christmas</td><td>9</td></tr><tr><td>Bangladesh</td><td>finance</td><td>90</td></tr><tr><td>Albania</td><td>event-planning</td><td>18</td></tr><tr><td>Korea</td><td>mens-fashion</td><td>18</td></tr><tr><td>French Guiana</td><td>education</td><td>25</td></tr><tr><td>Anguilla</td><td>diy-and-crafts</td><td>136</td></tr><tr><td>Algeria</td><td>art</td><td>45</td></tr><tr><td>India</td><td>diy-and-crafts</td><td>64</td></tr><tr><td>Tunisia</td><td>travel</td><td>49</td></tr><tr><td>Anguilla</td><td>home-decor</td><td>107</td></tr><tr><td>Bermuda</td><td>vehicles</td><td>49</td></tr><tr><td>Anguilla</td><td>christmas</td><td>35</td></tr><tr><td>Malta</td><td>beauty</td><td>43</td></tr><tr><td>Gibraltar</td><td>travel</td><td>18</td></tr><tr><td>Canada</td><td>art</td><td>16</td></tr><tr><td>Guyana</td><td>diy-and-crafts</td><td>9</td></tr><tr><td>Tanzania</td><td>art</td><td>36</td></tr><tr><td>Romania</td><td>vehicles</td><td>9</td></tr><tr><td>Pakistan</td><td>christmas</td><td>36</td></tr><tr><td>Dominica</td><td>event-planning</td><td>34</td></tr><tr><td>Bolivia</td><td>finance</td><td>19</td></tr><tr><td>Bahamas</td><td>mens-fashion</td><td>4</td></tr><tr><td>Sudan</td><td>mens-fashion</td><td>80</td></tr><tr><td>Lesotho</td><td>art</td><td>171</td></tr><tr><td>Tokelau</td><td>beauty</td><td>9</td></tr><tr><td>Italy</td><td>beauty</td><td>10</td></tr><tr><td>Bahamas</td><td>event-planning</td><td>103</td></tr><tr><td>Aruba</td><td>vehicles</td><td>84</td></tr><tr><td>Tuvalu</td><td>tattoos</td><td>36</td></tr><tr><td>Croatia</td><td>education</td><td>9</td></tr><tr><td>Peru</td><td>vehicles</td><td>16</td></tr><tr><td>Netherlands</td><td>christmas</td><td>25</td></tr><tr><td>Lebanon</td><td>mens-fashion</td><td>36</td></tr><tr><td>Angola</td><td>beauty</td><td>27</td></tr><tr><td>Panama</td><td>travel</td><td>121</td></tr><tr><td>Cape Verde</td><td>diy-and-crafts</td><td>45</td></tr><tr><td>Belize</td><td>mens-fashion</td><td>41</td></tr><tr><td>Kuwait</td><td>christmas</td><td>25</td></tr><tr><td>Argentina</td><td>christmas</td><td>36</td></tr><tr><td>France</td><td>beauty</td><td>34</td></tr><tr><td>Belarus</td><td>art</td><td>9</td></tr><tr><td>Benin</td><td>christmas</td><td>9</td></tr><tr><td>Afghanistan</td><td>quotes</td><td>250</td></tr><tr><td>Burkina Faso</td><td>diy-and-crafts</td><td>9</td></tr><tr><td>Belgium</td><td>christmas</td><td>18</td></tr><tr><td>Bahamas</td><td>christmas</td><td>27</td></tr><tr><td>Norway</td><td>travel</td><td>36</td></tr><tr><td>Azerbaijan</td><td>education</td><td>18</td></tr><tr><td>Guadeloupe</td><td>vehicles</td><td>9</td></tr><tr><td>Comoros</td><td>beauty</td><td>5</td></tr><tr><td>Turkey</td><td>education</td><td>45</td></tr><tr><td>Angola</td><td>education</td><td>43</td></tr><tr><td>Albania</td><td>beauty</td><td>249</td></tr><tr><td>Bahamas</td><td>diy-and-crafts</td><td>42</td></tr><tr><td>Egypt</td><td>beauty</td><td>9</td></tr><tr><td>Cape Verde</td><td>quotes</td><td>4</td></tr><tr><td>Lebanon</td><td>vehicles</td><td>9</td></tr><tr><td>Argentina</td><td>tattoos</td><td>243</td></tr><tr><td>Greece</td><td>mens-fashion</td><td>63</td></tr><tr><td>Djibouti</td><td>home-decor</td><td>1</td></tr><tr><td>Jamaica</td><td>home-decor</td><td>9</td></tr><tr><td>Iceland</td><td>tattoos</td><td>9</td></tr><tr><td>Norfolk Island</td><td>mens-fashion</td><td>40</td></tr><tr><td>Lithuania</td><td>art</td><td>9</td></tr><tr><td>El Salvador</td><td>travel</td><td>9</td></tr><tr><td>Djibouti</td><td>art</td><td>9</td></tr><tr><td>Ukraine</td><td>beauty</td><td>9</td></tr><tr><td>Bahamas</td><td>finance</td><td>18</td></tr><tr><td>Congo</td><td>christmas</td><td>18</td></tr><tr><td>Dominica</td><td>christmas</td><td>5</td></tr><tr><td>Dominica</td><td>art</td><td>9</td></tr><tr><td>Belgium</td><td>travel</td><td>34</td></tr><tr><td>Singapore</td><td>art</td><td>9</td></tr><tr><td>Bahrain</td><td>travel</td><td>66</td></tr><tr><td>Pakistan</td><td>vehicles</td><td>9</td></tr><tr><td>Gambia</td><td>travel</td><td>9</td></tr><tr><td>Austria</td><td>finance</td><td>52</td></tr><tr><td>Burundi</td><td>beauty</td><td>9</td></tr><tr><td>Djibouti</td><td>beauty</td><td>9</td></tr><tr><td>Armenia</td><td>travel</td><td>25</td></tr><tr><td>Portugal</td><td>event-planning</td><td>9</td></tr><tr><td>Denmark</td><td>education</td><td>10</td></tr><tr><td>Georgia</td><td>art</td><td>9</td></tr><tr><td>Colombia</td><td>event-planning</td><td>9</td></tr><tr><td>Kuwait</td><td>beauty</td><td>9</td></tr><tr><td>Djibouti</td><td>event-planning</td><td>9</td></tr><tr><td>Palau</td><td>vehicles</td><td>1</td></tr><tr><td>Ireland</td><td>mens-fashion</td><td>9</td></tr><tr><td>Croatia</td><td>christmas</td><td>18</td></tr><tr><td>Egypt</td><td>finance</td><td>45</td></tr><tr><td>Ethiopia</td><td>diy-and-crafts</td><td>1</td></tr><tr><td>Cote d'Ivoire</td><td>finance</td><td>34</td></tr><tr><td>Eritrea</td><td>art</td><td>9</td></tr><tr><td>Reunion</td><td>home-decor</td><td>9</td></tr><tr><td>Algeria</td><td>diy-and-crafts</td><td>9</td></tr><tr><td>Germany</td><td>education</td><td>9</td></tr><tr><td>Eritrea</td><td>diy-and-crafts</td><td>9</td></tr><tr><td>Martinique</td><td>art</td><td>9</td></tr><tr><td>French Guiana</td><td>finance</td><td>13</td></tr><tr><td>American Samoa</td><td>travel</td><td>97</td></tr><tr><td>Netherlands</td><td>art</td><td>9</td></tr><tr><td>United Kingdom</td><td>quotes</td><td>9</td></tr><tr><td>Belize</td><td>quotes</td><td>1</td></tr><tr><td>Anguilla</td><td>event-planning</td><td>16</td></tr><tr><td>Botswana</td><td>art</td><td>18</td></tr><tr><td>Burundi</td><td>mens-fashion</td><td>77</td></tr><tr><td>Greece</td><td>travel</td><td>9</td></tr><tr><td>Mauritania</td><td>christmas</td><td>9</td></tr><tr><td>Czech Republic</td><td>beauty</td><td>9</td></tr><tr><td>Bahrain</td><td>diy-and-crafts</td><td>18</td></tr><tr><td>Algeria</td><td>event-planning</td><td>10</td></tr><tr><td>Belize</td><td>finance</td><td>9</td></tr><tr><td>Palau</td><td>travel</td><td>4</td></tr><tr><td>Jamaica</td><td>education</td><td>36</td></tr><tr><td>Belgium</td><td>art</td><td>9</td></tr><tr><td>Macao</td><td>vehicles</td><td>50</td></tr><tr><td>Indonesia</td><td>art</td><td>36</td></tr><tr><td>Azerbaijan</td><td>home-decor</td><td>67</td></tr><tr><td>Chile</td><td>education</td><td>4</td></tr><tr><td>Kuwait</td><td>event-planning</td><td>9</td></tr><tr><td>Maldives</td><td>education</td><td>9</td></tr><tr><td>Belarus</td><td>event-planning</td><td>18</td></tr><tr><td>Belarus</td><td>christmas</td><td>10</td></tr><tr><td>Nicaragua</td><td>tattoos</td><td>9</td></tr><tr><td>Algeria</td><td>vehicles</td><td>14</td></tr><tr><td>Korea</td><td>home-decor</td><td>9</td></tr><tr><td>Barbados</td><td>art</td><td>63</td></tr><tr><td>Cambodia</td><td>education</td><td>18</td></tr><tr><td>Albania</td><td>education</td><td>118</td></tr><tr><td>Hungary</td><td>vehicles</td><td>27</td></tr><tr><td>Bhutan</td><td>beauty</td><td>18</td></tr><tr><td>Czech Republic</td><td>travel</td><td>36</td></tr><tr><td>Hungary</td><td>event-planning</td><td>29</td></tr><tr><td>American Samoa</td><td>christmas</td><td>52</td></tr><tr><td>Angola</td><td>finance</td><td>9</td></tr><tr><td>China</td><td>vehicles</td><td>9</td></tr><tr><td>Mexico</td><td>home-decor</td><td>13</td></tr><tr><td>Liberia</td><td>vehicles</td><td>4</td></tr><tr><td>Mayotte</td><td>diy-and-crafts</td><td>36</td></tr><tr><td>Congo</td><td>travel</td><td>34</td></tr><tr><td>Albania</td><td>home-decor</td><td>72</td></tr><tr><td>Cambodia</td><td>christmas</td><td>18</td></tr><tr><td>Dominica</td><td>mens-fashion</td><td>9</td></tr><tr><td>Bahrain</td><td>home-decor</td><td>9</td></tr><tr><td>Belize</td><td>home-decor</td><td>9</td></tr><tr><td>Myanmar</td><td>christmas</td><td>10</td></tr><tr><td>Costa Rica</td><td>christmas</td><td>58</td></tr><tr><td>Austria</td><td>travel</td><td>114</td></tr><tr><td>American Samoa</td><td>tattoos</td><td>242</td></tr><tr><td>Japan</td><td>tattoos</td><td>4</td></tr><tr><td>Angola</td><td>travel</td><td>9</td></tr><tr><td>Thailand</td><td>event-planning</td><td>9</td></tr><tr><td>Guyana</td><td>home-decor</td><td>9</td></tr><tr><td>France</td><td>art</td><td>18</td></tr><tr><td>Cyprus</td><td>diy-and-crafts</td><td>1</td></tr><tr><td>Mexico</td><td>vehicles</td><td>18</td></tr><tr><td>Ethiopia</td><td>home-decor</td><td>16</td></tr><tr><td>Ukraine</td><td>christmas</td><td>9</td></tr><tr><td>Liberia</td><td>christmas</td><td>9</td></tr><tr><td>Poland</td><td>diy-and-crafts</td><td>1</td></tr><tr><td>Solomon Islands</td><td>art</td><td>64</td></tr><tr><td>Singapore</td><td>christmas</td><td>9</td></tr><tr><td>Cote d'Ivoire</td><td>quotes</td><td>18</td></tr><tr><td>Kyrgyz Republic</td><td>mens-fashion</td><td>9</td></tr><tr><td>Ethiopia</td><td>quotes</td><td>4</td></tr><tr><td>Liechtenstein</td><td>event-planning</td><td>9</td></tr><tr><td>Cayman Islands</td><td>diy-and-crafts</td><td>4</td></tr><tr><td>Germany</td><td>event-planning</td><td>45</td></tr><tr><td>Namibia</td><td>finance</td><td>9</td></tr><tr><td>Sri Lanka</td><td>finance</td><td>9</td></tr><tr><td>Turkey</td><td>beauty</td><td>9</td></tr><tr><td>Bolivia</td><td>diy-and-crafts</td><td>89</td></tr><tr><td>Benin</td><td>education</td><td>13</td></tr><tr><td>Vietnam</td><td>home-decor</td><td>1</td></tr><tr><td>Burundi</td><td>home-decor</td><td>9</td></tr><tr><td>Barbados</td><td>travel</td><td>119</td></tr><tr><td>Venezuela</td><td>event-planning</td><td>9</td></tr><tr><td>American Samoa</td><td>quotes</td><td>54</td></tr><tr><td>Cote d'Ivoire</td><td>diy-and-crafts</td><td>89</td></tr><tr><td>Malawi</td><td>beauty</td><td>9</td></tr><tr><td>Bahamas</td><td>home-decor</td><td>19</td></tr><tr><td>Guernsey</td><td>home-decor</td><td>9</td></tr><tr><td>Cuba</td><td>diy-and-crafts</td><td>22</td></tr><tr><td>Bermuda</td><td>mens-fashion</td><td>34</td></tr><tr><td>Guernsey</td><td>art</td><td>1</td></tr><tr><td>Croatia</td><td>tattoos</td><td>9</td></tr><tr><td>Cote d'Ivoire</td><td>travel</td><td>45</td></tr><tr><td>Algeria</td><td>home-decor</td><td>25</td></tr><tr><td>France</td><td>travel</td><td>1</td></tr><tr><td>Israel</td><td>mens-fashion</td><td>4</td></tr><tr><td>Bermuda</td><td>education</td><td>9</td></tr><tr><td>Western Sahara</td><td>travel</td><td>36</td></tr><tr><td>Cayman Islands</td><td>art</td><td>9</td></tr><tr><td>Martinique</td><td>event-planning</td><td>9</td></tr><tr><td>Ethiopia</td><td>art</td><td>31</td></tr><tr><td>Djibouti</td><td>vehicles</td><td>10</td></tr><tr><td>Jordan</td><td>beauty</td><td>4</td></tr><tr><td>Portugal</td><td>beauty</td><td>1</td></tr><tr><td>Argentina</td><td>quotes</td><td>59</td></tr><tr><td>Afghanistan</td><td>art</td><td>45</td></tr><tr><td>Cook Islands</td><td>vehicles</td><td>9</td></tr><tr><td>Cote d'Ivoire</td><td>christmas</td><td>27</td></tr><tr><td>Estonia</td><td>vehicles</td><td>32</td></tr><tr><td>France</td><td>home-decor</td><td>1</td></tr><tr><td>Israel</td><td>christmas</td><td>1</td></tr><tr><td>Congo</td><td>diy-and-crafts</td><td>4</td></tr><tr><td>Solomon Islands</td><td>vehicles</td><td>52</td></tr><tr><td>Zambia</td><td>vehicles</td><td>9</td></tr><tr><td>Solomon Islands</td><td>christmas</td><td>9</td></tr><tr><td>Comoros</td><td>mens-fashion</td><td>9</td></tr><tr><td>Liberia</td><td>travel</td><td>9</td></tr><tr><td>Burundi</td><td>diy-and-crafts</td><td>9</td></tr><tr><td>Bhutan</td><td>home-decor</td><td>1</td></tr><tr><td>Rwanda</td><td>travel</td><td>36</td></tr><tr><td>Benin</td><td>finance</td><td>22</td></tr><tr><td>Ghana</td><td>finance</td><td>9</td></tr><tr><td>Suriname</td><td>event-planning</td><td>9</td></tr><tr><td>Uganda</td><td>beauty</td><td>16</td></tr><tr><td>Chad</td><td>mens-fashion</td><td>19</td></tr><tr><td>Anguilla</td><td>education</td><td>45</td></tr><tr><td>Angola</td><td>art</td><td>25</td></tr><tr><td>Nepal</td><td>mens-fashion</td><td>9</td></tr><tr><td>Qatar</td><td>finance</td><td>9</td></tr><tr><td>Equatorial Guinea</td><td>event-planning</td><td>9</td></tr><tr><td>Bouvet Island (Bouvetoya)</td><td>event-planning</td><td>44</td></tr><tr><td>Saint Barthelemy</td><td>mens-fashion</td><td>25</td></tr><tr><td>Cuba</td><td>vehicles</td><td>9</td></tr><tr><td>Central African Republic</td><td>christmas</td><td>42</td></tr><tr><td>Jordan</td><td>vehicles</td><td>9</td></tr><tr><td>Cocos (Keeling) Islands</td><td>christmas</td><td>9</td></tr><tr><td>Belarus</td><td>home-decor</td><td>9</td></tr><tr><td>Israel</td><td>art</td><td>16</td></tr><tr><td>Bulgaria</td><td>education</td><td>34</td></tr><tr><td>Vietnam</td><td>travel</td><td>9</td></tr><tr><td>Madagascar</td><td>mens-fashion</td><td>9</td></tr><tr><td>Afghanistan</td><td>finance</td><td>76</td></tr><tr><td>Libyan Arab Jamahiriya</td><td>christmas</td><td>34</td></tr><tr><td>Guinea</td><td>travel</td><td>4</td></tr><tr><td>Japan</td><td>vehicles</td><td>9</td></tr><tr><td>Ecuador</td><td>home-decor</td><td>18</td></tr><tr><td>Tonga</td><td>beauty</td><td>36</td></tr><tr><td>Kyrgyz Republic</td><td>vehicles</td><td>9</td></tr><tr><td>Malta</td><td>art</td><td>49</td></tr><tr><td>Morocco</td><td>vehicles</td><td>36</td></tr><tr><td>Niue</td><td>quotes</td><td>41</td></tr><tr><td>Cocos (Keeling) Islands</td><td>beauty</td><td>9</td></tr><tr><td>Christmas Island</td><td>vehicles</td><td>45</td></tr><tr><td>French Polynesia</td><td>quotes</td><td>16</td></tr><tr><td>Grenada</td><td>mens-fashion</td><td>9</td></tr><tr><td>Niue</td><td>tattoos</td><td>16</td></tr><tr><td>Dominican Republic</td><td>travel</td><td>90</td></tr><tr><td>Iraq</td><td>christmas</td><td>9</td></tr><tr><td>Russian Federation</td><td>christmas</td><td>9</td></tr><tr><td>Benin</td><td>quotes</td><td>16</td></tr><tr><td>Bosnia and Herzegovina</td><td>christmas</td><td>43</td></tr><tr><td>British Virgin Islands</td><td>education</td><td>36</td></tr><tr><td>Benin</td><td>diy-and-crafts</td><td>16</td></tr><tr><td>Namibia</td><td>christmas</td><td>9</td></tr><tr><td>Thailand</td><td>home-decor</td><td>9</td></tr><tr><td>Pitcairn Islands</td><td>diy-and-crafts</td><td>45</td></tr><tr><td>Congo</td><td>beauty</td><td>16</td></tr><tr><td>Malta</td><td>event-planning</td><td>9</td></tr><tr><td>Wallis and Futuna</td><td>home-decor</td><td>81</td></tr><tr><td>Kazakhstan</td><td>tattoos</td><td>9</td></tr><tr><td>Greenland</td><td>travel</td><td>9</td></tr><tr><td>Liberia</td><td>beauty</td><td>9</td></tr><tr><td>British Virgin Islands</td><td>diy-and-crafts</td><td>25</td></tr><tr><td>Iraq</td><td>tattoos</td><td>13</td></tr><tr><td>Afghanistan</td><td>christmas</td><td>25</td></tr><tr><td>Germany</td><td>finance</td><td>34</td></tr><tr><td>Cuba</td><td>education</td><td>8</td></tr><tr><td>Dominican Republic</td><td>home-decor</td><td>116</td></tr><tr><td>Bosnia and Herzegovina</td><td>travel</td><td>16</td></tr><tr><td>Belarus</td><td>vehicles</td><td>25</td></tr><tr><td>Czech Republic</td><td>event-planning</td><td>25</td></tr><tr><td>Norway</td><td>art</td><td>25</td></tr><tr><td>Botswana</td><td>tattoos</td><td>181</td></tr><tr><td>China</td><td>quotes</td><td>9</td></tr><tr><td>Swaziland</td><td>quotes</td><td>9</td></tr><tr><td>Georgia</td><td>beauty</td><td>10</td></tr><tr><td>Japan</td><td>art</td><td>26</td></tr><tr><td>Liberia</td><td>event-planning</td><td>9</td></tr><tr><td>Aruba</td><td>diy-and-crafts</td><td>45</td></tr><tr><td>Solomon Islands</td><td>mens-fashion</td><td>25</td></tr><tr><td>Samoa</td><td>diy-and-crafts</td><td>16</td></tr><tr><td>Aruba</td><td>art</td><td>153</td></tr><tr><td>United States of America</td><td>tattoos</td><td>9</td></tr><tr><td>Ghana</td><td>quotes</td><td>4</td></tr><tr><td>Brunei Darussalam</td><td>finance</td><td>18</td></tr><tr><td>Papua New Guinea</td><td>quotes</td><td>99</td></tr><tr><td>Norway</td><td>home-decor</td><td>9</td></tr><tr><td>Iran</td><td>christmas</td><td>25</td></tr><tr><td>Libyan Arab Jamahiriya</td><td>quotes</td><td>9</td></tr><tr><td>Saint Martin</td><td>quotes</td><td>9</td></tr><tr><td>Botswana</td><td>home-decor</td><td>9</td></tr><tr><td>India</td><td>tattoos</td><td>9</td></tr><tr><td>Korea</td><td>diy-and-crafts</td><td>1</td></tr><tr><td>Kenya</td><td>art</td><td>10</td></tr><tr><td>Barbados</td><td>finance</td><td>13</td></tr><tr><td>Christmas Island</td><td>travel</td><td>90</td></tr><tr><td>Niue</td><td>diy-and-crafts</td><td>9</td></tr><tr><td>India</td><td>finance</td><td>25</td></tr><tr><td>Niger</td><td>christmas</td><td>8</td></tr><tr><td>Guam</td><td>mens-fashion</td><td>9</td></tr><tr><td>Brazil</td><td>event-planning</td><td>16</td></tr><tr><td>Taiwan</td><td>mens-fashion</td><td>9</td></tr><tr><td>Kenya</td><td>home-decor</td><td>9</td></tr><tr><td>British Virgin Islands</td><td>christmas</td><td>91</td></tr><tr><td>Turks and Caicos Islands</td><td>event-planning</td><td>36</td></tr><tr><td>Belgium</td><td>tattoos</td><td>9</td></tr><tr><td>San Marino</td><td>art</td><td>9</td></tr><tr><td>Christmas Island</td><td>event-planning</td><td>27</td></tr><tr><td>Somalia</td><td>vehicles</td><td>9</td></tr><tr><td>Gambia</td><td>art</td><td>4</td></tr><tr><td>Saint Barthelemy</td><td>education</td><td>36</td></tr><tr><td>Micronesia</td><td>travel</td><td>9</td></tr><tr><td>Marshall Islands</td><td>vehicles</td><td>9</td></tr><tr><td>Bhutan</td><td>education</td><td>16</td></tr><tr><td>Azerbaijan</td><td>tattoos</td><td>18</td></tr><tr><td>Brunei Darussalam</td><td>event-planning</td><td>27</td></tr><tr><td>Bangladesh</td><td>travel</td><td>9</td></tr><tr><td>Yemen</td><td>christmas</td><td>9</td></tr><tr><td>French Polynesia</td><td>event-planning</td><td>44</td></tr><tr><td>Sudan</td><td>home-decor</td><td>9</td></tr><tr><td>Niger</td><td>beauty</td><td>9</td></tr><tr><td>Cocos (Keeling) Islands</td><td>event-planning</td><td>18</td></tr><tr><td>Yemen</td><td>home-decor</td><td>9</td></tr><tr><td>Malta</td><td>christmas</td><td>9</td></tr><tr><td>Mozambique</td><td>mens-fashion</td><td>16</td></tr><tr><td>Central African Republic</td><td>education</td><td>26</td></tr><tr><td>Marshall Islands</td><td>home-decor</td><td>36</td></tr><tr><td>Puerto Rico</td><td>christmas</td><td>18</td></tr><tr><td>Guatemala</td><td>diy-and-crafts</td><td>9</td></tr><tr><td>Christmas Island</td><td>home-decor</td><td>19</td></tr><tr><td>Burundi</td><td>education</td><td>9</td></tr><tr><td>Benin</td><td>art</td><td>13</td></tr><tr><td>Japan</td><td>beauty</td><td>9</td></tr><tr><td>Greece</td><td>art</td><td>16</td></tr><tr><td>Andorra</td><td>home-decor</td><td>25</td></tr><tr><td>Belgium</td><td>vehicles</td><td>18</td></tr><tr><td>Nauru</td><td>tattoos</td><td>4</td></tr><tr><td>Afghanistan</td><td>education</td><td>338</td></tr><tr><td>Ireland</td><td>event-planning</td><td>16</td></tr><tr><td>British Virgin Islands</td><td>finance</td><td>16</td></tr><tr><td>Barbados</td><td>education</td><td>93</td></tr><tr><td>British Virgin Islands</td><td>quotes</td><td>16</td></tr><tr><td>Bosnia and Herzegovina</td><td>diy-and-crafts</td><td>10</td></tr><tr><td>Nepal</td><td>finance</td><td>9</td></tr><tr><td>Antigua and Barbuda</td><td>mens-fashion</td><td>18</td></tr><tr><td>Equatorial Guinea</td><td>mens-fashion</td><td>16</td></tr><tr><td>Tokelau</td><td>art</td><td>9</td></tr><tr><td>Fiji</td><td>vehicles</td><td>9</td></tr><tr><td>Cameroon</td><td>christmas</td><td>25</td></tr><tr><td>Turks and Caicos Islands</td><td>vehicles</td><td>9</td></tr><tr><td>Netherlands</td><td>home-decor</td><td>59</td></tr><tr><td>Togo</td><td>mens-fashion</td><td>9</td></tr><tr><td>Mali</td><td>mens-fashion</td><td>9</td></tr><tr><td>Cocos (Keeling) Islands</td><td>finance</td><td>22</td></tr><tr><td>Panama</td><td>beauty</td><td>9</td></tr><tr><td>Greece</td><td>event-planning</td><td>16</td></tr><tr><td>Bangladesh</td><td>event-planning</td><td>9</td></tr><tr><td>Christmas Island</td><td>christmas</td><td>49</td></tr><tr><td>French Polynesia</td><td>diy-and-crafts</td><td>81</td></tr><tr><td>Egypt</td><td>diy-and-crafts</td><td>36</td></tr><tr><td>Chad</td><td>finance</td><td>9</td></tr><tr><td>Ghana</td><td>education</td><td>1</td></tr><tr><td>Niue</td><td>education</td><td>5</td></tr><tr><td>Spain</td><td>christmas</td><td>4</td></tr><tr><td>Bosnia and Herzegovina</td><td>tattoos</td><td>27</td></tr><tr><td>Guatemala</td><td>home-decor</td><td>9</td></tr><tr><td>Guatemala</td><td>christmas</td><td>9</td></tr><tr><td>Pitcairn Islands</td><td>education</td><td>4</td></tr><tr><td>Nepal</td><td>vehicles</td><td>1</td></tr><tr><td>Paraguay</td><td>event-planning</td><td>9</td></tr><tr><td>Dominican Republic</td><td>vehicles</td><td>10</td></tr><tr><td>Central African Republic</td><td>finance</td><td>18</td></tr><tr><td>Cambodia</td><td>vehicles</td><td>81</td></tr><tr><td>Azerbaijan</td><td>diy-and-crafts</td><td>45</td></tr><tr><td>India</td><td>beauty</td><td>25</td></tr><tr><td>Serbia</td><td>travel</td><td>25</td></tr><tr><td>Honduras</td><td>beauty</td><td>9</td></tr><tr><td>Pitcairn Islands</td><td>finance</td><td>10</td></tr><tr><td>Jersey</td><td>mens-fashion</td><td>9</td></tr><tr><td>Antigua and Barbuda</td><td>finance</td><td>27</td></tr><tr><td>Brunei Darussalam</td><td>education</td><td>9</td></tr><tr><td>Oman</td><td>finance</td><td>9</td></tr><tr><td>Iceland</td><td>vehicles</td><td>10</td></tr><tr><td>Haiti</td><td>finance</td><td>9</td></tr><tr><td>Macao</td><td>quotes</td><td>9</td></tr><tr><td>Bulgaria</td><td>finance</td><td>89</td></tr><tr><td>Gabon</td><td>home-decor</td><td>16</td></tr><tr><td>Russian Federation</td><td>finance</td><td>9</td></tr><tr><td>Bouvet Island (Bouvetoya)</td><td>mens-fashion</td><td>18</td></tr><tr><td>Brunei Darussalam</td><td>diy-and-crafts</td><td>25</td></tr><tr><td>Bosnia and Herzegovina</td><td>education</td><td>36</td></tr><tr><td>Jamaica</td><td>travel</td><td>9</td></tr><tr><td>Marshall Islands</td><td>travel</td><td>9</td></tr><tr><td>Gambia</td><td>mens-fashion</td><td>9</td></tr><tr><td>Cuba</td><td>mens-fashion</td><td>25</td></tr><tr><td>Antarctica (the territory South of 60 deg S)</td><td>beauty</td><td>36</td></tr><tr><td>French Guiana</td><td>quotes</td><td>90</td></tr><tr><td>Slovakia (Slovak Republic)</td><td>vehicles</td><td>49</td></tr><tr><td>Cocos (Keeling) Islands</td><td>vehicles</td><td>80</td></tr><tr><td>Fiji</td><td>finance</td><td>16</td></tr><tr><td>Bouvet Island (Bouvetoya)</td><td>diy-and-crafts</td><td>68</td></tr><tr><td>Cape Verde</td><td>beauty</td><td>16</td></tr><tr><td>Saint Lucia</td><td>education</td><td>9</td></tr><tr><td>Afghanistan</td><td>event-planning</td><td>43</td></tr><tr><td>French Polynesia</td><td>art</td><td>9</td></tr><tr><td>Saint Kitts and Nevis</td><td>home-decor</td><td>10</td></tr><tr><td>American Samoa</td><td>mens-fashion</td><td>18</td></tr><tr><td>Antarctica (the territory South of 60 deg S)</td><td>mens-fashion</td><td>18</td></tr><tr><td>Antarctica (the territory South of 60 deg S)</td><td>tattoos</td><td>117</td></tr><tr><td>Russian Federation</td><td>home-decor</td><td>9</td></tr><tr><td>Bouvet Island (Bouvetoya)</td><td>finance</td><td>10</td></tr><tr><td>Cayman Islands</td><td>vehicles</td><td>1</td></tr><tr><td>British Virgin Islands</td><td>vehicles</td><td>10</td></tr><tr><td>United States Virgin Islands</td><td>art</td><td>18</td></tr><tr><td>Antarctica (the territory South of 60 deg S)</td><td>event-planning</td><td>18</td></tr><tr><td>Niger</td><td>art</td><td>16</td></tr><tr><td>Guam</td><td>travel</td><td>36</td></tr><tr><td>Cayman Islands</td><td>travel</td><td>25</td></tr><tr><td>Guinea-Bissau</td><td>vehicles</td><td>36</td></tr><tr><td>New Caledonia</td><td>mens-fashion</td><td>36</td></tr><tr><td>Afghanistan</td><td>mens-fashion</td><td>128</td></tr><tr><td>Nauru</td><td>education</td><td>9</td></tr><tr><td>Falkland Islands (Malvinas)</td><td>christmas</td><td>10</td></tr><tr><td>Cook Islands</td><td>event-planning</td><td>4</td></tr><tr><td>Turkmenistan</td><td>diy-and-crafts</td><td>36</td></tr><tr><td>American Samoa</td><td>diy-and-crafts</td><td>32</td></tr><tr><td>Dominican Republic</td><td>tattoos</td><td>4</td></tr><tr><td>Falkland Islands (Malvinas)</td><td>education</td><td>9</td></tr><tr><td>South Georgia and the South Sandwich Islands</td><td>finance</td><td>9</td></tr><tr><td>Switzerland</td><td>art</td><td>4</td></tr><tr><td>United States of America</td><td>education</td><td>9</td></tr><tr><td>Equatorial Guinea</td><td>christmas</td><td>1</td></tr><tr><td>United States Virgin Islands</td><td>quotes</td><td>25</td></tr><tr><td>Iraq</td><td>diy-and-crafts</td><td>9</td></tr><tr><td>American Samoa</td><td>beauty</td><td>165</td></tr><tr><td>Oman</td><td>beauty</td><td>9</td></tr><tr><td>French Southern Territories</td><td>art</td><td>9</td></tr><tr><td>Costa Rica</td><td>vehicles</td><td>1</td></tr><tr><td>Saudi Arabia</td><td>mens-fashion</td><td>2</td></tr><tr><td>Falkland Islands (Malvinas)</td><td>vehicles</td><td>9</td></tr><tr><td>Netherlands Antilles</td><td>mens-fashion</td><td>36</td></tr><tr><td>Bouvet Island (Bouvetoya)</td><td>vehicles</td><td>9</td></tr><tr><td>Faroe Islands</td><td>tattoos</td><td>36</td></tr><tr><td>Cayman Islands</td><td>christmas</td><td>11</td></tr><tr><td>Azerbaijan</td><td>travel</td><td>36</td></tr><tr><td>Dominican Republic</td><td>finance</td><td>35</td></tr><tr><td>Falkland Islands (Malvinas)</td><td>finance</td><td>9</td></tr><tr><td>Slovakia (Slovak Republic)</td><td>quotes</td><td>9</td></tr><tr><td>French Southern Territories</td><td>finance</td><td>36</td></tr><tr><td>New Zealand</td><td>tattoos</td><td>25</td></tr><tr><td>Antigua and Barbuda</td><td>art</td><td>162</td></tr><tr><td>El Salvador</td><td>quotes</td><td>16</td></tr><tr><td>Central African Republic</td><td>mens-fashion</td><td>34</td></tr><tr><td>Azerbaijan</td><td>quotes</td><td>16</td></tr><tr><td>Cuba</td><td>finance</td><td>9</td></tr><tr><td>French Polynesia</td><td>home-decor</td><td>1</td></tr><tr><td>Netherlands Antilles</td><td>art</td><td>36</td></tr><tr><td>New Caledonia</td><td>art</td><td>36</td></tr><tr><td>Montserrat</td><td>vehicles</td><td>14</td></tr><tr><td>Antigua and Barbuda</td><td>christmas</td><td>166</td></tr><tr><td>Saint Pierre and Miquelon</td><td>mens-fashion</td><td>83</td></tr><tr><td>Equatorial Guinea</td><td>travel</td><td>36</td></tr><tr><td>American Samoa</td><td>education</td><td>168</td></tr><tr><td>Dominica</td><td>education</td><td>1</td></tr><tr><td>Cote d'Ivoire</td><td>education</td><td>80</td></tr><tr><td>South Africa</td><td>vehicles</td><td>25</td></tr><tr><td>Iran</td><td>mens-fashion</td><td>9</td></tr><tr><td>United States of America</td><td>mens-fashion</td><td>4</td></tr><tr><td>Central African Republic</td><td>travel</td><td>36</td></tr><tr><td>United States Virgin Islands</td><td>christmas</td><td>10</td></tr><tr><td>Solomon Islands</td><td>education</td><td>4</td></tr><tr><td>Papua New Guinea</td><td>event-planning</td><td>9</td></tr><tr><td>Guadeloupe</td><td>home-decor</td><td>36</td></tr><tr><td>Slovakia (Slovak Republic)</td><td>finance</td><td>16</td></tr><tr><td>Antarctica (the territory South of 60 deg S)</td><td>finance</td><td>99</td></tr><tr><td>Solomon Islands</td><td>beauty</td><td>9</td></tr><tr><td>Bouvet Island (Bouvetoya)</td><td>travel</td><td>43</td></tr><tr><td>Bouvet Island (Bouvetoya)</td><td>quotes</td><td>16</td></tr><tr><td>Faroe Islands</td><td>beauty</td><td>9</td></tr><tr><td>Afghanistan</td><td>tattoos</td><td>34</td></tr><tr><td>Afghanistan</td><td>travel</td><td>41</td></tr><tr><td>Liechtenstein</td><td>vehicles</td><td>9</td></tr><tr><td>Antigua and Barbuda</td><td>diy-and-crafts</td><td>36</td></tr><tr><td>Cocos (Keeling) Islands</td><td>travel</td><td>35</td></tr><tr><td>Central African Republic</td><td>diy-and-crafts</td><td>9</td></tr><tr><td>Bouvet Island (Bouvetoya)</td><td>home-decor</td><td>39</td></tr><tr><td>Burkina Faso</td><td>beauty</td><td>9</td></tr><tr><td>Falkland Islands (Malvinas)</td><td>home-decor</td><td>18</td></tr><tr><td>Guinea-Bissau</td><td>christmas</td><td>25</td></tr><tr><td>Guinea-Bissau</td><td>tattoos</td><td>36</td></tr><tr><td>Trinidad and Tobago</td><td>christmas</td><td>49</td></tr><tr><td>Peru</td><td>tattoos</td><td>36</td></tr><tr><td>Switzerland</td><td>education</td><td>9</td></tr><tr><td>Turks and Caicos Islands</td><td>tattoos</td><td>9</td></tr><tr><td>South Georgia and the South Sandwich Islands</td><td>diy-and-crafts</td><td>1</td></tr><tr><td>Afghanistan</td><td>home-decor</td><td>52</td></tr><tr><td>Slovakia (Slovak Republic)</td><td>event-planning</td><td>1</td></tr><tr><td>Dominican Republic</td><td>education</td><td>17</td></tr><tr><td>Egypt</td><td>travel</td><td>16</td></tr><tr><td>Ghana</td><td>art</td><td>73</td></tr><tr><td>Saint Helena</td><td>beauty</td><td>36</td></tr><tr><td>Mali</td><td>christmas</td><td>25</td></tr><tr><td>Afghanistan</td><td>diy-and-crafts</td><td>94</td></tr><tr><td>Pitcairn Islands</td><td>event-planning</td><td>4</td></tr><tr><td>Turkmenistan</td><td>event-planning</td><td>16</td></tr><tr><td>Anguilla</td><td>art</td><td>1</td></tr><tr><td>Bouvet Island (Bouvetoya)</td><td>christmas</td><td>17</td></tr><tr><td>South Georgia and the South Sandwich Islands</td><td>vehicles</td><td>9</td></tr><tr><td>Saint Barthelemy</td><td>christmas</td><td>1</td></tr><tr><td>Belarus</td><td>education</td><td>1</td></tr><tr><td>Cuba</td><td>tattoos</td><td>9</td></tr><tr><td>American Samoa</td><td>home-decor</td><td>18</td></tr><tr><td>Fiji</td><td>mens-fashion</td><td>18</td></tr><tr><td>Bouvet Island (Bouvetoya)</td><td>art</td><td>1</td></tr><tr><td>China</td><td>beauty</td><td>9</td></tr><tr><td>Bouvet Island (Bouvetoya)</td><td>tattoos</td><td>52</td></tr><tr><td>Timor-Leste</td><td>travel</td><td>34</td></tr><tr><td>Saint Barthelemy</td><td>beauty</td><td>9</td></tr><tr><td>Turkmenistan</td><td>travel</td><td>36</td></tr><tr><td>Faroe Islands</td><td>christmas</td><td>9</td></tr><tr><td>Cocos (Keeling) Islands</td><td>diy-and-crafts</td><td>1</td></tr><tr><td>Saint Pierre and Miquelon</td><td>vehicles</td><td>9</td></tr><tr><td>Falkland Islands (Malvinas)</td><td>event-planning</td><td>45</td></tr><tr><td>Svalbard & Jan Mayen Islands</td><td>beauty</td><td>9</td></tr><tr><td>Antigua and Barbuda</td><td>travel</td><td>48</td></tr><tr><td>Switzerland</td><td>vehicles</td><td>5</td></tr><tr><td>Switzerland</td><td>home-decor</td><td>1</td></tr><tr><td>Antigua and Barbuda</td><td>education</td><td>9</td></tr><tr><td>Antarctica (the territory South of 60 deg S)</td><td>christmas</td><td>115</td></tr><tr><td>South Georgia and the South Sandwich Islands</td><td>event-planning</td><td>9</td></tr><tr><td>Antarctica (the territory South of 60 deg S)</td><td>home-decor</td><td>1</td></tr><tr><td>Faroe Islands</td><td>event-planning</td><td>90</td></tr><tr><td>El Salvador</td><td>event-planning</td><td>25</td></tr><tr><td>Dominican Republic</td><td>christmas</td><td>5</td></tr><tr><td>Bangladesh</td><td>vehicles</td><td>34</td></tr><tr><td>Antarctica (the territory South of 60 deg S)</td><td>art</td><td>45</td></tr><tr><td>French Southern Territories</td><td>home-decor</td><td>49</td></tr><tr><td>Antarctica (the territory South of 60 deg S)</td><td>quotes</td><td>9</td></tr><tr><td>Macao</td><td>art</td><td>9</td></tr><tr><td>American Samoa</td><td>finance</td><td>4</td></tr><tr><td>Saudi Arabia</td><td>finance</td><td>16</td></tr><tr><td>Switzerland</td><td>quotes</td><td>9</td></tr><tr><td>Palestinian Territory</td><td>vehicles</td><td>36</td></tr><tr><td>Lebanon</td><td>home-decor</td><td>9</td></tr><tr><td>Barbados</td><td>diy-and-crafts</td><td>9</td></tr><tr><td>Saudi Arabia</td><td>beauty</td><td>9</td></tr><tr><td>Bulgaria</td><td>quotes</td><td>25</td></tr><tr><td>Bosnia and Herzegovina</td><td>finance</td><td>14</td></tr><tr><td>Greenland</td><td>christmas</td><td>9</td></tr><tr><td>Sao Tome and Principe</td><td>tattoos</td><td>36</td></tr><tr><td>Austria</td><td>vehicles</td><td>9</td></tr><tr><td>Macedonia</td><td>finance</td><td>9</td></tr><tr><td>Singapore</td><td>beauty</td><td>9</td></tr><tr><td>Finland</td><td>art</td><td>9</td></tr><tr><td>Cambodia</td><td>diy-and-crafts</td><td>80</td></tr><tr><td>Guatemala</td><td>mens-fashion</td><td>25</td></tr><tr><td>Singapore</td><td>vehicles</td><td>16</td></tr><tr><td>Saint Kitts and Nevis</td><td>event-planning</td><td>9</td></tr><tr><td>Jamaica</td><td>vehicles</td><td>63</td></tr><tr><td>Palestinian Territory</td><td>quotes</td><td>9</td></tr><tr><td>Bulgaria</td><td>diy-and-crafts</td><td>1</td></tr><tr><td>Botswana</td><td>diy-and-crafts</td><td>16</td></tr><tr><td>Cameroon</td><td>beauty</td><td>16</td></tr><tr><td>British Virgin Islands</td><td>tattoos</td><td>9</td></tr><tr><td>Bulgaria</td><td>travel</td><td>4</td></tr><tr><td>Lithuania</td><td>education</td><td>81</td></tr><tr><td>Cook Islands</td><td>travel</td><td>9</td></tr><tr><td>Australia</td><td>tattoos</td><td>9</td></tr><tr><td>Paraguay</td><td>vehicles</td><td>26</td></tr><tr><td>Honduras</td><td>vehicles</td><td>4</td></tr><tr><td>Slovenia</td><td>education</td><td>9</td></tr><tr><td>Barbados</td><td>mens-fashion</td><td>1</td></tr><tr><td>Lithuania</td><td>vehicles</td><td>9</td></tr><tr><td>Sri Lanka</td><td>mens-fashion</td><td>9</td></tr><tr><td>Estonia</td><td>diy-and-crafts</td><td>9</td></tr><tr><td>Mauritius</td><td>quotes</td><td>9</td></tr><tr><td>San Marino</td><td>travel</td><td>9</td></tr><tr><td>Andorra</td><td>mens-fashion</td><td>9</td></tr><tr><td>New Zealand</td><td>event-planning</td><td>9</td></tr><tr><td>Georgia</td><td>vehicles</td><td>9</td></tr><tr><td>Tanzania</td><td>mens-fashion</td><td>4</td></tr><tr><td>Pakistan</td><td>event-planning</td><td>4</td></tr><tr><td>Saint Kitts and Nevis</td><td>vehicles</td><td>36</td></tr><tr><td>Montserrat</td><td>education</td><td>9</td></tr><tr><td>Martinique</td><td>christmas</td><td>9</td></tr><tr><td>Guatemala</td><td>education</td><td>16</td></tr><tr><td>Cameroon</td><td>finance</td><td>9</td></tr><tr><td>Greece</td><td>education</td><td>1</td></tr><tr><td>Indonesia</td><td>beauty</td><td>1</td></tr><tr><td>Sri Lanka</td><td>vehicles</td><td>9</td></tr><tr><td>British Virgin Islands</td><td>event-planning</td><td>81</td></tr><tr><td>Venezuela</td><td>finance</td><td>9</td></tr><tr><td>Latvia</td><td>travel</td><td>1</td></tr><tr><td>Mayotte</td><td>beauty</td><td>9</td></tr><tr><td>Seychelles</td><td>beauty</td><td>45</td></tr><tr><td>Slovenia</td><td>beauty</td><td>25</td></tr><tr><td>Guernsey</td><td>christmas</td><td>1</td></tr><tr><td>Kiribati</td><td>finance</td><td>16</td></tr><tr><td>Sao Tome and Principe</td><td>finance</td><td>36</td></tr><tr><td>Comoros</td><td>tattoos</td><td>9</td></tr><tr><td>Grenada</td><td>travel</td><td>9</td></tr><tr><td>Mauritius</td><td>mens-fashion</td><td>16</td></tr><tr><td>Maldives</td><td>finance</td><td>45</td></tr><tr><td>Bosnia and Herzegovina</td><td>art</td><td>16</td></tr><tr><td>Saint Kitts and Nevis</td><td>education</td><td>9</td></tr><tr><td>Montserrat</td><td>tattoos</td><td>9</td></tr><tr><td>Singapore</td><td>event-planning</td><td>9</td></tr><tr><td>San Marino</td><td>mens-fashion</td><td>9</td></tr><tr><td>Belize</td><td>travel</td><td>9</td></tr><tr><td>El Salvador</td><td>beauty</td><td>9</td></tr><tr><td>Nicaragua</td><td>christmas</td><td>1</td></tr><tr><td>Micronesia</td><td>event-planning</td><td>1</td></tr><tr><td>Argentina</td><td>mens-fashion</td><td>9</td></tr><tr><td>Nicaragua</td><td>art</td><td>9</td></tr><tr><td>Cameroon</td><td>quotes</td><td>4</td></tr><tr><td>Maldives</td><td>diy-and-crafts</td><td>16</td></tr><tr><td>Cyprus</td><td>event-planning</td><td>9</td></tr><tr><td>Mongolia</td><td>vehicles</td><td>9</td></tr><tr><td>Montserrat</td><td>diy-and-crafts</td><td>1</td></tr><tr><td>Australia</td><td>art</td><td>9</td></tr><tr><td>Portugal</td><td>diy-and-crafts</td><td>36</td></tr><tr><td>Nicaragua</td><td>event-planning</td><td>16</td></tr><tr><td>Swaziland</td><td>travel</td><td>16</td></tr><tr><td>Albania</td><td>vehicles</td><td>9</td></tr><tr><td>Argentina</td><td>beauty</td><td>36</td></tr><tr><td>Netherlands</td><td>finance</td><td>4</td></tr><tr><td>Colombia</td><td>christmas</td><td>4</td></tr><tr><td>Colombia</td><td>mens-fashion</td><td>9</td></tr><tr><td>United States of America</td><td>quotes</td><td>9</td></tr><tr><td>Ethiopia</td><td>tattoos</td><td>20</td></tr><tr><td>Barbados</td><td>christmas</td><td>18</td></tr><tr><td>Saudi Arabia</td><td>home-decor</td><td>1</td></tr><tr><td>Sweden</td><td>diy-and-crafts</td><td>9</td></tr><tr><td>Isle of Man</td><td>event-planning</td><td>1</td></tr><tr><td>Tajikistan</td><td>education</td><td>1</td></tr><tr><td>Madagascar</td><td>diy-and-crafts</td><td>1</td></tr><tr><td>Bangladesh</td><td>beauty</td><td>1</td></tr><tr><td>Bahrain</td><td>education</td><td>9</td></tr><tr><td>Bolivia</td><td>tattoos</td><td>1</td></tr><tr><td>Korea</td><td>christmas</td><td>1</td></tr><tr><td>Finland</td><td>diy-and-crafts</td><td>1</td></tr><tr><td>Cocos (Keeling) Islands</td><td>quotes</td><td>9</td></tr><tr><td>Saint Helena</td><td>art</td><td>9</td></tr><tr><td>Palestinian Territory</td><td>art</td><td>13</td></tr><tr><td>Benin</td><td>home-decor</td><td>1</td></tr><tr><td>Burkina Faso</td><td>vehicles</td><td>16</td></tr><tr><td>Haiti</td><td>home-decor</td><td>9</td></tr><tr><td>Gabon</td><td>education</td><td>9</td></tr><tr><td>Antigua and Barbuda</td><td>vehicles</td><td>9</td></tr><tr><td>Christmas Island</td><td>art</td><td>9</td></tr><tr><td>Congo</td><td>event-planning</td><td>9</td></tr><tr><td>Libyan Arab Jamahiriya</td><td>beauty</td><td>16</td></tr><tr><td>Guyana</td><td>tattoos</td><td>16</td></tr><tr><td>Palestinian Territory</td><td>christmas</td><td>9</td></tr><tr><td>Philippines</td><td>vehicles</td><td>9</td></tr><tr><td>Kenya</td><td>mens-fashion</td><td>9</td></tr><tr><td>Palestinian Territory</td><td>travel</td><td>9</td></tr><tr><td>Czech Republic</td><td>finance</td><td>18</td></tr><tr><td>Vietnam</td><td>finance</td><td>1</td></tr><tr><td>Netherlands Antilles</td><td>beauty</td><td>45</td></tr><tr><td>Sudan</td><td>education</td><td>9</td></tr><tr><td>Christmas Island</td><td>quotes</td><td>9</td></tr><tr><td>Ghana</td><td>vehicles</td><td>1</td></tr><tr><td>Dominican Republic</td><td>art</td><td>1</td></tr><tr><td>Marshall Islands</td><td>event-planning</td><td>1</td></tr><tr><td>Comoros</td><td>diy-and-crafts</td><td>4</td></tr><tr><td>Antigua and Barbuda</td><td>quotes</td><td>60</td></tr><tr><td>Kyrgyz Republic</td><td>christmas</td><td>1</td></tr><tr><td>Bolivia</td><td>event-planning</td><td>1</td></tr><tr><td>Syrian Arab Republic</td><td>beauty</td><td>1</td></tr><tr><td>Christmas Island</td><td>tattoos</td><td>8</td></tr><tr><td>Australia</td><td>quotes</td><td>9</td></tr><tr><td>Haiti</td><td>beauty</td><td>1</td></tr><tr><td>Christmas Island</td><td>beauty</td><td>4</td></tr><tr><td>Wallis and Futuna</td><td>event-planning</td><td>1</td></tr><tr><td>Netherlands Antilles</td><td>travel</td><td>9</td></tr><tr><td>Syrian Arab Republic</td><td>vehicles</td><td>4</td></tr><tr><td>Libyan Arab Jamahiriya</td><td>education</td><td>9</td></tr><tr><td>Macao</td><td>education</td><td>9</td></tr><tr><td>Japan</td><td>mens-fashion</td><td>9</td></tr><tr><td>Nigeria</td><td>quotes</td><td>1</td></tr><tr><td>Singapore</td><td>travel</td><td>9</td></tr><tr><td>Moldova</td><td>vehicles</td><td>1</td></tr><tr><td>Antigua and Barbuda</td><td>tattoos</td><td>38</td></tr><tr><td>Tuvalu</td><td>event-planning</td><td>1</td></tr><tr><td>Kyrgyz Republic</td><td>education</td><td>9</td></tr><tr><td>British Virgin Islands</td><td>travel</td><td>16</td></tr><tr><td>Wallis and Futuna</td><td>finance</td><td>9</td></tr><tr><td>Bosnia and Herzegovina</td><td>quotes</td><td>9</td></tr><tr><td>Trinidad and Tobago</td><td>vehicles</td><td>9</td></tr><tr><td>Saint Kitts and Nevis</td><td>beauty</td><td>9</td></tr><tr><td>Bahamas</td><td>beauty</td><td>1</td></tr><tr><td>Isle of Man</td><td>education</td><td>9</td></tr><tr><td>Portugal</td><td>education</td><td>1</td></tr><tr><td>Lao People's Democratic Republic</td><td>beauty</td><td>10</td></tr><tr><td>Lao People's Democratic Republic</td><td>quotes</td><td>9</td></tr><tr><td>Antarctica (the territory South of 60 deg S)</td><td>travel</td><td>36</td></tr><tr><td>Ghana</td><td>beauty</td><td>36</td></tr><tr><td>Svalbard & Jan Mayen Islands</td><td>travel</td><td>64</td></tr><tr><td>Togo</td><td>christmas</td><td>36</td></tr><tr><td>British Indian Ocean Territory (Chagos Archipelago)</td><td>beauty</td><td>4</td></tr><tr><td>Peru</td><td>art</td><td>36</td></tr><tr><td>Holy See (Vatican City State)</td><td>mens-fashion</td><td>25</td></tr><tr><td>United States Minor Outlying Islands</td><td>vehicles</td><td>9</td></tr><tr><td>Saint Vincent and the Grenadines</td><td>christmas</td><td>37</td></tr><tr><td>British Indian Ocean Territory (Chagos Archipelago)</td><td>tattoos</td><td>9</td></tr><tr><td>British Indian Ocean Territory (Chagos Archipelago)</td><td>diy-and-crafts</td><td>9</td></tr><tr><td>Palestinian Territory</td><td>event-planning</td><td>9</td></tr><tr><td>Heard Island and McDonald Islands</td><td>mens-fashion</td><td>18</td></tr><tr><td>Lao People's Democratic Republic</td><td>finance</td><td>4</td></tr><tr><td>United States Minor Outlying Islands</td><td>beauty</td><td>9</td></tr><tr><td>British Indian Ocean Territory (Chagos Archipelago)</td><td>mens-fashion</td><td>22</td></tr><tr><td>India</td><td>art</td><td>9</td></tr><tr><td>Holy See (Vatican City State)</td><td>tattoos</td><td>1</td></tr><tr><td>Cocos (Keeling) Islands</td><td>art</td><td>9</td></tr><tr><td>Northern Mariana Islands</td><td>art</td><td>1</td></tr><tr><td>Central African Republic</td><td>art</td><td>9</td></tr><tr><td>Heard Island and McDonald Islands</td><td>vehicles</td><td>18</td></tr><tr><td>Heard Island and McDonald Islands</td><td>travel</td><td>9</td></tr><tr><td>Cayman Islands</td><td>education</td><td>1</td></tr><tr><td>Holy See (Vatican City State)</td><td>event-planning</td><td>9</td></tr><tr><td>British Indian Ocean Territory (Chagos Archipelago)</td><td>quotes</td><td>4</td></tr><tr><td>Iran</td><td>art</td><td>18</td></tr><tr><td>Lao People's Democratic Republic</td><td>mens-fashion</td><td>4</td></tr><tr><td>Saint Vincent and the Grenadines</td><td>quotes</td><td>9</td></tr><tr><td>Saint Vincent and the Grenadines</td><td>diy-and-crafts</td><td>1</td></tr><tr><td>French Southern Territories</td><td>travel</td><td>9</td></tr><tr><td>Heard Island and McDonald Islands</td><td>quotes</td><td>9</td></tr><tr><td>British Indian Ocean Territory (Chagos Archipelago)</td><td>finance</td><td>9</td></tr><tr><td>Macao</td><td>diy-and-crafts</td><td>9</td></tr><tr><td>United States Minor Outlying Islands</td><td>mens-fashion</td><td>9</td></tr><tr><td>Iran</td><td>event-planning</td><td>9</td></tr></tbody></table></div>"
      ]
     },
     "metadata": {
      "application/vnd.databricks.v1+output": {
       "addedWidgets": {},
       "aggData": [],
       "aggError": "",
       "aggOverflow": false,
       "aggSchema": [],
       "aggSeriesLimitReached": false,
       "aggType": "",
       "arguments": {},
       "columnCustomDisplayInfos": {},
       "data": [
        [
         "French Guiana",
         "art",
         25
        ],
        [
         "Lesotho",
         "mens-fashion",
         9
        ],
        [
         "Azerbaijan",
         "christmas",
         27
        ],
        [
         "Algeria",
         "finance",
         49
        ],
        [
         "India",
         "travel",
         42
        ],
        [
         "Qatar",
         "christmas",
         9
        ],
        [
         "Sudan",
         "art",
         25
        ],
        [
         "Romania",
         "tattoos",
         49
        ],
        [
         "Lithuania",
         "diy-and-crafts",
         9
        ],
        [
         "Romania",
         "art",
         36
        ],
        [
         "Chad",
         "diy-and-crafts",
         45
        ],
        [
         "Jersey",
         "quotes",
         11
        ],
        [
         "Sweden",
         "finance",
         9
        ],
        [
         "Albania",
         "travel",
         27
        ],
        [
         "Armenia",
         "vehicles",
         85
        ],
        [
         "Bolivia",
         "christmas",
         37
        ],
        [
         "Latvia",
         "home-decor",
         9
        ],
        [
         "Namibia",
         "quotes",
         81
        ],
        [
         "Guatemala",
         "finance",
         37
        ],
        [
         "Nigeria",
         "education",
         45
        ],
        [
         "Nigeria",
         "christmas",
         32
        ],
        [
         "Cambodia",
         "beauty",
         34
        ],
        [
         "Australia",
         "christmas",
         104
        ],
        [
         "Guadeloupe",
         "christmas",
         54
        ],
        [
         "Tokelau",
         "vehicles",
         36
        ],
        [
         "Ethiopia",
         "finance",
         26
        ],
        [
         "Faroe Islands",
         "finance",
         36
        ],
        [
         "Uganda",
         "mens-fashion",
         9
        ],
        [
         "Sudan",
         "vehicles",
         9
        ],
        [
         "France",
         "diy-and-crafts",
         18
        ],
        [
         "Samoa",
         "vehicles",
         36
        ],
        [
         "Panama",
         "event-planning",
         9
        ],
        [
         "Samoa",
         "finance",
         9
        ],
        [
         "Djibouti",
         "christmas",
         18
        ],
        [
         "Morocco",
         "education",
         9
        ],
        [
         "Denmark",
         "mens-fashion",
         9
        ],
        [
         "Jamaica",
         "beauty",
         1
        ],
        [
         "Iceland",
         "mens-fashion",
         9
        ],
        [
         "Lithuania",
         "tattoos",
         16
        ],
        [
         "Israel",
         "quotes",
         36
        ],
        [
         "Djibouti",
         "diy-and-crafts",
         54
        ],
        [
         "Ukraine",
         "finance",
         9
        ],
        [
         "Guinea",
         "christmas",
         25
        ],
        [
         "China",
         "finance",
         9
        ],
        [
         "Saudi Arabia",
         "travel",
         9
        ],
        [
         "Cambodia",
         "travel",
         13
        ],
        [
         "Cambodia",
         "tattoos",
         9
        ],
        [
         "Bahamas",
         "education",
         9
        ],
        [
         "Madagascar",
         "event-planning",
         36
        ],
        [
         "Israel",
         "finance",
         36
        ],
        [
         "Finland",
         "home-decor",
         9
        ],
        [
         "Grenada",
         "vehicles",
         64
        ],
        [
         "Kuwait",
         "travel",
         10
        ],
        [
         "Belgium",
         "home-decor",
         13
        ],
        [
         "Egypt",
         "home-decor",
         61
        ],
        [
         "Ecuador",
         "christmas",
         9
        ],
        [
         "Botswana",
         "beauty",
         16
        ],
        [
         "Chile",
         "quotes",
         36
        ],
        [
         "Ecuador",
         "mens-fashion",
         61
        ],
        [
         "Mozambique",
         "home-decor",
         157
        ],
        [
         "Bulgaria",
         "christmas",
         173
        ],
        [
         "Morocco",
         "quotes",
         153
        ],
        [
         "Armenia",
         "christmas",
         36
        ],
        [
         "Austria",
         "beauty",
         18
        ],
        [
         "Botswana",
         "finance",
         19
        ],
        [
         "Bangladesh",
         "mens-fashion",
         58
        ],
        [
         "Estonia",
         "christmas",
         25
        ],
        [
         "Greece",
         "finance",
         25
        ],
        [
         "Paraguay",
         "quotes",
         9
        ],
        [
         "Maldives",
         "quotes",
         9
        ],
        [
         "Australia",
         "mens-fashion",
         87
        ],
        [
         "Venezuela",
         "diy-and-crafts",
         36
        ],
        [
         "Niger",
         "education",
         16
        ],
        [
         "Argentina",
         "home-decor",
         70
        ],
        [
         "Argentina",
         "art",
         37
        ],
        [
         "Guinea-Bissau",
         "diy-and-crafts",
         9
        ],
        [
         "Kiribati",
         "travel",
         9
        ],
        [
         "Bahrain",
         "art",
         18
        ],
        [
         "Nicaragua",
         "mens-fashion",
         18
        ],
        [
         "Austria",
         "quotes",
         9
        ],
        [
         "Qatar",
         "beauty",
         18
        ],
        [
         "Guinea-Bissau",
         "travel",
         25
        ],
        [
         "Bermuda",
         "beauty",
         49
        ],
        [
         "Guyana",
         "finance",
         4
        ],
        [
         "Bahrain",
         "event-planning",
         9
        ],
        [
         "Bermuda",
         "tattoos",
         18
        ],
        [
         "Gibraltar",
         "mens-fashion",
         18
        ],
        [
         "Finland",
         "beauty",
         45
        ],
        [
         "Kenya",
         "diy-and-crafts",
         90
        ],
        [
         "Aruba",
         "home-decor",
         10
        ],
        [
         "Kazakhstan",
         "beauty",
         10
        ],
        [
         "Botswana",
         "christmas",
         16
        ],
        [
         "Belgium",
         "finance",
         9
        ],
        [
         "Bahamas",
         "art",
         138
        ],
        [
         "Vietnam",
         "quotes",
         64
        ],
        [
         "Poland",
         "event-planning",
         36
        ],
        [
         "Denmark",
         "beauty",
         81
        ],
        [
         "Congo",
         "education",
         34
        ],
        [
         "Tanzania",
         "travel",
         9
        ],
        [
         "Andorra",
         "vehicles",
         27
        ],
        [
         "Bhutan",
         "event-planning",
         54
        ],
        [
         "Armenia",
         "beauty",
         95
        ],
        [
         "Macao",
         "mens-fashion",
         36
        ],
        [
         "Uganda",
         "finance",
         9
        ],
        [
         "Liechtenstein",
         "mens-fashion",
         18
        ],
        [
         "Anguilla",
         "vehicles",
         9
        ],
        [
         "Mongolia",
         "travel",
         9
        ],
        [
         "Albania",
         "finance",
         61
        ],
        [
         "French Guiana",
         "diy-and-crafts",
         9
        ],
        [
         "Andorra",
         "quotes",
         112
        ],
        [
         "Aruba",
         "mens-fashion",
         199
        ],
        [
         "Kiribati",
         "beauty",
         32
        ],
        [
         "Belgium",
         "quotes",
         9
        ],
        [
         "Azerbaijan",
         "finance",
         154
        ],
        [
         "Luxembourg",
         "education",
         25
        ],
        [
         "Finland",
         "vehicles",
         36
        ],
        [
         "Afghanistan",
         "beauty",
         9
        ],
        [
         "Aruba",
         "christmas",
         201
        ],
        [
         "Isle of Man",
         "finance",
         36
        ],
        [
         "Finland",
         "finance",
         90
        ],
        [
         "Cuba",
         "home-decor",
         25
        ],
        [
         "Cambodia",
         "event-planning",
         18
        ],
        [
         "Armenia",
         "diy-and-crafts",
         193
        ],
        [
         "Iceland",
         "diy-and-crafts",
         9
        ],
        [
         "Hong Kong",
         "finance",
         1
        ],
        [
         "Madagascar",
         "quotes",
         9
        ],
        [
         "Andorra",
         "diy-and-crafts",
         50
        ],
        [
         "Mozambique",
         "art",
         36
        ],
        [
         "Iran",
         "tattoos",
         16
        ],
        [
         "Bermuda",
         "event-planning",
         18
        ],
        [
         "Honduras",
         "event-planning",
         18
        ],
        [
         "Nauru",
         "mens-fashion",
         18
        ],
        [
         "Burkina Faso",
         "quotes",
         135
        ],
        [
         "Gabon",
         "travel",
         29
        ],
        [
         "Turkey",
         "event-planning",
         9
        ],
        [
         "Moldova",
         "beauty",
         45
        ],
        [
         "Seychelles",
         "tattoos",
         42
        ],
        [
         "Bulgaria",
         "art",
         36
        ],
        [
         "Bolivia",
         "art",
         18
        ],
        [
         "Canada",
         "mens-fashion",
         9
        ],
        [
         "Latvia",
         "beauty",
         25
        ],
        [
         "Aruba",
         "finance",
         36
        ],
        [
         "Montenegro",
         "diy-and-crafts",
         9
        ],
        [
         "Kazakhstan",
         "home-decor",
         25
        ],
        [
         "Cook Islands",
         "diy-and-crafts",
         9
        ],
        [
         "Ecuador",
         "diy-and-crafts",
         25
        ],
        [
         "Djibouti",
         "mens-fashion",
         18
        ],
        [
         "Isle of Man",
         "art",
         73
        ],
        [
         "Isle of Man",
         "vehicles",
         9
        ],
        [
         "Romania",
         "quotes",
         16
        ],
        [
         "Maldives",
         "event-planning",
         34
        ],
        [
         "Aruba",
         "tattoos",
         272
        ],
        [
         "Ireland",
         "home-decor",
         36
        ],
        [
         "Guatemala",
         "art",
         37
        ],
        [
         "Hungary",
         "education",
         9
        ],
        [
         "Singapore",
         "mens-fashion",
         9
        ],
        [
         "Somalia",
         "quotes",
         36
        ],
        [
         "Canada",
         "travel",
         45
        ],
        [
         "Malawi",
         "travel",
         34
        ],
        [
         "Costa Rica",
         "quotes",
         18
        ],
        [
         "Bolivia",
         "home-decor",
         97
        ],
        [
         "Panama",
         "vehicles",
         18
        ],
        [
         "Israel",
         "education",
         9
        ],
        [
         "Sweden",
         "mens-fashion",
         49
        ],
        [
         "Mozambique",
         "finance",
         9
        ],
        [
         "Uzbekistan",
         "quotes",
         9
        ],
        [
         "Georgia",
         "education",
         146
        ],
        [
         "Andorra",
         "event-planning",
         34
        ],
        [
         "Greenland",
         "education",
         16
        ],
        [
         "Senegal",
         "beauty",
         36
        ],
        [
         "Bulgaria",
         "vehicles",
         64
        ],
        [
         "Finland",
         "mens-fashion",
         9
        ],
        [
         "Burkina Faso",
         "tattoos",
         9
        ],
        [
         "Mayotte",
         "christmas",
         36
        ],
        [
         "Colombia",
         "home-decor",
         32
        ],
        [
         "Canada",
         "christmas",
         36
        ],
        [
         "Colombia",
         "finance",
         135
        ],
        [
         "Costa Rica",
         "home-decor",
         34
        ],
        [
         "Bhutan",
         "diy-and-crafts",
         55
        ],
        [
         "Benin",
         "beauty",
         18
        ],
        [
         "Bangladesh",
         "education",
         27
        ],
        [
         "Mongolia",
         "mens-fashion",
         36
        ],
        [
         "Angola",
         "diy-and-crafts",
         106
        ],
        [
         "Korea",
         "travel",
         34
        ],
        [
         "Argentina",
         "diy-and-crafts",
         85
        ],
        [
         "Bermuda",
         "christmas",
         103
        ],
        [
         "Andorra",
         "education",
         54
        ],
        [
         "Montserrat",
         "quotes",
         1
        ],
        [
         "Somalia",
         "diy-and-crafts",
         9
        ],
        [
         "Benin",
         "tattoos",
         46
        ],
        [
         "Benin",
         "travel",
         45
        ],
        [
         "Congo",
         "finance",
         27
        ],
        [
         "Cote d'Ivoire",
         "beauty",
         18
        ],
        [
         "Martinique",
         "quotes",
         25
        ],
        [
         "Croatia",
         "beauty",
         10
        ],
        [
         "Egypt",
         "vehicles",
         9
        ],
        [
         "Cameroon",
         "diy-and-crafts",
         18
        ],
        [
         "Bahamas",
         "vehicles",
         68
        ],
        [
         "Monaco",
         "vehicles",
         49
        ],
        [
         "Botswana",
         "vehicles",
         1
        ],
        [
         "Belize",
         "diy-and-crafts",
         109
        ],
        [
         "Monaco",
         "mens-fashion",
         9
        ],
        [
         "Bangladesh",
         "art",
         78
        ],
        [
         "Tajikistan",
         "beauty",
         18
        ],
        [
         "Honduras",
         "travel",
         4
        ],
        [
         "Egypt",
         "mens-fashion",
         49
        ],
        [
         "Afghanistan",
         "vehicles",
         65
        ],
        [
         "Cayman Islands",
         "mens-fashion",
         9
        ],
        [
         "Nepal",
         "christmas",
         9
        ],
        [
         "Gibraltar",
         "event-planning",
         10
        ],
        [
         "Belgium",
         "diy-and-crafts",
         59
        ],
        [
         "Isle of Man",
         "travel",
         36
        ],
        [
         "Burkina Faso",
         "travel",
         9
        ],
        [
         "Dominica",
         "diy-and-crafts",
         36
        ],
        [
         "Fiji",
         "education",
         16
        ],
        [
         "Micronesia",
         "christmas",
         9
        ],
        [
         "Serbia",
         "vehicles",
         16
        ],
        [
         "Mauritania",
         "home-decor",
         1
        ],
        [
         "Costa Rica",
         "tattoos",
         10
        ],
        [
         "Moldova",
         "home-decor",
         16
        ],
        [
         "Croatia",
         "finance",
         86
        ],
        [
         "Bangladesh",
         "diy-and-crafts",
         18
        ],
        [
         "Montserrat",
         "art",
         36
        ],
        [
         "Monaco",
         "art",
         45
        ],
        [
         "Austria",
         "diy-and-crafts",
         9
        ],
        [
         "Kiribati",
         "christmas",
         9
        ],
        [
         "Lesotho",
         "tattoos",
         25
        ],
        [
         "Georgia",
         "diy-and-crafts",
         18
        ],
        [
         "Norfolk Island",
         "event-planning",
         16
        ],
        [
         "Austria",
         "event-planning",
         34
        ],
        [
         "Venezuela",
         "quotes",
         49
        ],
        [
         "Australia",
         "vehicles",
         9
        ],
        [
         "Bhutan",
         "christmas",
         9
        ],
        [
         "Armenia",
         "tattoos",
         25
        ],
        [
         "Bangladesh",
         "christmas",
         159
        ],
        [
         "Canada",
         "event-planning",
         13
        ],
        [
         "Monaco",
         "education",
         9
        ],
        [
         "Ireland",
         "tattoos",
         9
        ],
        [
         "Namibia",
         "vehicles",
         49
        ],
        [
         "Macedonia",
         "tattoos",
         25
        ],
        [
         "Kazakhstan",
         "christmas",
         36
        ],
        [
         "Cameroon",
         "vehicles",
         9
        ],
        [
         "Brazil",
         "home-decor",
         13
        ],
        [
         "Bahamas",
         "travel",
         45
        ],
        [
         "Malawi",
         "vehicles",
         9
        ],
        [
         "Congo",
         "art",
         94
        ],
        [
         "Vanuatu",
         "education",
         9
        ],
        [
         "Australia",
         "education",
         73
        ],
        [
         "Taiwan",
         "christmas",
         9
        ],
        [
         "Armenia",
         "art",
         118
        ],
        [
         "Nicaragua",
         "home-decor",
         18
        ],
        [
         "New Zealand",
         "quotes",
         18
        ],
        [
         "Burkina Faso",
         "home-decor",
         18
        ],
        [
         "Lesotho",
         "beauty",
         9
        ],
        [
         "Madagascar",
         "finance",
         9
        ],
        [
         "Singapore",
         "education",
         36
        ],
        [
         "Ethiopia",
         "travel",
         16
        ],
        [
         "New Caledonia",
         "travel",
         18
        ],
        [
         "Grenada",
         "finance",
         25
        ],
        [
         "Ecuador",
         "art",
         25
        ],
        [
         "Nicaragua",
         "vehicles",
         36
        ],
        [
         "Nauru",
         "travel",
         49
        ],
        [
         "Hong Kong",
         "home-decor",
         18
        ],
        [
         "Tunisia",
         "diy-and-crafts",
         36
        ],
        [
         "Norfolk Island",
         "beauty",
         36
        ],
        [
         "Egypt",
         "quotes",
         36
        ],
        [
         "Gibraltar",
         "vehicles",
         36
        ],
        [
         "Anguilla",
         "beauty",
         55
        ],
        [
         "San Marino",
         "home-decor",
         18
        ],
        [
         "Togo",
         "vehicles",
         9
        ],
        [
         "Nauru",
         "beauty",
         61
        ],
        [
         "Jamaica",
         "finance",
         45
        ],
        [
         "Albania",
         "christmas",
         99
        ],
        [
         "Somalia",
         "event-planning",
         9
        ],
        [
         "Lebanon",
         "beauty",
         9
        ],
        [
         "Belize",
         "education",
         72
        ],
        [
         "Maldives",
         "beauty",
         80
        ],
        [
         "Algeria",
         "beauty",
         36
        ],
        [
         "Vanuatu",
         "quotes",
         9
        ],
        [
         "Liechtenstein",
         "quotes",
         49
        ],
        [
         "Austria",
         "tattoos",
         99
        ],
        [
         "Algeria",
         "christmas",
         63
        ],
        [
         "Palau",
         "education",
         9
        ],
        [
         "Isle of Man",
         "home-decor",
         9
        ],
        [
         "Algeria",
         "mens-fashion",
         198
        ],
        [
         "Canada",
         "education",
         10
        ],
        [
         "Grenada",
         "quotes",
         18
        ],
        [
         "Uganda",
         "event-planning",
         27
        ],
        [
         "Haiti",
         "christmas",
         9
        ],
        [
         "Yemen",
         "beauty",
         9
        ],
        [
         "Kuwait",
         "quotes",
         36
        ],
        [
         "American Samoa",
         "art",
         105
        ],
        [
         "Cameroon",
         "art",
         61
        ],
        [
         "Aruba",
         "education",
         180
        ],
        [
         "Tajikistan",
         "event-planning",
         9
        ],
        [
         "Brazil",
         "finance",
         30
        ],
        [
         "Austria",
         "education",
         25
        ],
        [
         "Cote d'Ivoire",
         "event-planning",
         27
        ],
        [
         "Aruba",
         "travel",
         79
        ],
        [
         "Cape Verde",
         "event-planning",
         18
        ],
        [
         "Armenia",
         "quotes",
         36
        ],
        [
         "Comoros",
         "christmas",
         13
        ],
        [
         "Bahrain",
         "christmas",
         10
        ],
        [
         "Guinea",
         "vehicles",
         10
        ],
        [
         "Guernsey",
         "tattoos",
         13
        ],
        [
         "Aruba",
         "event-planning",
         95
        ],
        [
         "Comoros",
         "education",
         36
        ],
        [
         "Australia",
         "travel",
         54
        ],
        [
         "Albania",
         "diy-and-crafts",
         187
        ],
        [
         "Brazil",
         "christmas",
         25
        ],
        [
         "Andorra",
         "beauty",
         36
        ],
        [
         "Cyprus",
         "home-decor",
         45
        ],
        [
         "Ecuador",
         "vehicles",
         18
        ],
        [
         "Algeria",
         "tattoos",
         72
        ],
        [
         "Cuba",
         "beauty",
         10
        ],
        [
         "Korea",
         "beauty",
         34
        ],
        [
         "Latvia",
         "mens-fashion",
         81
        ],
        [
         "Armenia",
         "mens-fashion",
         9
        ],
        [
         "Argentina",
         "finance",
         52
        ],
        [
         "Cyprus",
         "quotes",
         25
        ],
        [
         "San Marino",
         "quotes",
         9
        ],
        [
         "Somalia",
         "travel",
         9
        ],
        [
         "Azerbaijan",
         "art",
         9
        ],
        [
         "Bermuda",
         "diy-and-crafts",
         36
        ],
        [
         "Saint Martin",
         "christmas",
         16
        ],
        [
         "Angola",
         "event-planning",
         10
        ],
        [
         "Ecuador",
         "travel",
         18
        ],
        [
         "Namibia",
         "event-planning",
         36
        ],
        [
         "Armenia",
         "education",
         27
        ],
        [
         "New Zealand",
         "mens-fashion",
         13
        ],
        [
         "Cape Verde",
         "education",
         81
        ],
        [
         "Bulgaria",
         "mens-fashion",
         16
        ],
        [
         "Bahrain",
         "finance",
         79
        ],
        [
         "Comoros",
         "quotes",
         45
        ],
        [
         "Isle of Man",
         "diy-and-crafts",
         2
        ],
        [
         "Saint Helena",
         "tattoos",
         9
        ],
        [
         "Andorra",
         "tattoos",
         173
        ],
        [
         "Chile",
         "travel",
         25
        ],
        [
         "Montserrat",
         "event-planning",
         16
        ],
        [
         "Anguilla",
         "tattoos",
         28
        ],
        [
         "Georgia",
         "quotes",
         9
        ],
        [
         "Uganda",
         "christmas",
         32
        ],
        [
         "Cyprus",
         "beauty",
         4
        ],
        [
         "Albania",
         "art",
         419
        ],
        [
         "Mauritania",
         "education",
         36
        ],
        [
         "Argentina",
         "event-planning",
         45
        ],
        [
         "Denmark",
         "travel",
         4
        ],
        [
         "Australia",
         "home-decor",
         45
        ],
        [
         "Poland",
         "beauty",
         9
        ],
        [
         "Bhutan",
         "finance",
         18
        ],
        [
         "Philippines",
         "event-planning",
         36
        ],
        [
         "Albania",
         "tattoos",
         78
        ],
        [
         "Cape Verde",
         "home-decor",
         36
        ],
        [
         "Guernsey",
         "mens-fashion",
         9
        ],
        [
         "Algeria",
         "travel",
         159
        ],
        [
         "Egypt",
         "education",
         9
        ],
        [
         "Nigeria",
         "mens-fashion",
         9
        ],
        [
         "Angola",
         "home-decor",
         27
        ],
        [
         "Cameroon",
         "travel",
         46
        ],
        [
         "Mongolia",
         "tattoos",
         9
        ],
        [
         "Azerbaijan",
         "beauty",
         14
        ],
        [
         "Comoros",
         "event-planning",
         18
        ],
        [
         "Zambia",
         "mens-fashion",
         9
        ],
        [
         "Nigeria",
         "event-planning",
         9
        ],
        [
         "Indonesia",
         "finance",
         83
        ],
        [
         "Bolivia",
         "beauty",
         45
        ],
        [
         "Andorra",
         "christmas",
         54
        ],
        [
         "Azerbaijan",
         "event-planning",
         113
        ],
        [
         "Cyprus",
         "vehicles",
         18
        ],
        [
         "Chile",
         "mens-fashion",
         19
        ],
        [
         "Mauritania",
         "travel",
         1
        ],
        [
         "Bulgaria",
         "event-planning",
         27
        ],
        [
         "Algeria",
         "quotes",
         645
        ],
        [
         "Armenia",
         "home-decor",
         36
        ],
        [
         "Austria",
         "home-decor",
         97
        ],
        [
         "Burundi",
         "christmas",
         18
        ],
        [
         "Albania",
         "quotes",
         141
        ],
        [
         "Canada",
         "tattoos",
         9
        ],
        [
         "Saint Helena",
         "mens-fashion",
         9
        ],
        [
         "Andorra",
         "art",
         90
        ],
        [
         "Congo",
         "home-decor",
         34
        ],
        [
         "Cyprus",
         "travel",
         9
        ],
        [
         "Gibraltar",
         "education",
         9
        ],
        [
         "Puerto Rico",
         "event-planning",
         25
        ],
        [
         "Bhutan",
         "mens-fashion",
         9
        ],
        [
         "Croatia",
         "mens-fashion",
         9
        ],
        [
         "Hong Kong",
         "event-planning",
         9
        ],
        [
         "Gibraltar",
         "art",
         36
        ],
        [
         "Tajikistan",
         "travel",
         9
        ],
        [
         "India",
         "event-planning",
         18
        ],
        [
         "Guinea",
         "diy-and-crafts",
         16
        ],
        [
         "Kuwait",
         "diy-and-crafts",
         36
        ],
        [
         "Bangladesh",
         "home-decor",
         68
        ],
        [
         "Lebanon",
         "quotes",
         27
        ],
        [
         "Belarus",
         "travel",
         21
        ],
        [
         "Montenegro",
         "finance",
         9
        ],
        [
         "Luxembourg",
         "diy-and-crafts",
         9
        ],
        [
         "Sweden",
         "event-planning",
         9
        ],
        [
         "Albania",
         "mens-fashion",
         623
        ],
        [
         "Guinea",
         "finance",
         36
        ],
        [
         "Czech Republic",
         "christmas",
         9
        ],
        [
         "Bangladesh",
         "finance",
         90
        ],
        [
         "Albania",
         "event-planning",
         18
        ],
        [
         "Korea",
         "mens-fashion",
         18
        ],
        [
         "French Guiana",
         "education",
         25
        ],
        [
         "Anguilla",
         "diy-and-crafts",
         136
        ],
        [
         "Algeria",
         "art",
         45
        ],
        [
         "India",
         "diy-and-crafts",
         64
        ],
        [
         "Tunisia",
         "travel",
         49
        ],
        [
         "Anguilla",
         "home-decor",
         107
        ],
        [
         "Bermuda",
         "vehicles",
         49
        ],
        [
         "Anguilla",
         "christmas",
         35
        ],
        [
         "Malta",
         "beauty",
         43
        ],
        [
         "Gibraltar",
         "travel",
         18
        ],
        [
         "Canada",
         "art",
         16
        ],
        [
         "Guyana",
         "diy-and-crafts",
         9
        ],
        [
         "Tanzania",
         "art",
         36
        ],
        [
         "Romania",
         "vehicles",
         9
        ],
        [
         "Pakistan",
         "christmas",
         36
        ],
        [
         "Dominica",
         "event-planning",
         34
        ],
        [
         "Bolivia",
         "finance",
         19
        ],
        [
         "Bahamas",
         "mens-fashion",
         4
        ],
        [
         "Sudan",
         "mens-fashion",
         80
        ],
        [
         "Lesotho",
         "art",
         171
        ],
        [
         "Tokelau",
         "beauty",
         9
        ],
        [
         "Italy",
         "beauty",
         10
        ],
        [
         "Bahamas",
         "event-planning",
         103
        ],
        [
         "Aruba",
         "vehicles",
         84
        ],
        [
         "Tuvalu",
         "tattoos",
         36
        ],
        [
         "Croatia",
         "education",
         9
        ],
        [
         "Peru",
         "vehicles",
         16
        ],
        [
         "Netherlands",
         "christmas",
         25
        ],
        [
         "Lebanon",
         "mens-fashion",
         36
        ],
        [
         "Angola",
         "beauty",
         27
        ],
        [
         "Panama",
         "travel",
         121
        ],
        [
         "Cape Verde",
         "diy-and-crafts",
         45
        ],
        [
         "Belize",
         "mens-fashion",
         41
        ],
        [
         "Kuwait",
         "christmas",
         25
        ],
        [
         "Argentina",
         "christmas",
         36
        ],
        [
         "France",
         "beauty",
         34
        ],
        [
         "Belarus",
         "art",
         9
        ],
        [
         "Benin",
         "christmas",
         9
        ],
        [
         "Afghanistan",
         "quotes",
         250
        ],
        [
         "Burkina Faso",
         "diy-and-crafts",
         9
        ],
        [
         "Belgium",
         "christmas",
         18
        ],
        [
         "Bahamas",
         "christmas",
         27
        ],
        [
         "Norway",
         "travel",
         36
        ],
        [
         "Azerbaijan",
         "education",
         18
        ],
        [
         "Guadeloupe",
         "vehicles",
         9
        ],
        [
         "Comoros",
         "beauty",
         5
        ],
        [
         "Turkey",
         "education",
         45
        ],
        [
         "Angola",
         "education",
         43
        ],
        [
         "Albania",
         "beauty",
         249
        ],
        [
         "Bahamas",
         "diy-and-crafts",
         42
        ],
        [
         "Egypt",
         "beauty",
         9
        ],
        [
         "Cape Verde",
         "quotes",
         4
        ],
        [
         "Lebanon",
         "vehicles",
         9
        ],
        [
         "Argentina",
         "tattoos",
         243
        ],
        [
         "Greece",
         "mens-fashion",
         63
        ],
        [
         "Djibouti",
         "home-decor",
         1
        ],
        [
         "Jamaica",
         "home-decor",
         9
        ],
        [
         "Iceland",
         "tattoos",
         9
        ],
        [
         "Norfolk Island",
         "mens-fashion",
         40
        ],
        [
         "Lithuania",
         "art",
         9
        ],
        [
         "El Salvador",
         "travel",
         9
        ],
        [
         "Djibouti",
         "art",
         9
        ],
        [
         "Ukraine",
         "beauty",
         9
        ],
        [
         "Bahamas",
         "finance",
         18
        ],
        [
         "Congo",
         "christmas",
         18
        ],
        [
         "Dominica",
         "christmas",
         5
        ],
        [
         "Dominica",
         "art",
         9
        ],
        [
         "Belgium",
         "travel",
         34
        ],
        [
         "Singapore",
         "art",
         9
        ],
        [
         "Bahrain",
         "travel",
         66
        ],
        [
         "Pakistan",
         "vehicles",
         9
        ],
        [
         "Gambia",
         "travel",
         9
        ],
        [
         "Austria",
         "finance",
         52
        ],
        [
         "Burundi",
         "beauty",
         9
        ],
        [
         "Djibouti",
         "beauty",
         9
        ],
        [
         "Armenia",
         "travel",
         25
        ],
        [
         "Portugal",
         "event-planning",
         9
        ],
        [
         "Denmark",
         "education",
         10
        ],
        [
         "Georgia",
         "art",
         9
        ],
        [
         "Colombia",
         "event-planning",
         9
        ],
        [
         "Kuwait",
         "beauty",
         9
        ],
        [
         "Djibouti",
         "event-planning",
         9
        ],
        [
         "Palau",
         "vehicles",
         1
        ],
        [
         "Ireland",
         "mens-fashion",
         9
        ],
        [
         "Croatia",
         "christmas",
         18
        ],
        [
         "Egypt",
         "finance",
         45
        ],
        [
         "Ethiopia",
         "diy-and-crafts",
         1
        ],
        [
         "Cote d'Ivoire",
         "finance",
         34
        ],
        [
         "Eritrea",
         "art",
         9
        ],
        [
         "Reunion",
         "home-decor",
         9
        ],
        [
         "Algeria",
         "diy-and-crafts",
         9
        ],
        [
         "Germany",
         "education",
         9
        ],
        [
         "Eritrea",
         "diy-and-crafts",
         9
        ],
        [
         "Martinique",
         "art",
         9
        ],
        [
         "French Guiana",
         "finance",
         13
        ],
        [
         "American Samoa",
         "travel",
         97
        ],
        [
         "Netherlands",
         "art",
         9
        ],
        [
         "United Kingdom",
         "quotes",
         9
        ],
        [
         "Belize",
         "quotes",
         1
        ],
        [
         "Anguilla",
         "event-planning",
         16
        ],
        [
         "Botswana",
         "art",
         18
        ],
        [
         "Burundi",
         "mens-fashion",
         77
        ],
        [
         "Greece",
         "travel",
         9
        ],
        [
         "Mauritania",
         "christmas",
         9
        ],
        [
         "Czech Republic",
         "beauty",
         9
        ],
        [
         "Bahrain",
         "diy-and-crafts",
         18
        ],
        [
         "Algeria",
         "event-planning",
         10
        ],
        [
         "Belize",
         "finance",
         9
        ],
        [
         "Palau",
         "travel",
         4
        ],
        [
         "Jamaica",
         "education",
         36
        ],
        [
         "Belgium",
         "art",
         9
        ],
        [
         "Macao",
         "vehicles",
         50
        ],
        [
         "Indonesia",
         "art",
         36
        ],
        [
         "Azerbaijan",
         "home-decor",
         67
        ],
        [
         "Chile",
         "education",
         4
        ],
        [
         "Kuwait",
         "event-planning",
         9
        ],
        [
         "Maldives",
         "education",
         9
        ],
        [
         "Belarus",
         "event-planning",
         18
        ],
        [
         "Belarus",
         "christmas",
         10
        ],
        [
         "Nicaragua",
         "tattoos",
         9
        ],
        [
         "Algeria",
         "vehicles",
         14
        ],
        [
         "Korea",
         "home-decor",
         9
        ],
        [
         "Barbados",
         "art",
         63
        ],
        [
         "Cambodia",
         "education",
         18
        ],
        [
         "Albania",
         "education",
         118
        ],
        [
         "Hungary",
         "vehicles",
         27
        ],
        [
         "Bhutan",
         "beauty",
         18
        ],
        [
         "Czech Republic",
         "travel",
         36
        ],
        [
         "Hungary",
         "event-planning",
         29
        ],
        [
         "American Samoa",
         "christmas",
         52
        ],
        [
         "Angola",
         "finance",
         9
        ],
        [
         "China",
         "vehicles",
         9
        ],
        [
         "Mexico",
         "home-decor",
         13
        ],
        [
         "Liberia",
         "vehicles",
         4
        ],
        [
         "Mayotte",
         "diy-and-crafts",
         36
        ],
        [
         "Congo",
         "travel",
         34
        ],
        [
         "Albania",
         "home-decor",
         72
        ],
        [
         "Cambodia",
         "christmas",
         18
        ],
        [
         "Dominica",
         "mens-fashion",
         9
        ],
        [
         "Bahrain",
         "home-decor",
         9
        ],
        [
         "Belize",
         "home-decor",
         9
        ],
        [
         "Myanmar",
         "christmas",
         10
        ],
        [
         "Costa Rica",
         "christmas",
         58
        ],
        [
         "Austria",
         "travel",
         114
        ],
        [
         "American Samoa",
         "tattoos",
         242
        ],
        [
         "Japan",
         "tattoos",
         4
        ],
        [
         "Angola",
         "travel",
         9
        ],
        [
         "Thailand",
         "event-planning",
         9
        ],
        [
         "Guyana",
         "home-decor",
         9
        ],
        [
         "France",
         "art",
         18
        ],
        [
         "Cyprus",
         "diy-and-crafts",
         1
        ],
        [
         "Mexico",
         "vehicles",
         18
        ],
        [
         "Ethiopia",
         "home-decor",
         16
        ],
        [
         "Ukraine",
         "christmas",
         9
        ],
        [
         "Liberia",
         "christmas",
         9
        ],
        [
         "Poland",
         "diy-and-crafts",
         1
        ],
        [
         "Solomon Islands",
         "art",
         64
        ],
        [
         "Singapore",
         "christmas",
         9
        ],
        [
         "Cote d'Ivoire",
         "quotes",
         18
        ],
        [
         "Kyrgyz Republic",
         "mens-fashion",
         9
        ],
        [
         "Ethiopia",
         "quotes",
         4
        ],
        [
         "Liechtenstein",
         "event-planning",
         9
        ],
        [
         "Cayman Islands",
         "diy-and-crafts",
         4
        ],
        [
         "Germany",
         "event-planning",
         45
        ],
        [
         "Namibia",
         "finance",
         9
        ],
        [
         "Sri Lanka",
         "finance",
         9
        ],
        [
         "Turkey",
         "beauty",
         9
        ],
        [
         "Bolivia",
         "diy-and-crafts",
         89
        ],
        [
         "Benin",
         "education",
         13
        ],
        [
         "Vietnam",
         "home-decor",
         1
        ],
        [
         "Burundi",
         "home-decor",
         9
        ],
        [
         "Barbados",
         "travel",
         119
        ],
        [
         "Venezuela",
         "event-planning",
         9
        ],
        [
         "American Samoa",
         "quotes",
         54
        ],
        [
         "Cote d'Ivoire",
         "diy-and-crafts",
         89
        ],
        [
         "Malawi",
         "beauty",
         9
        ],
        [
         "Bahamas",
         "home-decor",
         19
        ],
        [
         "Guernsey",
         "home-decor",
         9
        ],
        [
         "Cuba",
         "diy-and-crafts",
         22
        ],
        [
         "Bermuda",
         "mens-fashion",
         34
        ],
        [
         "Guernsey",
         "art",
         1
        ],
        [
         "Croatia",
         "tattoos",
         9
        ],
        [
         "Cote d'Ivoire",
         "travel",
         45
        ],
        [
         "Algeria",
         "home-decor",
         25
        ],
        [
         "France",
         "travel",
         1
        ],
        [
         "Israel",
         "mens-fashion",
         4
        ],
        [
         "Bermuda",
         "education",
         9
        ],
        [
         "Western Sahara",
         "travel",
         36
        ],
        [
         "Cayman Islands",
         "art",
         9
        ],
        [
         "Martinique",
         "event-planning",
         9
        ],
        [
         "Ethiopia",
         "art",
         31
        ],
        [
         "Djibouti",
         "vehicles",
         10
        ],
        [
         "Jordan",
         "beauty",
         4
        ],
        [
         "Portugal",
         "beauty",
         1
        ],
        [
         "Argentina",
         "quotes",
         59
        ],
        [
         "Afghanistan",
         "art",
         45
        ],
        [
         "Cook Islands",
         "vehicles",
         9
        ],
        [
         "Cote d'Ivoire",
         "christmas",
         27
        ],
        [
         "Estonia",
         "vehicles",
         32
        ],
        [
         "France",
         "home-decor",
         1
        ],
        [
         "Israel",
         "christmas",
         1
        ],
        [
         "Congo",
         "diy-and-crafts",
         4
        ],
        [
         "Solomon Islands",
         "vehicles",
         52
        ],
        [
         "Zambia",
         "vehicles",
         9
        ],
        [
         "Solomon Islands",
         "christmas",
         9
        ],
        [
         "Comoros",
         "mens-fashion",
         9
        ],
        [
         "Liberia",
         "travel",
         9
        ],
        [
         "Burundi",
         "diy-and-crafts",
         9
        ],
        [
         "Bhutan",
         "home-decor",
         1
        ],
        [
         "Rwanda",
         "travel",
         36
        ],
        [
         "Benin",
         "finance",
         22
        ],
        [
         "Ghana",
         "finance",
         9
        ],
        [
         "Suriname",
         "event-planning",
         9
        ],
        [
         "Uganda",
         "beauty",
         16
        ],
        [
         "Chad",
         "mens-fashion",
         19
        ],
        [
         "Anguilla",
         "education",
         45
        ],
        [
         "Angola",
         "art",
         25
        ],
        [
         "Nepal",
         "mens-fashion",
         9
        ],
        [
         "Qatar",
         "finance",
         9
        ],
        [
         "Equatorial Guinea",
         "event-planning",
         9
        ],
        [
         "Bouvet Island (Bouvetoya)",
         "event-planning",
         44
        ],
        [
         "Saint Barthelemy",
         "mens-fashion",
         25
        ],
        [
         "Cuba",
         "vehicles",
         9
        ],
        [
         "Central African Republic",
         "christmas",
         42
        ],
        [
         "Jordan",
         "vehicles",
         9
        ],
        [
         "Cocos (Keeling) Islands",
         "christmas",
         9
        ],
        [
         "Belarus",
         "home-decor",
         9
        ],
        [
         "Israel",
         "art",
         16
        ],
        [
         "Bulgaria",
         "education",
         34
        ],
        [
         "Vietnam",
         "travel",
         9
        ],
        [
         "Madagascar",
         "mens-fashion",
         9
        ],
        [
         "Afghanistan",
         "finance",
         76
        ],
        [
         "Libyan Arab Jamahiriya",
         "christmas",
         34
        ],
        [
         "Guinea",
         "travel",
         4
        ],
        [
         "Japan",
         "vehicles",
         9
        ],
        [
         "Ecuador",
         "home-decor",
         18
        ],
        [
         "Tonga",
         "beauty",
         36
        ],
        [
         "Kyrgyz Republic",
         "vehicles",
         9
        ],
        [
         "Malta",
         "art",
         49
        ],
        [
         "Morocco",
         "vehicles",
         36
        ],
        [
         "Niue",
         "quotes",
         41
        ],
        [
         "Cocos (Keeling) Islands",
         "beauty",
         9
        ],
        [
         "Christmas Island",
         "vehicles",
         45
        ],
        [
         "French Polynesia",
         "quotes",
         16
        ],
        [
         "Grenada",
         "mens-fashion",
         9
        ],
        [
         "Niue",
         "tattoos",
         16
        ],
        [
         "Dominican Republic",
         "travel",
         90
        ],
        [
         "Iraq",
         "christmas",
         9
        ],
        [
         "Russian Federation",
         "christmas",
         9
        ],
        [
         "Benin",
         "quotes",
         16
        ],
        [
         "Bosnia and Herzegovina",
         "christmas",
         43
        ],
        [
         "British Virgin Islands",
         "education",
         36
        ],
        [
         "Benin",
         "diy-and-crafts",
         16
        ],
        [
         "Namibia",
         "christmas",
         9
        ],
        [
         "Thailand",
         "home-decor",
         9
        ],
        [
         "Pitcairn Islands",
         "diy-and-crafts",
         45
        ],
        [
         "Congo",
         "beauty",
         16
        ],
        [
         "Malta",
         "event-planning",
         9
        ],
        [
         "Wallis and Futuna",
         "home-decor",
         81
        ],
        [
         "Kazakhstan",
         "tattoos",
         9
        ],
        [
         "Greenland",
         "travel",
         9
        ],
        [
         "Liberia",
         "beauty",
         9
        ],
        [
         "British Virgin Islands",
         "diy-and-crafts",
         25
        ],
        [
         "Iraq",
         "tattoos",
         13
        ],
        [
         "Afghanistan",
         "christmas",
         25
        ],
        [
         "Germany",
         "finance",
         34
        ],
        [
         "Cuba",
         "education",
         8
        ],
        [
         "Dominican Republic",
         "home-decor",
         116
        ],
        [
         "Bosnia and Herzegovina",
         "travel",
         16
        ],
        [
         "Belarus",
         "vehicles",
         25
        ],
        [
         "Czech Republic",
         "event-planning",
         25
        ],
        [
         "Norway",
         "art",
         25
        ],
        [
         "Botswana",
         "tattoos",
         181
        ],
        [
         "China",
         "quotes",
         9
        ],
        [
         "Swaziland",
         "quotes",
         9
        ],
        [
         "Georgia",
         "beauty",
         10
        ],
        [
         "Japan",
         "art",
         26
        ],
        [
         "Liberia",
         "event-planning",
         9
        ],
        [
         "Aruba",
         "diy-and-crafts",
         45
        ],
        [
         "Solomon Islands",
         "mens-fashion",
         25
        ],
        [
         "Samoa",
         "diy-and-crafts",
         16
        ],
        [
         "Aruba",
         "art",
         153
        ],
        [
         "United States of America",
         "tattoos",
         9
        ],
        [
         "Ghana",
         "quotes",
         4
        ],
        [
         "Brunei Darussalam",
         "finance",
         18
        ],
        [
         "Papua New Guinea",
         "quotes",
         99
        ],
        [
         "Norway",
         "home-decor",
         9
        ],
        [
         "Iran",
         "christmas",
         25
        ],
        [
         "Libyan Arab Jamahiriya",
         "quotes",
         9
        ],
        [
         "Saint Martin",
         "quotes",
         9
        ],
        [
         "Botswana",
         "home-decor",
         9
        ],
        [
         "India",
         "tattoos",
         9
        ],
        [
         "Korea",
         "diy-and-crafts",
         1
        ],
        [
         "Kenya",
         "art",
         10
        ],
        [
         "Barbados",
         "finance",
         13
        ],
        [
         "Christmas Island",
         "travel",
         90
        ],
        [
         "Niue",
         "diy-and-crafts",
         9
        ],
        [
         "India",
         "finance",
         25
        ],
        [
         "Niger",
         "christmas",
         8
        ],
        [
         "Guam",
         "mens-fashion",
         9
        ],
        [
         "Brazil",
         "event-planning",
         16
        ],
        [
         "Taiwan",
         "mens-fashion",
         9
        ],
        [
         "Kenya",
         "home-decor",
         9
        ],
        [
         "British Virgin Islands",
         "christmas",
         91
        ],
        [
         "Turks and Caicos Islands",
         "event-planning",
         36
        ],
        [
         "Belgium",
         "tattoos",
         9
        ],
        [
         "San Marino",
         "art",
         9
        ],
        [
         "Christmas Island",
         "event-planning",
         27
        ],
        [
         "Somalia",
         "vehicles",
         9
        ],
        [
         "Gambia",
         "art",
         4
        ],
        [
         "Saint Barthelemy",
         "education",
         36
        ],
        [
         "Micronesia",
         "travel",
         9
        ],
        [
         "Marshall Islands",
         "vehicles",
         9
        ],
        [
         "Bhutan",
         "education",
         16
        ],
        [
         "Azerbaijan",
         "tattoos",
         18
        ],
        [
         "Brunei Darussalam",
         "event-planning",
         27
        ],
        [
         "Bangladesh",
         "travel",
         9
        ],
        [
         "Yemen",
         "christmas",
         9
        ],
        [
         "French Polynesia",
         "event-planning",
         44
        ],
        [
         "Sudan",
         "home-decor",
         9
        ],
        [
         "Niger",
         "beauty",
         9
        ],
        [
         "Cocos (Keeling) Islands",
         "event-planning",
         18
        ],
        [
         "Yemen",
         "home-decor",
         9
        ],
        [
         "Malta",
         "christmas",
         9
        ],
        [
         "Mozambique",
         "mens-fashion",
         16
        ],
        [
         "Central African Republic",
         "education",
         26
        ],
        [
         "Marshall Islands",
         "home-decor",
         36
        ],
        [
         "Puerto Rico",
         "christmas",
         18
        ],
        [
         "Guatemala",
         "diy-and-crafts",
         9
        ],
        [
         "Christmas Island",
         "home-decor",
         19
        ],
        [
         "Burundi",
         "education",
         9
        ],
        [
         "Benin",
         "art",
         13
        ],
        [
         "Japan",
         "beauty",
         9
        ],
        [
         "Greece",
         "art",
         16
        ],
        [
         "Andorra",
         "home-decor",
         25
        ],
        [
         "Belgium",
         "vehicles",
         18
        ],
        [
         "Nauru",
         "tattoos",
         4
        ],
        [
         "Afghanistan",
         "education",
         338
        ],
        [
         "Ireland",
         "event-planning",
         16
        ],
        [
         "British Virgin Islands",
         "finance",
         16
        ],
        [
         "Barbados",
         "education",
         93
        ],
        [
         "British Virgin Islands",
         "quotes",
         16
        ],
        [
         "Bosnia and Herzegovina",
         "diy-and-crafts",
         10
        ],
        [
         "Nepal",
         "finance",
         9
        ],
        [
         "Antigua and Barbuda",
         "mens-fashion",
         18
        ],
        [
         "Equatorial Guinea",
         "mens-fashion",
         16
        ],
        [
         "Tokelau",
         "art",
         9
        ],
        [
         "Fiji",
         "vehicles",
         9
        ],
        [
         "Cameroon",
         "christmas",
         25
        ],
        [
         "Turks and Caicos Islands",
         "vehicles",
         9
        ],
        [
         "Netherlands",
         "home-decor",
         59
        ],
        [
         "Togo",
         "mens-fashion",
         9
        ],
        [
         "Mali",
         "mens-fashion",
         9
        ],
        [
         "Cocos (Keeling) Islands",
         "finance",
         22
        ],
        [
         "Panama",
         "beauty",
         9
        ],
        [
         "Greece",
         "event-planning",
         16
        ],
        [
         "Bangladesh",
         "event-planning",
         9
        ],
        [
         "Christmas Island",
         "christmas",
         49
        ],
        [
         "French Polynesia",
         "diy-and-crafts",
         81
        ],
        [
         "Egypt",
         "diy-and-crafts",
         36
        ],
        [
         "Chad",
         "finance",
         9
        ],
        [
         "Ghana",
         "education",
         1
        ],
        [
         "Niue",
         "education",
         5
        ],
        [
         "Spain",
         "christmas",
         4
        ],
        [
         "Bosnia and Herzegovina",
         "tattoos",
         27
        ],
        [
         "Guatemala",
         "home-decor",
         9
        ],
        [
         "Guatemala",
         "christmas",
         9
        ],
        [
         "Pitcairn Islands",
         "education",
         4
        ],
        [
         "Nepal",
         "vehicles",
         1
        ],
        [
         "Paraguay",
         "event-planning",
         9
        ],
        [
         "Dominican Republic",
         "vehicles",
         10
        ],
        [
         "Central African Republic",
         "finance",
         18
        ],
        [
         "Cambodia",
         "vehicles",
         81
        ],
        [
         "Azerbaijan",
         "diy-and-crafts",
         45
        ],
        [
         "India",
         "beauty",
         25
        ],
        [
         "Serbia",
         "travel",
         25
        ],
        [
         "Honduras",
         "beauty",
         9
        ],
        [
         "Pitcairn Islands",
         "finance",
         10
        ],
        [
         "Jersey",
         "mens-fashion",
         9
        ],
        [
         "Antigua and Barbuda",
         "finance",
         27
        ],
        [
         "Brunei Darussalam",
         "education",
         9
        ],
        [
         "Oman",
         "finance",
         9
        ],
        [
         "Iceland",
         "vehicles",
         10
        ],
        [
         "Haiti",
         "finance",
         9
        ],
        [
         "Macao",
         "quotes",
         9
        ],
        [
         "Bulgaria",
         "finance",
         89
        ],
        [
         "Gabon",
         "home-decor",
         16
        ],
        [
         "Russian Federation",
         "finance",
         9
        ],
        [
         "Bouvet Island (Bouvetoya)",
         "mens-fashion",
         18
        ],
        [
         "Brunei Darussalam",
         "diy-and-crafts",
         25
        ],
        [
         "Bosnia and Herzegovina",
         "education",
         36
        ],
        [
         "Jamaica",
         "travel",
         9
        ],
        [
         "Marshall Islands",
         "travel",
         9
        ],
        [
         "Gambia",
         "mens-fashion",
         9
        ],
        [
         "Cuba",
         "mens-fashion",
         25
        ],
        [
         "Antarctica (the territory South of 60 deg S)",
         "beauty",
         36
        ],
        [
         "French Guiana",
         "quotes",
         90
        ],
        [
         "Slovakia (Slovak Republic)",
         "vehicles",
         49
        ],
        [
         "Cocos (Keeling) Islands",
         "vehicles",
         80
        ],
        [
         "Fiji",
         "finance",
         16
        ],
        [
         "Bouvet Island (Bouvetoya)",
         "diy-and-crafts",
         68
        ],
        [
         "Cape Verde",
         "beauty",
         16
        ],
        [
         "Saint Lucia",
         "education",
         9
        ],
        [
         "Afghanistan",
         "event-planning",
         43
        ],
        [
         "French Polynesia",
         "art",
         9
        ],
        [
         "Saint Kitts and Nevis",
         "home-decor",
         10
        ],
        [
         "American Samoa",
         "mens-fashion",
         18
        ],
        [
         "Antarctica (the territory South of 60 deg S)",
         "mens-fashion",
         18
        ],
        [
         "Antarctica (the territory South of 60 deg S)",
         "tattoos",
         117
        ],
        [
         "Russian Federation",
         "home-decor",
         9
        ],
        [
         "Bouvet Island (Bouvetoya)",
         "finance",
         10
        ],
        [
         "Cayman Islands",
         "vehicles",
         1
        ],
        [
         "British Virgin Islands",
         "vehicles",
         10
        ],
        [
         "United States Virgin Islands",
         "art",
         18
        ],
        [
         "Antarctica (the territory South of 60 deg S)",
         "event-planning",
         18
        ],
        [
         "Niger",
         "art",
         16
        ],
        [
         "Guam",
         "travel",
         36
        ],
        [
         "Cayman Islands",
         "travel",
         25
        ],
        [
         "Guinea-Bissau",
         "vehicles",
         36
        ],
        [
         "New Caledonia",
         "mens-fashion",
         36
        ],
        [
         "Afghanistan",
         "mens-fashion",
         128
        ],
        [
         "Nauru",
         "education",
         9
        ],
        [
         "Falkland Islands (Malvinas)",
         "christmas",
         10
        ],
        [
         "Cook Islands",
         "event-planning",
         4
        ],
        [
         "Turkmenistan",
         "diy-and-crafts",
         36
        ],
        [
         "American Samoa",
         "diy-and-crafts",
         32
        ],
        [
         "Dominican Republic",
         "tattoos",
         4
        ],
        [
         "Falkland Islands (Malvinas)",
         "education",
         9
        ],
        [
         "South Georgia and the South Sandwich Islands",
         "finance",
         9
        ],
        [
         "Switzerland",
         "art",
         4
        ],
        [
         "United States of America",
         "education",
         9
        ],
        [
         "Equatorial Guinea",
         "christmas",
         1
        ],
        [
         "United States Virgin Islands",
         "quotes",
         25
        ],
        [
         "Iraq",
         "diy-and-crafts",
         9
        ],
        [
         "American Samoa",
         "beauty",
         165
        ],
        [
         "Oman",
         "beauty",
         9
        ],
        [
         "French Southern Territories",
         "art",
         9
        ],
        [
         "Costa Rica",
         "vehicles",
         1
        ],
        [
         "Saudi Arabia",
         "mens-fashion",
         2
        ],
        [
         "Falkland Islands (Malvinas)",
         "vehicles",
         9
        ],
        [
         "Netherlands Antilles",
         "mens-fashion",
         36
        ],
        [
         "Bouvet Island (Bouvetoya)",
         "vehicles",
         9
        ],
        [
         "Faroe Islands",
         "tattoos",
         36
        ],
        [
         "Cayman Islands",
         "christmas",
         11
        ],
        [
         "Azerbaijan",
         "travel",
         36
        ],
        [
         "Dominican Republic",
         "finance",
         35
        ],
        [
         "Falkland Islands (Malvinas)",
         "finance",
         9
        ],
        [
         "Slovakia (Slovak Republic)",
         "quotes",
         9
        ],
        [
         "French Southern Territories",
         "finance",
         36
        ],
        [
         "New Zealand",
         "tattoos",
         25
        ],
        [
         "Antigua and Barbuda",
         "art",
         162
        ],
        [
         "El Salvador",
         "quotes",
         16
        ],
        [
         "Central African Republic",
         "mens-fashion",
         34
        ],
        [
         "Azerbaijan",
         "quotes",
         16
        ],
        [
         "Cuba",
         "finance",
         9
        ],
        [
         "French Polynesia",
         "home-decor",
         1
        ],
        [
         "Netherlands Antilles",
         "art",
         36
        ],
        [
         "New Caledonia",
         "art",
         36
        ],
        [
         "Montserrat",
         "vehicles",
         14
        ],
        [
         "Antigua and Barbuda",
         "christmas",
         166
        ],
        [
         "Saint Pierre and Miquelon",
         "mens-fashion",
         83
        ],
        [
         "Equatorial Guinea",
         "travel",
         36
        ],
        [
         "American Samoa",
         "education",
         168
        ],
        [
         "Dominica",
         "education",
         1
        ],
        [
         "Cote d'Ivoire",
         "education",
         80
        ],
        [
         "South Africa",
         "vehicles",
         25
        ],
        [
         "Iran",
         "mens-fashion",
         9
        ],
        [
         "United States of America",
         "mens-fashion",
         4
        ],
        [
         "Central African Republic",
         "travel",
         36
        ],
        [
         "United States Virgin Islands",
         "christmas",
         10
        ],
        [
         "Solomon Islands",
         "education",
         4
        ],
        [
         "Papua New Guinea",
         "event-planning",
         9
        ],
        [
         "Guadeloupe",
         "home-decor",
         36
        ],
        [
         "Slovakia (Slovak Republic)",
         "finance",
         16
        ],
        [
         "Antarctica (the territory South of 60 deg S)",
         "finance",
         99
        ],
        [
         "Solomon Islands",
         "beauty",
         9
        ],
        [
         "Bouvet Island (Bouvetoya)",
         "travel",
         43
        ],
        [
         "Bouvet Island (Bouvetoya)",
         "quotes",
         16
        ],
        [
         "Faroe Islands",
         "beauty",
         9
        ],
        [
         "Afghanistan",
         "tattoos",
         34
        ],
        [
         "Afghanistan",
         "travel",
         41
        ],
        [
         "Liechtenstein",
         "vehicles",
         9
        ],
        [
         "Antigua and Barbuda",
         "diy-and-crafts",
         36
        ],
        [
         "Cocos (Keeling) Islands",
         "travel",
         35
        ],
        [
         "Central African Republic",
         "diy-and-crafts",
         9
        ],
        [
         "Bouvet Island (Bouvetoya)",
         "home-decor",
         39
        ],
        [
         "Burkina Faso",
         "beauty",
         9
        ],
        [
         "Falkland Islands (Malvinas)",
         "home-decor",
         18
        ],
        [
         "Guinea-Bissau",
         "christmas",
         25
        ],
        [
         "Guinea-Bissau",
         "tattoos",
         36
        ],
        [
         "Trinidad and Tobago",
         "christmas",
         49
        ],
        [
         "Peru",
         "tattoos",
         36
        ],
        [
         "Switzerland",
         "education",
         9
        ],
        [
         "Turks and Caicos Islands",
         "tattoos",
         9
        ],
        [
         "South Georgia and the South Sandwich Islands",
         "diy-and-crafts",
         1
        ],
        [
         "Afghanistan",
         "home-decor",
         52
        ],
        [
         "Slovakia (Slovak Republic)",
         "event-planning",
         1
        ],
        [
         "Dominican Republic",
         "education",
         17
        ],
        [
         "Egypt",
         "travel",
         16
        ],
        [
         "Ghana",
         "art",
         73
        ],
        [
         "Saint Helena",
         "beauty",
         36
        ],
        [
         "Mali",
         "christmas",
         25
        ],
        [
         "Afghanistan",
         "diy-and-crafts",
         94
        ],
        [
         "Pitcairn Islands",
         "event-planning",
         4
        ],
        [
         "Turkmenistan",
         "event-planning",
         16
        ],
        [
         "Anguilla",
         "art",
         1
        ],
        [
         "Bouvet Island (Bouvetoya)",
         "christmas",
         17
        ],
        [
         "South Georgia and the South Sandwich Islands",
         "vehicles",
         9
        ],
        [
         "Saint Barthelemy",
         "christmas",
         1
        ],
        [
         "Belarus",
         "education",
         1
        ],
        [
         "Cuba",
         "tattoos",
         9
        ],
        [
         "American Samoa",
         "home-decor",
         18
        ],
        [
         "Fiji",
         "mens-fashion",
         18
        ],
        [
         "Bouvet Island (Bouvetoya)",
         "art",
         1
        ],
        [
         "China",
         "beauty",
         9
        ],
        [
         "Bouvet Island (Bouvetoya)",
         "tattoos",
         52
        ],
        [
         "Timor-Leste",
         "travel",
         34
        ],
        [
         "Saint Barthelemy",
         "beauty",
         9
        ],
        [
         "Turkmenistan",
         "travel",
         36
        ],
        [
         "Faroe Islands",
         "christmas",
         9
        ],
        [
         "Cocos (Keeling) Islands",
         "diy-and-crafts",
         1
        ],
        [
         "Saint Pierre and Miquelon",
         "vehicles",
         9
        ],
        [
         "Falkland Islands (Malvinas)",
         "event-planning",
         45
        ],
        [
         "Svalbard & Jan Mayen Islands",
         "beauty",
         9
        ],
        [
         "Antigua and Barbuda",
         "travel",
         48
        ],
        [
         "Switzerland",
         "vehicles",
         5
        ],
        [
         "Switzerland",
         "home-decor",
         1
        ],
        [
         "Antigua and Barbuda",
         "education",
         9
        ],
        [
         "Antarctica (the territory South of 60 deg S)",
         "christmas",
         115
        ],
        [
         "South Georgia and the South Sandwich Islands",
         "event-planning",
         9
        ],
        [
         "Antarctica (the territory South of 60 deg S)",
         "home-decor",
         1
        ],
        [
         "Faroe Islands",
         "event-planning",
         90
        ],
        [
         "El Salvador",
         "event-planning",
         25
        ],
        [
         "Dominican Republic",
         "christmas",
         5
        ],
        [
         "Bangladesh",
         "vehicles",
         34
        ],
        [
         "Antarctica (the territory South of 60 deg S)",
         "art",
         45
        ],
        [
         "French Southern Territories",
         "home-decor",
         49
        ],
        [
         "Antarctica (the territory South of 60 deg S)",
         "quotes",
         9
        ],
        [
         "Macao",
         "art",
         9
        ],
        [
         "American Samoa",
         "finance",
         4
        ],
        [
         "Saudi Arabia",
         "finance",
         16
        ],
        [
         "Switzerland",
         "quotes",
         9
        ],
        [
         "Palestinian Territory",
         "vehicles",
         36
        ],
        [
         "Lebanon",
         "home-decor",
         9
        ],
        [
         "Barbados",
         "diy-and-crafts",
         9
        ],
        [
         "Saudi Arabia",
         "beauty",
         9
        ],
        [
         "Bulgaria",
         "quotes",
         25
        ],
        [
         "Bosnia and Herzegovina",
         "finance",
         14
        ],
        [
         "Greenland",
         "christmas",
         9
        ],
        [
         "Sao Tome and Principe",
         "tattoos",
         36
        ],
        [
         "Austria",
         "vehicles",
         9
        ],
        [
         "Macedonia",
         "finance",
         9
        ],
        [
         "Singapore",
         "beauty",
         9
        ],
        [
         "Finland",
         "art",
         9
        ],
        [
         "Cambodia",
         "diy-and-crafts",
         80
        ],
        [
         "Guatemala",
         "mens-fashion",
         25
        ],
        [
         "Singapore",
         "vehicles",
         16
        ],
        [
         "Saint Kitts and Nevis",
         "event-planning",
         9
        ],
        [
         "Jamaica",
         "vehicles",
         63
        ],
        [
         "Palestinian Territory",
         "quotes",
         9
        ],
        [
         "Bulgaria",
         "diy-and-crafts",
         1
        ],
        [
         "Botswana",
         "diy-and-crafts",
         16
        ],
        [
         "Cameroon",
         "beauty",
         16
        ],
        [
         "British Virgin Islands",
         "tattoos",
         9
        ],
        [
         "Bulgaria",
         "travel",
         4
        ],
        [
         "Lithuania",
         "education",
         81
        ],
        [
         "Cook Islands",
         "travel",
         9
        ],
        [
         "Australia",
         "tattoos",
         9
        ],
        [
         "Paraguay",
         "vehicles",
         26
        ],
        [
         "Honduras",
         "vehicles",
         4
        ],
        [
         "Slovenia",
         "education",
         9
        ],
        [
         "Barbados",
         "mens-fashion",
         1
        ],
        [
         "Lithuania",
         "vehicles",
         9
        ],
        [
         "Sri Lanka",
         "mens-fashion",
         9
        ],
        [
         "Estonia",
         "diy-and-crafts",
         9
        ],
        [
         "Mauritius",
         "quotes",
         9
        ],
        [
         "San Marino",
         "travel",
         9
        ],
        [
         "Andorra",
         "mens-fashion",
         9
        ],
        [
         "New Zealand",
         "event-planning",
         9
        ],
        [
         "Georgia",
         "vehicles",
         9
        ],
        [
         "Tanzania",
         "mens-fashion",
         4
        ],
        [
         "Pakistan",
         "event-planning",
         4
        ],
        [
         "Saint Kitts and Nevis",
         "vehicles",
         36
        ],
        [
         "Montserrat",
         "education",
         9
        ],
        [
         "Martinique",
         "christmas",
         9
        ],
        [
         "Guatemala",
         "education",
         16
        ],
        [
         "Cameroon",
         "finance",
         9
        ],
        [
         "Greece",
         "education",
         1
        ],
        [
         "Indonesia",
         "beauty",
         1
        ],
        [
         "Sri Lanka",
         "vehicles",
         9
        ],
        [
         "British Virgin Islands",
         "event-planning",
         81
        ],
        [
         "Venezuela",
         "finance",
         9
        ],
        [
         "Latvia",
         "travel",
         1
        ],
        [
         "Mayotte",
         "beauty",
         9
        ],
        [
         "Seychelles",
         "beauty",
         45
        ],
        [
         "Slovenia",
         "beauty",
         25
        ],
        [
         "Guernsey",
         "christmas",
         1
        ],
        [
         "Kiribati",
         "finance",
         16
        ],
        [
         "Sao Tome and Principe",
         "finance",
         36
        ],
        [
         "Comoros",
         "tattoos",
         9
        ],
        [
         "Grenada",
         "travel",
         9
        ],
        [
         "Mauritius",
         "mens-fashion",
         16
        ],
        [
         "Maldives",
         "finance",
         45
        ],
        [
         "Bosnia and Herzegovina",
         "art",
         16
        ],
        [
         "Saint Kitts and Nevis",
         "education",
         9
        ],
        [
         "Montserrat",
         "tattoos",
         9
        ],
        [
         "Singapore",
         "event-planning",
         9
        ],
        [
         "San Marino",
         "mens-fashion",
         9
        ],
        [
         "Belize",
         "travel",
         9
        ],
        [
         "El Salvador",
         "beauty",
         9
        ],
        [
         "Nicaragua",
         "christmas",
         1
        ],
        [
         "Micronesia",
         "event-planning",
         1
        ],
        [
         "Argentina",
         "mens-fashion",
         9
        ],
        [
         "Nicaragua",
         "art",
         9
        ],
        [
         "Cameroon",
         "quotes",
         4
        ],
        [
         "Maldives",
         "diy-and-crafts",
         16
        ],
        [
         "Cyprus",
         "event-planning",
         9
        ],
        [
         "Mongolia",
         "vehicles",
         9
        ],
        [
         "Montserrat",
         "diy-and-crafts",
         1
        ],
        [
         "Australia",
         "art",
         9
        ],
        [
         "Portugal",
         "diy-and-crafts",
         36
        ],
        [
         "Nicaragua",
         "event-planning",
         16
        ],
        [
         "Swaziland",
         "travel",
         16
        ],
        [
         "Albania",
         "vehicles",
         9
        ],
        [
         "Argentina",
         "beauty",
         36
        ],
        [
         "Netherlands",
         "finance",
         4
        ],
        [
         "Colombia",
         "christmas",
         4
        ],
        [
         "Colombia",
         "mens-fashion",
         9
        ],
        [
         "United States of America",
         "quotes",
         9
        ],
        [
         "Ethiopia",
         "tattoos",
         20
        ],
        [
         "Barbados",
         "christmas",
         18
        ],
        [
         "Saudi Arabia",
         "home-decor",
         1
        ],
        [
         "Sweden",
         "diy-and-crafts",
         9
        ],
        [
         "Isle of Man",
         "event-planning",
         1
        ],
        [
         "Tajikistan",
         "education",
         1
        ],
        [
         "Madagascar",
         "diy-and-crafts",
         1
        ],
        [
         "Bangladesh",
         "beauty",
         1
        ],
        [
         "Bahrain",
         "education",
         9
        ],
        [
         "Bolivia",
         "tattoos",
         1
        ],
        [
         "Korea",
         "christmas",
         1
        ],
        [
         "Finland",
         "diy-and-crafts",
         1
        ],
        [
         "Cocos (Keeling) Islands",
         "quotes",
         9
        ],
        [
         "Saint Helena",
         "art",
         9
        ],
        [
         "Palestinian Territory",
         "art",
         13
        ],
        [
         "Benin",
         "home-decor",
         1
        ],
        [
         "Burkina Faso",
         "vehicles",
         16
        ],
        [
         "Haiti",
         "home-decor",
         9
        ],
        [
         "Gabon",
         "education",
         9
        ],
        [
         "Antigua and Barbuda",
         "vehicles",
         9
        ],
        [
         "Christmas Island",
         "art",
         9
        ],
        [
         "Congo",
         "event-planning",
         9
        ],
        [
         "Libyan Arab Jamahiriya",
         "beauty",
         16
        ],
        [
         "Guyana",
         "tattoos",
         16
        ],
        [
         "Palestinian Territory",
         "christmas",
         9
        ],
        [
         "Philippines",
         "vehicles",
         9
        ],
        [
         "Kenya",
         "mens-fashion",
         9
        ],
        [
         "Palestinian Territory",
         "travel",
         9
        ],
        [
         "Czech Republic",
         "finance",
         18
        ],
        [
         "Vietnam",
         "finance",
         1
        ],
        [
         "Netherlands Antilles",
         "beauty",
         45
        ],
        [
         "Sudan",
         "education",
         9
        ],
        [
         "Christmas Island",
         "quotes",
         9
        ],
        [
         "Ghana",
         "vehicles",
         1
        ],
        [
         "Dominican Republic",
         "art",
         1
        ],
        [
         "Marshall Islands",
         "event-planning",
         1
        ],
        [
         "Comoros",
         "diy-and-crafts",
         4
        ],
        [
         "Antigua and Barbuda",
         "quotes",
         60
        ],
        [
         "Kyrgyz Republic",
         "christmas",
         1
        ],
        [
         "Bolivia",
         "event-planning",
         1
        ],
        [
         "Syrian Arab Republic",
         "beauty",
         1
        ],
        [
         "Christmas Island",
         "tattoos",
         8
        ],
        [
         "Australia",
         "quotes",
         9
        ],
        [
         "Haiti",
         "beauty",
         1
        ],
        [
         "Christmas Island",
         "beauty",
         4
        ],
        [
         "Wallis and Futuna",
         "event-planning",
         1
        ],
        [
         "Netherlands Antilles",
         "travel",
         9
        ],
        [
         "Syrian Arab Republic",
         "vehicles",
         4
        ],
        [
         "Libyan Arab Jamahiriya",
         "education",
         9
        ],
        [
         "Macao",
         "education",
         9
        ],
        [
         "Japan",
         "mens-fashion",
         9
        ],
        [
         "Nigeria",
         "quotes",
         1
        ],
        [
         "Singapore",
         "travel",
         9
        ],
        [
         "Moldova",
         "vehicles",
         1
        ],
        [
         "Antigua and Barbuda",
         "tattoos",
         38
        ],
        [
         "Tuvalu",
         "event-planning",
         1
        ],
        [
         "Kyrgyz Republic",
         "education",
         9
        ],
        [
         "British Virgin Islands",
         "travel",
         16
        ],
        [
         "Wallis and Futuna",
         "finance",
         9
        ],
        [
         "Bosnia and Herzegovina",
         "quotes",
         9
        ],
        [
         "Trinidad and Tobago",
         "vehicles",
         9
        ],
        [
         "Saint Kitts and Nevis",
         "beauty",
         9
        ],
        [
         "Bahamas",
         "beauty",
         1
        ],
        [
         "Isle of Man",
         "education",
         9
        ],
        [
         "Portugal",
         "education",
         1
        ],
        [
         "Lao People's Democratic Republic",
         "beauty",
         10
        ],
        [
         "Lao People's Democratic Republic",
         "quotes",
         9
        ],
        [
         "Antarctica (the territory South of 60 deg S)",
         "travel",
         36
        ],
        [
         "Ghana",
         "beauty",
         36
        ],
        [
         "Svalbard & Jan Mayen Islands",
         "travel",
         64
        ],
        [
         "Togo",
         "christmas",
         36
        ],
        [
         "British Indian Ocean Territory (Chagos Archipelago)",
         "beauty",
         4
        ],
        [
         "Peru",
         "art",
         36
        ],
        [
         "Holy See (Vatican City State)",
         "mens-fashion",
         25
        ],
        [
         "United States Minor Outlying Islands",
         "vehicles",
         9
        ],
        [
         "Saint Vincent and the Grenadines",
         "christmas",
         37
        ],
        [
         "British Indian Ocean Territory (Chagos Archipelago)",
         "tattoos",
         9
        ],
        [
         "British Indian Ocean Territory (Chagos Archipelago)",
         "diy-and-crafts",
         9
        ],
        [
         "Palestinian Territory",
         "event-planning",
         9
        ],
        [
         "Heard Island and McDonald Islands",
         "mens-fashion",
         18
        ],
        [
         "Lao People's Democratic Republic",
         "finance",
         4
        ],
        [
         "United States Minor Outlying Islands",
         "beauty",
         9
        ],
        [
         "British Indian Ocean Territory (Chagos Archipelago)",
         "mens-fashion",
         22
        ],
        [
         "India",
         "art",
         9
        ],
        [
         "Holy See (Vatican City State)",
         "tattoos",
         1
        ],
        [
         "Cocos (Keeling) Islands",
         "art",
         9
        ],
        [
         "Northern Mariana Islands",
         "art",
         1
        ],
        [
         "Central African Republic",
         "art",
         9
        ],
        [
         "Heard Island and McDonald Islands",
         "vehicles",
         18
        ],
        [
         "Heard Island and McDonald Islands",
         "travel",
         9
        ],
        [
         "Cayman Islands",
         "education",
         1
        ],
        [
         "Holy See (Vatican City State)",
         "event-planning",
         9
        ],
        [
         "British Indian Ocean Territory (Chagos Archipelago)",
         "quotes",
         4
        ],
        [
         "Iran",
         "art",
         18
        ],
        [
         "Lao People's Democratic Republic",
         "mens-fashion",
         4
        ],
        [
         "Saint Vincent and the Grenadines",
         "quotes",
         9
        ],
        [
         "Saint Vincent and the Grenadines",
         "diy-and-crafts",
         1
        ],
        [
         "French Southern Territories",
         "travel",
         9
        ],
        [
         "Heard Island and McDonald Islands",
         "quotes",
         9
        ],
        [
         "British Indian Ocean Territory (Chagos Archipelago)",
         "finance",
         9
        ],
        [
         "Macao",
         "diy-and-crafts",
         9
        ],
        [
         "United States Minor Outlying Islands",
         "mens-fashion",
         9
        ],
        [
         "Iran",
         "event-planning",
         9
        ]
       ],
       "datasetInfos": [],
       "dbfsResultPath": null,
       "isJsonSchema": true,
       "metadata": {},
       "overflow": false,
       "plotOptions": {
        "customPlotOptions": {},
        "displayType": "table",
        "pivotAggregation": null,
        "pivotColumns": null,
        "xColumns": null,
        "yColumns": null
       },
       "removedWidgets": [],
       "schema": [
        {
         "metadata": "{}",
         "name": "country",
         "type": "\"string\""
        },
        {
         "metadata": "{}",
         "name": "category",
         "type": "\"string\""
        },
        {
         "metadata": "{}",
         "name": "category_count",
         "type": "\"long\""
        }
       ],
       "type": "table"
      }
     },
     "output_type": "display_data"
    }
   ],
   "source": [
    "%sql\n",
    "-- 4 Find the most popular Pinterest category people post to based on their country. \n",
    "SELECT country, category, COUNT(category) AS category_count\n",
    "FROM\n",
    "12f2c229fbdb_temp_view_geo geo\n",
    "JOIN 12f2c229fbdb_temp_view_pin pin On geo.ind = pin.ind\n",
    "GROUP BY country, category\n",
    ";"
   ]
  },
  {
   "cell_type": "code",
   "execution_count": 0,
   "metadata": {
    "application/vnd.databricks.v1+cell": {
     "cellMetadata": {
      "byteLimit": 2048000,
      "implicitDf": true,
      "rowLimit": 10000
     },
     "inputWidgets": {},
     "nuid": "fc3f565e-c464-455d-920a-bc17d6df0039",
     "showTitle": false,
     "title": ""
    }
   },
   "outputs": [
    {
     "output_type": "display_data",
     "data": {
      "text/html": [
       "<style scoped>\n",
       "  .table-result-container {\n",
       "    max-height: 300px;\n",
       "    overflow: auto;\n",
       "  }\n",
       "  table, th, td {\n",
       "    border: 1px solid black;\n",
       "    border-collapse: collapse;\n",
       "  }\n",
       "  th, td {\n",
       "    padding: 5px;\n",
       "  }\n",
       "  th {\n",
       "    text-align: left;\n",
       "  }\n",
       "</style><div class='table-result-container'><table class='table-result'><thead style='background-color: white'><tr><th>post_year</th><th>category</th><th>count(category)</th></tr></thead><tbody><tr><td>2019</td><td>christmas</td><td>450</td></tr><tr><td>2018</td><td>mens-fashion</td><td>453</td></tr><tr><td>2020</td><td>mens-fashion</td><td>1115</td></tr><tr><td>2019</td><td>education</td><td>544</td></tr><tr><td>2018</td><td>travel</td><td>626</td></tr><tr><td>2020</td><td>education</td><td>375</td></tr><tr><td>2020</td><td>diy-and-crafts</td><td>452</td></tr><tr><td>2020</td><td>beauty</td><td>469</td></tr><tr><td>2018</td><td>christmas</td><td>565</td></tr><tr><td>2019</td><td>finance</td><td>378</td></tr><tr><td>2019</td><td>diy-and-crafts</td><td>658</td></tr><tr><td>2019</td><td>quotes</td><td>425</td></tr><tr><td>2018</td><td>art</td><td>625</td></tr><tr><td>2019</td><td>vehicles</td><td>405</td></tr><tr><td>2019</td><td>beauty</td><td>281</td></tr><tr><td>2019</td><td>travel</td><td>613</td></tr><tr><td>2019</td><td>art</td><td>629</td></tr><tr><td>2018</td><td>tattoos</td><td>390</td></tr><tr><td>2019</td><td>home-decor</td><td>543</td></tr><tr><td>2020</td><td>event-planning</td><td>479</td></tr><tr><td>2018</td><td>finance</td><td>353</td></tr><tr><td>2020</td><td>christmas</td><td>554</td></tr><tr><td>2018</td><td>home-decor</td><td>336</td></tr><tr><td>2018</td><td>quotes</td><td>663</td></tr><tr><td>2019</td><td>event-planning</td><td>390</td></tr><tr><td>2020</td><td>art</td><td>700</td></tr><tr><td>2020</td><td>finance</td><td>611</td></tr><tr><td>2018</td><td>diy-and-crafts</td><td>725</td></tr><tr><td>2020</td><td>home-decor</td><td>565</td></tr><tr><td>2019</td><td>mens-fashion</td><td>447</td></tr><tr><td>2020</td><td>quotes</td><td>393</td></tr><tr><td>2018</td><td>vehicles</td><td>457</td></tr><tr><td>2020</td><td>vehicles</td><td>319</td></tr><tr><td>2020</td><td>travel</td><td>639</td></tr><tr><td>2019</td><td>tattoos</td><td>389</td></tr><tr><td>2018</td><td>event-planning</td><td>341</td></tr><tr><td>2018</td><td>beauty</td><td>481</td></tr><tr><td>2018</td><td>education</td><td>686</td></tr><tr><td>2020</td><td>tattoos</td><td>525</td></tr></tbody></table></div>"
      ]
     },
     "metadata": {
      "application/vnd.databricks.v1+output": {
       "addedWidgets": {},
       "aggData": [],
       "aggError": "",
       "aggOverflow": false,
       "aggSchema": [],
       "aggSeriesLimitReached": false,
       "aggType": "",
       "arguments": {},
       "columnCustomDisplayInfos": {},
       "data": [
        [
         2019,
         "christmas",
         450
        ],
        [
         2018,
         "mens-fashion",
         453
        ],
        [
         2020,
         "mens-fashion",
         1115
        ],
        [
         2019,
         "education",
         544
        ],
        [
         2018,
         "travel",
         626
        ],
        [
         2020,
         "education",
         375
        ],
        [
         2020,
         "diy-and-crafts",
         452
        ],
        [
         2020,
         "beauty",
         469
        ],
        [
         2018,
         "christmas",
         565
        ],
        [
         2019,
         "finance",
         378
        ],
        [
         2019,
         "diy-and-crafts",
         658
        ],
        [
         2019,
         "quotes",
         425
        ],
        [
         2018,
         "art",
         625
        ],
        [
         2019,
         "vehicles",
         405
        ],
        [
         2019,
         "beauty",
         281
        ],
        [
         2019,
         "travel",
         613
        ],
        [
         2019,
         "art",
         629
        ],
        [
         2018,
         "tattoos",
         390
        ],
        [
         2019,
         "home-decor",
         543
        ],
        [
         2020,
         "event-planning",
         479
        ],
        [
         2018,
         "finance",
         353
        ],
        [
         2020,
         "christmas",
         554
        ],
        [
         2018,
         "home-decor",
         336
        ],
        [
         2018,
         "quotes",
         663
        ],
        [
         2019,
         "event-planning",
         390
        ],
        [
         2020,
         "art",
         700
        ],
        [
         2020,
         "finance",
         611
        ],
        [
         2018,
         "diy-and-crafts",
         725
        ],
        [
         2020,
         "home-decor",
         565
        ],
        [
         2019,
         "mens-fashion",
         447
        ],
        [
         2020,
         "quotes",
         393
        ],
        [
         2018,
         "vehicles",
         457
        ],
        [
         2020,
         "vehicles",
         319
        ],
        [
         2020,
         "travel",
         639
        ],
        [
         2019,
         "tattoos",
         389
        ],
        [
         2018,
         "event-planning",
         341
        ],
        [
         2018,
         "beauty",
         481
        ],
        [
         2018,
         "education",
         686
        ],
        [
         2020,
         "tattoos",
         525
        ]
       ],
       "datasetInfos": [],
       "dbfsResultPath": null,
       "isJsonSchema": true,
       "metadata": {},
       "overflow": false,
       "plotOptions": {
        "customPlotOptions": {},
        "displayType": "table",
        "pivotAggregation": null,
        "pivotColumns": null,
        "xColumns": null,
        "yColumns": null
       },
       "removedWidgets": [],
       "schema": [
        {
         "metadata": "{}",
         "name": "post_year",
         "type": "\"integer\""
        },
        {
         "metadata": "{}",
         "name": "category",
         "type": "\"string\""
        },
        {
         "metadata": "{\"__autoGeneratedAlias\":\"true\"}",
         "name": "count(category)",
         "type": "\"long\""
        }
       ],
       "type": "table"
      }
     },
     "output_type": "display_data"
    }
   ],
   "source": [
    "%sql\n",
    "-- 5 Find how many posts each category had between 2018 and 2022.\n",
    "SELECT\n",
    "  EXTRACT(year FROM geo.timestamp) AS post_year,\n",
    "  pin.category,\n",
    "  COUNT(pin.category)\n",
    "FROM 12f2c229fbdb_temp_view_geo geo\n",
    "JOIN 12f2c229fbdb_temp_view_pin pin On geo.ind = pin.ind\n",
    "WHERE\n",
    "  EXTRACT(year FROM geo.timestamp) BETWEEN 2018 AND 2020\n",
    "GROUP BY\n",
    "  EXTRACT(year FROM geo.timestamp),\n",
    "  pin.category\n",
    ";"
   ]
  },
  {
   "cell_type": "code",
   "execution_count": 0,
   "metadata": {
    "application/vnd.databricks.v1+cell": {
     "cellMetadata": {
      "byteLimit": 2048000,
      "implicitDf": true,
      "rowLimit": 10000
     },
     "inputWidgets": {},
     "nuid": "84fb7534-493a-45de-afbb-0af1b333d775",
     "showTitle": false,
     "title": ""
    }
   },
   "outputs": [
    {
     "output_type": "display_data",
     "data": {
      "text/html": [
       "<style scoped>\n",
       "  .table-result-container {\n",
       "    max-height: 300px;\n",
       "    overflow: auto;\n",
       "  }\n",
       "  table, th, td {\n",
       "    border: 1px solid black;\n",
       "    border-collapse: collapse;\n",
       "  }\n",
       "  th, td {\n",
       "    padding: 5px;\n",
       "  }\n",
       "  th {\n",
       "    text-align: left;\n",
       "  }\n",
       "</style><div class='table-result-container'><table class='table-result'><thead style='background-color: white'><tr></tr></thead><tbody></tbody></table></div>"
      ]
     },
     "metadata": {
      "application/vnd.databricks.v1+output": {
       "addedWidgets": {},
       "aggData": [],
       "aggError": "",
       "aggOverflow": false,
       "aggSchema": [],
       "aggSeriesLimitReached": false,
       "aggType": "",
       "arguments": {},
       "columnCustomDisplayInfos": {},
       "data": [],
       "datasetInfos": [],
       "dbfsResultPath": null,
       "isJsonSchema": true,
       "metadata": {},
       "overflow": false,
       "plotOptions": {
        "customPlotOptions": {},
        "displayType": "table",
        "pivotAggregation": null,
        "pivotColumns": null,
        "xColumns": null,
        "yColumns": null
       },
       "removedWidgets": [],
       "schema": [],
       "type": "table"
      }
     },
     "output_type": "display_data"
    }
   ],
   "source": [
    "%sql\n",
    "-- 6 \n",
    "CREATE OR REPLACE TEMPORARY VIEW most_popular_posters_by_country AS (\n",
    "  WITH ranked_posters AS (\n",
    "  SELECT DISTINCT\n",
    "    geo.country,\n",
    "    pin.poster_name,\n",
    "    pin.follower_count,\n",
    "    RANK() OVER(PARTITION BY geo.country ORDER BY pin.follower_count DESC) AS poster_rank\n",
    "  FROM\n",
    "    12f2c229fbdb_temp_view_pin pin\n",
    "  JOIN 12f2c229fbdb_temp_view_geo geo ON pin.ind = geo.ind\n",
    "  ORDER BY geo.country, pin.follower_count DESC\n",
    "  )\n",
    "\n",
    "  SELECT country, poster_name, follower_count FROM ranked_posters\n",
    "  WHERE poster_rank = 1\n",
    ")"
   ]
  },
  {
   "cell_type": "code",
   "execution_count": 0,
   "metadata": {
    "application/vnd.databricks.v1+cell": {
     "cellMetadata": {
      "byteLimit": 2048000,
      "implicitDf": true,
      "rowLimit": 10000
     },
     "inputWidgets": {},
     "nuid": "38a25ad5-0e80-48ac-850d-4e6ca382bd8f",
     "showTitle": false,
     "title": ""
    }
   },
   "outputs": [
    {
     "output_type": "display_data",
     "data": {
      "text/html": [
       "<style scoped>\n",
       "  .table-result-container {\n",
       "    max-height: 300px;\n",
       "    overflow: auto;\n",
       "  }\n",
       "  table, th, td {\n",
       "    border: 1px solid black;\n",
       "    border-collapse: collapse;\n",
       "  }\n",
       "  th, td {\n",
       "    padding: 5px;\n",
       "  }\n",
       "  th {\n",
       "    text-align: left;\n",
       "  }\n",
       "</style><div class='table-result-container'><table class='table-result'><thead style='background-color: white'><tr><th>country</th><th>poster_name</th><th>follower_count</th></tr></thead><tbody><tr><td>Afghanistan</td><td>9GAG</td><td>3000000</td></tr><tr><td>Albania</td><td>The Minds Journal</td><td>5000000</td></tr><tr><td>Algeria</td><td>Apartment Therapy</td><td>5000000</td></tr><tr><td>American Samoa</td><td>Mamas Uncut</td><td>8000000</td></tr><tr><td>Andorra</td><td>Teachers Pay Teachers</td><td>1000000</td></tr><tr><td>Angola</td><td>Tastemade</td><td>8000000</td></tr><tr><td>Anguilla</td><td>We Heart It</td><td>15000000</td></tr><tr><td>Antarctica (the territory South of 60 deg S)</td><td>Refinery29</td><td>1000000</td></tr><tr><td>Antigua and Barbuda</td><td>Country Living Magazine</td><td>1000000</td></tr><tr><td>Argentina</td><td>Cheezburger</td><td>2000000</td></tr><tr><td>Armenia</td><td>Michelle {CraftyMorning.com}</td><td>892000</td></tr><tr><td>Aruba</td><td>GQ Magazine</td><td>874000</td></tr><tr><td>Australia</td><td>Mujer de 10 </td><td>2000000</td></tr><tr><td>Austria</td><td>Allwomenstalk - girl rules </td><td>813000</td></tr><tr><td>Azerbaijan</td><td>Style Me Pretty</td><td>6000000</td></tr><tr><td>Bahamas</td><td>Stylecraze</td><td>2000000</td></tr><tr><td>Bahrain</td><td>Rainy Day Mum</td><td>337000</td></tr><tr><td>Bangladesh</td><td>Better Homes and Gardens</td><td>4000000</td></tr><tr><td>Barbados</td><td>The Creativity Exchange</td><td>410000</td></tr><tr><td>Belarus</td><td>Prudent Penny Pincher - Home Decor, Organization, Crafts, Recipes</td><td>648000</td></tr><tr><td>Belgium</td><td>This Old House</td><td>944000</td></tr><tr><td>Belize</td><td>Easy Kids Crafts & Activities | Preschool & Kindergarten Ideas</td><td>267000</td></tr><tr><td>Benin</td><td>Decoist.com</td><td>432000</td></tr><tr><td>Bermuda</td><td>3 Boys and a Dog</td><td>83000</td></tr><tr><td>Bhutan</td><td>Esquire Magazine</td><td>130000</td></tr><tr><td>Bolivia</td><td>The Kitchn</td><td>1000000</td></tr><tr><td>Bosnia and Herzegovina</td><td>Stylesatlife</td><td>388000</td></tr><tr><td>Botswana</td><td>OkChicas</td><td>3000000</td></tr><tr><td>Bouvet Island (Bouvetoya)</td><td>POPSUGAR</td><td>5000000</td></tr><tr><td>Brazil</td><td>Doris Leslie Blau Antique & Vintage Rugs</td><td>72000</td></tr><tr><td>British Indian Ocean Territory (Chagos Archipelago)</td><td>Design Rulz</td><td>248000</td></tr><tr><td>British Virgin Islands</td><td>The WHOot</td><td>1000000</td></tr><tr><td>Brunei Darussalam</td><td>Kids Craft Room</td><td>277000</td></tr><tr><td>Bulgaria</td><td>Half Baked Harvest</td><td>912000</td></tr><tr><td>Burkina Faso</td><td>Behance</td><td>6000000</td></tr><tr><td>Burundi</td><td>Macho Moda</td><td>620000</td></tr><tr><td>Cambodia</td><td>Catch My Party</td><td>2000000</td></tr><tr><td>Cameroon</td><td>The Blonde Abroad</td><td>123000</td></tr><tr><td>Canada</td><td>Giorgenti New York</td><td>258000</td></tr><tr><td>Cape Verde</td><td>Sand and Sisal</td><td>178000</td></tr><tr><td>Cayman Islands</td><td>InStyle</td><td>1000000</td></tr><tr><td>Cayman Islands</td><td>Daisy Farm Crafts</td><td>1000000</td></tr><tr><td>Central African Republic</td><td>PureWow</td><td>868000</td></tr><tr><td>Chad</td><td>ArchZine FR</td><td>761000</td></tr><tr><td>Chile</td><td>Local Adventurer - Las Vegas + Worldwide Travel Blog</td><td>89000</td></tr><tr><td>China</td><td>Empowered Sustenance</td><td>127000</td></tr><tr><td>Christmas Island</td><td>Instructables</td><td>3000000</td></tr><tr><td>Cocos (Keeling) Islands</td><td>How Does She</td><td>709000</td></tr><tr><td>Colombia</td><td>DIY Magazine</td><td>466000</td></tr><tr><td>Comoros</td><td>Ruffled</td><td>4000000</td></tr><tr><td>Congo</td><td>Virginia | Fynes Designs : Home Decor, Easy DIY’s, Lifestyle</td><td>410000</td></tr><tr><td>Cook Islands</td><td>Fun Loving Families: Crafts, Games, and Activities for Kids</td><td>31000</td></tr><tr><td>Costa Rica</td><td>Martha Stewart Living</td><td>2000000</td></tr><tr><td>Cote d'Ivoire</td><td>Mom Junction</td><td>565000</td></tr><tr><td>Croatia</td><td>Meraki Lane</td><td>546000</td></tr><tr><td>Cuba</td><td>Cuded Art & Design</td><td>1000000</td></tr><tr><td>Cyprus</td><td>Porchdotcom</td><td>117000</td></tr><tr><td>Czech Republic</td><td>Tatertots and Jello .com</td><td>398000</td></tr><tr><td>Denmark</td><td>Ashleigh's Education Journey</td><td>41000</td></tr><tr><td>Djibouti</td><td>El Hombre</td><td>307000</td></tr><tr><td>Dominica</td><td>Monique - Living Life and Learning</td><td>67000</td></tr><tr><td>Dominican Republic</td><td>My Modern Met</td><td>3000000</td></tr><tr><td>Ecuador</td><td>LABONNI</td><td>84000</td></tr><tr><td>Egypt</td><td>Allure</td><td>346000</td></tr><tr><td>El Salvador</td><td>Power of Positivity</td><td>221000</td></tr><tr><td>Equatorial Guinea</td><td>Whisper Wanderlust * Travel Blog</td><td>10000</td></tr><tr><td>Eritrea</td><td>Core77</td><td>105000</td></tr><tr><td>Estonia</td><td>Morgan |  Modernly Morgan</td><td>13000</td></tr><tr><td>Ethiopia</td><td>Refresh Restyle Debbie DIY Home Decor, Chalk Couture Designer</td><td>253000</td></tr><tr><td>Falkland Islands (Malvinas)</td><td>A Blissful Nest</td><td>113000</td></tr><tr><td>Faroe Islands</td><td>Veterans United Home Loans</td><td>11000</td></tr><tr><td>Fiji</td><td>Teach Create Motivate</td><td>41000</td></tr><tr><td>Finland</td><td>Buggy and Buddy</td><td>185000</td></tr><tr><td>France</td><td>Hello Lovely</td><td>115000</td></tr><tr><td>French Guiana</td><td>Sweet Red Poppy Free Sewing Patterns, Cut Files & Craft Tutorials</td><td>241000</td></tr><tr><td>French Polynesia</td><td>Hunker</td><td>279000</td></tr><tr><td>French Southern Territories</td><td>Don't Waste the Crumbs</td><td>119000</td></tr><tr><td>Gabon</td><td>Angela Watson's Truth for Teachers</td><td>88000</td></tr><tr><td>Gambia</td><td>The Travel Hacking Life</td><td>61000</td></tr><tr><td>Georgia</td><td>Susie Allison | Busy Toddler</td><td>203000</td></tr><tr><td>Germany</td><td>Michael Friermood</td><td>48000</td></tr><tr><td>Ghana</td><td>Zina Harrington</td><td>1000000</td></tr><tr><td>Gibraltar</td><td>The Bridal Box</td><td>104000</td></tr><tr><td>Greece</td><td>Thirty Handmade Days</td><td>397000</td></tr><tr><td>Greenland</td><td>The Educators' Spin On It</td><td>2000000</td></tr><tr><td>Grenada</td><td>The Mighty</td><td>185000</td></tr><tr><td>Guadeloupe</td><td>Kathy+Steve | TBD + TGG + OhMeOhMy</td><td>355000</td></tr><tr><td>Guam</td><td>imgur</td><td>4000000</td></tr><tr><td>Guatemala</td><td>Homedit.com</td><td>965000</td></tr><tr><td>Guernsey</td><td>SuzysSitcom</td><td>58000</td></tr><tr><td>Guinea</td><td>Cars Zone</td><td>134000</td></tr><tr><td>Guinea-Bissau</td><td>Kristina Buskirk | Toddler Approved</td><td>160000</td></tr><tr><td>Guyana</td><td>J ♥ Millennial Boss</td><td>29000</td></tr><tr><td>Haiti</td><td>Fres Houz</td><td>100000</td></tr><tr><td>Heard Island and McDonald Islands</td><td>Real Men Real Style</td><td>487000</td></tr><tr><td>Holy See (Vatican City State)</td><td>Viva Decora</td><td>2000000</td></tr><tr><td>Honduras</td><td>Mad in Crafts</td><td>106000</td></tr><tr><td>Hong Kong</td><td>Remodelista</td><td>991000</td></tr><tr><td>Hungary</td><td>Weed 'em & Reap</td><td>77000</td></tr><tr><td>Iceland</td><td>The Hundreds</td><td>5000</td></tr><tr><td>Iceland</td><td>Atuflower</td><td>5000</td></tr><tr><td>India</td><td>Happiness is Homemade | Crafts, Printables, Party Ideas, & More!</td><td>167000</td></tr><tr><td>Indonesia</td><td>Forbes</td><td>252000</td></tr><tr><td>Iran</td><td>WeddingWire</td><td>520000</td></tr><tr><td>Iraq</td><td>House Beautiful</td><td>875000</td></tr><tr><td>Ireland</td><td>Deavita.fr</td><td>239000</td></tr><tr><td>Isle of Man</td><td>Quinceanera.com</td><td>195000</td></tr><tr><td>Israel</td><td>On Point Fresh</td><td>44000</td></tr><tr><td>Italy</td><td>BeSpotted </td><td>46000</td></tr><tr><td>Jamaica</td><td>Eating Bird Food</td><td>397000</td></tr><tr><td>Japan</td><td>Beautiful Dawn | Arts & Crafts · Crochet Patterns · Drawing Ideas</td><td>159000</td></tr><tr><td>Jersey</td><td>PrincetonBookReview.com</td><td>9000</td></tr><tr><td>Jordan</td><td>Alfiya Karim Khan</td><td>21000</td></tr><tr><td>Kazakhstan</td><td>Christina Maria - DIY Home Improvement + Decor</td><td>75000</td></tr><tr><td>Kenya</td><td>Vem que te Conto! | Dicas de Viagem</td><td>95000</td></tr><tr><td>Kiribati</td><td>MOMtivational // Parenting + Pregnancy + More</td><td>8000</td></tr><tr><td>Korea</td><td>Latest Hairstyles</td><td>627000</td></tr><tr><td>Kuwait</td><td>Green Wedding Shoes</td><td>2000000</td></tr><tr><td>Kyrgyz Republic</td><td>ADDitude Magazine</td><td>87000</td></tr><tr><td>Lao People's Democratic Republic</td><td>Culture Trip</td><td>455000</td></tr><tr><td>Latvia</td><td>Royal Fashionist</td><td>188000</td></tr><tr><td>Lebanon</td><td>Your Positive Oasis | Motivation| Inspiration| Wellness</td><td>163000</td></tr><tr><td>Lesotho</td><td>The Guardian</td><td>908000</td></tr><tr><td>Liberia</td><td>Happy Hooligans - Crafts and Activities for Kids</td><td>550000</td></tr><tr><td>Libyan Arab Jamahiriya</td><td>miss coco</td><td>157000</td></tr><tr><td>Liechtenstein</td><td>Scrapbook.com</td><td>342000</td></tr><tr><td>Lithuania</td><td>Play Ideas</td><td>52000</td></tr><tr><td>Luxembourg</td><td>Linda Kamp-Around The Kampfire</td><td>35000</td></tr><tr><td>Macao</td><td>Inhabitat</td><td>238000</td></tr><tr><td>Macedonia</td><td>Money Propeller</td><td>10000</td></tr><tr><td>Madagascar</td><td>MomAdvice</td><td>112000</td></tr><tr><td>Malawi</td><td>Tequila_Rose 🌹</td><td>18000</td></tr><tr><td>Maldives</td><td>Parents</td><td>416000</td></tr><tr><td>Mali</td><td>Mobile Home Living®</td><td>122000</td></tr><tr><td>Malta</td><td>Iowa Girl Eats</td><td>219000</td></tr><tr><td>Marshall Islands</td><td>Living Rich with Coupons</td><td>60000</td></tr><tr><td>Martinique</td><td>Heart Handmade UK | Craft Room Ideas, Craft Ideas For Adults</td><td>1000000</td></tr><tr><td>Mauritania</td><td>The Literacy Nest</td><td>22000</td></tr><tr><td>Mauritius</td><td>Cool Things- Drawing Ideas , Fashion ,Beautiy and Home Decor</td><td>46000</td></tr><tr><td>Mayotte</td><td>Sugar, Spice & Glitter</td><td>65000</td></tr><tr><td>Mexico</td><td>worksnwood</td><td>9000</td></tr><tr><td>Micronesia</td><td>A Crafted Passion | Create, Decorate, & Celebrate</td><td>43000</td></tr><tr><td>Moldova</td><td>HolleewoodHair</td><td>74000</td></tr><tr><td>Monaco</td><td>Artists Network</td><td>227000</td></tr><tr><td>Mongolia</td><td>ZAFUL</td><td>893000</td></tr><tr><td>Montenegro</td><td>Leelah loves</td><td>45000</td></tr><tr><td>Montserrat</td><td>Funny Videos/Photos/Memes</td><td>26000</td></tr><tr><td>Morocco</td><td>Two Southern Sweeties | Life After 50 + Second Act Lifestyle</td><td>13000</td></tr><tr><td>Mozambique</td><td>Stylin by Aylin</td><td>83000</td></tr><tr><td>Myanmar</td><td>Hearth and Vine</td><td>88000</td></tr><tr><td>Namibia</td><td>Snappy Gourmet</td><td>168000</td></tr><tr><td>Nauru</td><td>Femme Actuelle</td><td>303000</td></tr><tr><td>Nepal</td><td>Living on a Dime to Grow Rich</td><td>197000</td></tr><tr><td>Netherlands</td><td>Tracie Kiernan | Step By Step Painting |</td><td>308000</td></tr><tr><td>Netherlands Antilles</td><td>Sweet T Makes Three</td><td>61000</td></tr><tr><td>New Caledonia</td><td>Husskie</td><td>20000</td></tr><tr><td>New Zealand</td><td>ZENIDEES</td><td>19000</td></tr><tr><td>Nicaragua</td><td>Five Foot Feminine | Petite Style Blog + Home Decor</td><td>12000</td></tr><tr><td>Niger</td><td>And Other Adventures Embroidery</td><td>14000</td></tr><tr><td>Nigeria</td><td>Jo-Anna |  A Pretty Life</td><td>60000</td></tr><tr><td>Niue</td><td>Michelle | Brown Eyed Baker</td><td>271000</td></tr><tr><td>Norfolk Island</td><td>The Skinny Confidential</td><td>60000</td></tr><tr><td>Northern Mariana Islands</td><td>AL.com</td><td>31000</td></tr><tr><td>Norway</td><td>epicurious</td><td>409000</td></tr><tr><td>Oman</td><td>CentSai |  Personal Finance | Budgeting and Saving Money</td><td>11000</td></tr><tr><td>Pakistan</td><td>Buyer Select</td><td>441000</td></tr><tr><td>Palau</td><td>Sailing into Second</td><td>6000</td></tr><tr><td>Palestinian Territory</td><td>Onedio.com</td><td>561000</td></tr><tr><td>Panama</td><td>Alanna | Periodic Adventures</td><td>1000</td></tr><tr><td>Papua New Guinea</td><td>William Nowell</td><td>5000</td></tr><tr><td>Paraguay</td><td>Bernadette Balla | Spirituality, Healing, Growth & Inspiration</td><td>7000</td></tr><tr><td>Paraguay</td><td>Blanca Rosado-Diaz</td><td>7000</td></tr><tr><td>Peru</td><td>Nashvegasmama</td><td>6000</td></tr><tr><td>Philippines</td><td>ForYou</td><td>2000</td></tr><tr><td>Pitcairn Islands</td><td>Marla Meridith</td><td>671000</td></tr><tr><td>Poland</td><td>Mosswood Connections</td><td>16000</td></tr><tr><td>Portugal</td><td>Lindsey Blogs</td><td>29000</td></tr><tr><td>Puerto Rico</td><td>Stephanie Lynn</td><td>116000</td></tr><tr><td>Qatar</td><td>Hudson Farmhouse</td><td>45000</td></tr><tr><td>Reunion</td><td>xolivi</td><td>2000</td></tr><tr><td>Romania</td><td>Soberbadassery | Your Free Online Guide To Sober Living </td><td>9000</td></tr><tr><td>Russian Federation</td><td>Ana White</td><td>1000000</td></tr><tr><td>Rwanda</td><td>Traveling Chic</td><td>6000</td></tr><tr><td>Saint Barthelemy</td><td>Edit + Nest</td><td>7000</td></tr><tr><td>Saint Helena</td><td>Book Riot</td><td>154000</td></tr><tr><td>Saint Kitts and Nevis</td><td>vintagetopia</td><td>171000</td></tr><tr><td>Saint Lucia</td><td>Teaching Exceptional Kinders</td><td>3000</td></tr><tr><td>Saint Martin</td><td>Montgo Farmhouse</td><td>9000</td></tr><tr><td>Saint Pierre and Miquelon</td><td>Ebbert Barnes</td><td>323</td></tr><tr><td>Saint Vincent and the Grenadines</td><td>SHTFPreparedness</td><td>380000</td></tr><tr><td>Samoa</td><td>Six Figures Under | Frugal Living + Family Finance +Paying off Debt</td><td>32000</td></tr><tr><td>San Marino</td><td>Sarah Joy Blog</td><td>125000</td></tr><tr><td>Sao Tome and Principe</td><td>kayyla.april</td><td>2000</td></tr><tr><td>Saudi Arabia</td><td>STYLE GIRLFRIEND | VIRTUAL PERSONAL SHOPPING FOR GUYS</td><td>23000</td></tr><tr><td>Senegal</td><td>Life-n-Reflection</td><td>24000</td></tr><tr><td>Serbia</td><td>Keitha Rankin</td><td>248</td></tr><tr><td>Seychelles</td><td>ALL FOR WOMAN</td><td>21000</td></tr><tr><td>Singapore</td><td>Hey Let's Make Stuff</td><td>88000</td></tr><tr><td>Slovakia (Slovak Republic)</td><td>CollectorCarAds.com</td><td>11000</td></tr><tr><td>Slovenia</td><td>Adrienne Wiggins</td><td>12000</td></tr><tr><td>Solomon Islands</td><td>Christy from Our Southern Home</td><td>81000</td></tr><tr><td>Somalia</td><td>Balloons_worldwides</td><td>118000</td></tr><tr><td>South Africa</td><td>Sophie Watters</td><td>3000</td></tr><tr><td>South Georgia and the South Sandwich Islands</td><td>Classic Nation</td><td>75000</td></tr><tr><td>Spain</td><td>Kids Toys LLC</td><td>419</td></tr><tr><td>Sri Lanka</td><td>Abd El Hakim</td><td>1000</td></tr><tr><td>Sudan</td><td>Literacy and Math Ideas</td><td>63000</td></tr><tr><td>Suriname</td><td>Modern MOH | How to be a Head Bridesmaid in Charge</td><td>10000</td></tr><tr><td>Svalbard & Jan Mayen Islands</td><td>Merissa (Little House Living) | Simple Living + Frugal Living</td><td>152000</td></tr><tr><td>Swaziland</td><td>Botanical Stars | Self-Care Magic, Empowered & Natural Skincare</td><td>5000</td></tr><tr><td>Sweden</td><td>My Bored Toddler</td><td>58000</td></tr><tr><td>Switzerland</td><td>Top Gear</td><td>33000</td></tr><tr><td>Syrian Arab Republic</td><td>Relationships & Lifestyle</td><td>3000</td></tr><tr><td>Taiwan</td><td>Emily Lightly</td><td>32000</td></tr><tr><td>Tajikistan</td><td>Fun Learning for Kids</td><td>217000</td></tr><tr><td>Tanzania</td><td>Kevmrc travel</td><td>5000</td></tr><tr><td>Thailand</td><td>Southern Productions Weddings & Events | MS Wedding Planner</td><td>10000</td></tr><tr><td>Timor-Leste</td><td>Sunshine Seeker ⋒ Travel Blog</td><td>12000</td></tr><tr><td>Togo</td><td>debra</td><td>4000</td></tr><tr><td>Tokelau</td><td>Budget Savvy Diva</td><td>384000</td></tr><tr><td>Tonga</td><td>Grecia Perales</td><td>0</td></tr><tr><td>Trinidad and Tobago</td><td>Syndi Mulcahy</td><td>254</td></tr><tr><td>Tunisia</td><td>El blog amarillo</td><td>66000</td></tr><tr><td>Turkey</td><td>Tastefully Frugal</td><td>40000</td></tr><tr><td>Turkmenistan</td><td>Jennifer Maker ❤️ DIY Home Decor + Craft + Paper Flowers</td><td>193000</td></tr><tr><td>Turks and Caicos Islands</td><td>Let's Eat Cake</td><td>19000</td></tr><tr><td>Tuvalu</td><td>Tripleseat</td><td>900</td></tr><tr><td>Uganda</td><td>Inspired by Charm</td><td>3000000</td></tr><tr><td>Ukraine</td><td>Mom like you mean it</td><td>10000</td></tr><tr><td>United Kingdom</td><td>teresa davis</td><td>30</td></tr><tr><td>United States Minor Outlying Islands</td><td>Bloglovin'</td><td>3000000</td></tr><tr><td>United States Virgin Islands</td><td>Ugly Duckling House | DIY, Home, Woodworking, Crafts & Recipes</td><td>4000000</td></tr><tr><td>United States of America</td><td>Evolution of Style</td><td>47000</td></tr><tr><td>Uzbekistan</td><td>giil</td><td>57</td></tr><tr><td>Vanuatu</td><td>Digital Art | Fine Art | Abstract Art | Graphic Art | Photography</td><td>10000</td></tr><tr><td>Venezuela</td><td>My Poppet - A Craft, Travel & Food Blog for Colourful Living</td><td>100000</td></tr><tr><td>Vietnam</td><td>Living Well Spending Less</td><td>326000</td></tr><tr><td>Wallis and Futuna</td><td>Small Stuff Counts</td><td>18000</td></tr><tr><td>Western Sahara</td><td>Emma Corley</td><td>2000</td></tr><tr><td>Yemen</td><td>T I F F A N Y</td><td>4000</td></tr><tr><td>Yemen</td><td>Jan Ucieklak</td><td>4000</td></tr><tr><td>Zambia</td><td>HALFTEE Layering Fashions</td><td>32000</td></tr></tbody></table></div>"
      ]
     },
     "metadata": {
      "application/vnd.databricks.v1+output": {
       "addedWidgets": {},
       "aggData": [],
       "aggError": "",
       "aggOverflow": false,
       "aggSchema": [],
       "aggSeriesLimitReached": false,
       "aggType": "",
       "arguments": {},
       "columnCustomDisplayInfos": {},
       "data": [
        [
         "Afghanistan",
         "9GAG",
         3000000
        ],
        [
         "Albania",
         "The Minds Journal",
         5000000
        ],
        [
         "Algeria",
         "Apartment Therapy",
         5000000
        ],
        [
         "American Samoa",
         "Mamas Uncut",
         8000000
        ],
        [
         "Andorra",
         "Teachers Pay Teachers",
         1000000
        ],
        [
         "Angola",
         "Tastemade",
         8000000
        ],
        [
         "Anguilla",
         "We Heart It",
         15000000
        ],
        [
         "Antarctica (the territory South of 60 deg S)",
         "Refinery29",
         1000000
        ],
        [
         "Antigua and Barbuda",
         "Country Living Magazine",
         1000000
        ],
        [
         "Argentina",
         "Cheezburger",
         2000000
        ],
        [
         "Armenia",
         "Michelle {CraftyMorning.com}",
         892000
        ],
        [
         "Aruba",
         "GQ Magazine",
         874000
        ],
        [
         "Australia",
         "Mujer de 10 ",
         2000000
        ],
        [
         "Austria",
         "Allwomenstalk - girl rules ",
         813000
        ],
        [
         "Azerbaijan",
         "Style Me Pretty",
         6000000
        ],
        [
         "Bahamas",
         "Stylecraze",
         2000000
        ],
        [
         "Bahrain",
         "Rainy Day Mum",
         337000
        ],
        [
         "Bangladesh",
         "Better Homes and Gardens",
         4000000
        ],
        [
         "Barbados",
         "The Creativity Exchange",
         410000
        ],
        [
         "Belarus",
         "Prudent Penny Pincher - Home Decor, Organization, Crafts, Recipes",
         648000
        ],
        [
         "Belgium",
         "This Old House",
         944000
        ],
        [
         "Belize",
         "Easy Kids Crafts & Activities | Preschool & Kindergarten Ideas",
         267000
        ],
        [
         "Benin",
         "Decoist.com",
         432000
        ],
        [
         "Bermuda",
         "3 Boys and a Dog",
         83000
        ],
        [
         "Bhutan",
         "Esquire Magazine",
         130000
        ],
        [
         "Bolivia",
         "The Kitchn",
         1000000
        ],
        [
         "Bosnia and Herzegovina",
         "Stylesatlife",
         388000
        ],
        [
         "Botswana",
         "OkChicas",
         3000000
        ],
        [
         "Bouvet Island (Bouvetoya)",
         "POPSUGAR",
         5000000
        ],
        [
         "Brazil",
         "Doris Leslie Blau Antique & Vintage Rugs",
         72000
        ],
        [
         "British Indian Ocean Territory (Chagos Archipelago)",
         "Design Rulz",
         248000
        ],
        [
         "British Virgin Islands",
         "The WHOot",
         1000000
        ],
        [
         "Brunei Darussalam",
         "Kids Craft Room",
         277000
        ],
        [
         "Bulgaria",
         "Half Baked Harvest",
         912000
        ],
        [
         "Burkina Faso",
         "Behance",
         6000000
        ],
        [
         "Burundi",
         "Macho Moda",
         620000
        ],
        [
         "Cambodia",
         "Catch My Party",
         2000000
        ],
        [
         "Cameroon",
         "The Blonde Abroad",
         123000
        ],
        [
         "Canada",
         "Giorgenti New York",
         258000
        ],
        [
         "Cape Verde",
         "Sand and Sisal",
         178000
        ],
        [
         "Cayman Islands",
         "InStyle",
         1000000
        ],
        [
         "Cayman Islands",
         "Daisy Farm Crafts",
         1000000
        ],
        [
         "Central African Republic",
         "PureWow",
         868000
        ],
        [
         "Chad",
         "ArchZine FR",
         761000
        ],
        [
         "Chile",
         "Local Adventurer - Las Vegas + Worldwide Travel Blog",
         89000
        ],
        [
         "China",
         "Empowered Sustenance",
         127000
        ],
        [
         "Christmas Island",
         "Instructables",
         3000000
        ],
        [
         "Cocos (Keeling) Islands",
         "How Does She",
         709000
        ],
        [
         "Colombia",
         "DIY Magazine",
         466000
        ],
        [
         "Comoros",
         "Ruffled",
         4000000
        ],
        [
         "Congo",
         "Virginia | Fynes Designs : Home Decor, Easy DIY’s, Lifestyle",
         410000
        ],
        [
         "Cook Islands",
         "Fun Loving Families: Crafts, Games, and Activities for Kids",
         31000
        ],
        [
         "Costa Rica",
         "Martha Stewart Living",
         2000000
        ],
        [
         "Cote d'Ivoire",
         "Mom Junction",
         565000
        ],
        [
         "Croatia",
         "Meraki Lane",
         546000
        ],
        [
         "Cuba",
         "Cuded Art & Design",
         1000000
        ],
        [
         "Cyprus",
         "Porchdotcom",
         117000
        ],
        [
         "Czech Republic",
         "Tatertots and Jello .com",
         398000
        ],
        [
         "Denmark",
         "Ashleigh's Education Journey",
         41000
        ],
        [
         "Djibouti",
         "El Hombre",
         307000
        ],
        [
         "Dominica",
         "Monique - Living Life and Learning",
         67000
        ],
        [
         "Dominican Republic",
         "My Modern Met",
         3000000
        ],
        [
         "Ecuador",
         "LABONNI",
         84000
        ],
        [
         "Egypt",
         "Allure",
         346000
        ],
        [
         "El Salvador",
         "Power of Positivity",
         221000
        ],
        [
         "Equatorial Guinea",
         "Whisper Wanderlust * Travel Blog",
         10000
        ],
        [
         "Eritrea",
         "Core77",
         105000
        ],
        [
         "Estonia",
         "Morgan |  Modernly Morgan",
         13000
        ],
        [
         "Ethiopia",
         "Refresh Restyle Debbie DIY Home Decor, Chalk Couture Designer",
         253000
        ],
        [
         "Falkland Islands (Malvinas)",
         "A Blissful Nest",
         113000
        ],
        [
         "Faroe Islands",
         "Veterans United Home Loans",
         11000
        ],
        [
         "Fiji",
         "Teach Create Motivate",
         41000
        ],
        [
         "Finland",
         "Buggy and Buddy",
         185000
        ],
        [
         "France",
         "Hello Lovely",
         115000
        ],
        [
         "French Guiana",
         "Sweet Red Poppy Free Sewing Patterns, Cut Files & Craft Tutorials",
         241000
        ],
        [
         "French Polynesia",
         "Hunker",
         279000
        ],
        [
         "French Southern Territories",
         "Don't Waste the Crumbs",
         119000
        ],
        [
         "Gabon",
         "Angela Watson's Truth for Teachers",
         88000
        ],
        [
         "Gambia",
         "The Travel Hacking Life",
         61000
        ],
        [
         "Georgia",
         "Susie Allison | Busy Toddler",
         203000
        ],
        [
         "Germany",
         "Michael Friermood",
         48000
        ],
        [
         "Ghana",
         "Zina Harrington",
         1000000
        ],
        [
         "Gibraltar",
         "The Bridal Box",
         104000
        ],
        [
         "Greece",
         "Thirty Handmade Days",
         397000
        ],
        [
         "Greenland",
         "The Educators' Spin On It",
         2000000
        ],
        [
         "Grenada",
         "The Mighty",
         185000
        ],
        [
         "Guadeloupe",
         "Kathy+Steve | TBD + TGG + OhMeOhMy",
         355000
        ],
        [
         "Guam",
         "imgur",
         4000000
        ],
        [
         "Guatemala",
         "Homedit.com",
         965000
        ],
        [
         "Guernsey",
         "SuzysSitcom",
         58000
        ],
        [
         "Guinea",
         "Cars Zone",
         134000
        ],
        [
         "Guinea-Bissau",
         "Kristina Buskirk | Toddler Approved",
         160000
        ],
        [
         "Guyana",
         "J ♥ Millennial Boss",
         29000
        ],
        [
         "Haiti",
         "Fres Houz",
         100000
        ],
        [
         "Heard Island and McDonald Islands",
         "Real Men Real Style",
         487000
        ],
        [
         "Holy See (Vatican City State)",
         "Viva Decora",
         2000000
        ],
        [
         "Honduras",
         "Mad in Crafts",
         106000
        ],
        [
         "Hong Kong",
         "Remodelista",
         991000
        ],
        [
         "Hungary",
         "Weed 'em & Reap",
         77000
        ],
        [
         "Iceland",
         "The Hundreds",
         5000
        ],
        [
         "Iceland",
         "Atuflower",
         5000
        ],
        [
         "India",
         "Happiness is Homemade | Crafts, Printables, Party Ideas, & More!",
         167000
        ],
        [
         "Indonesia",
         "Forbes",
         252000
        ],
        [
         "Iran",
         "WeddingWire",
         520000
        ],
        [
         "Iraq",
         "House Beautiful",
         875000
        ],
        [
         "Ireland",
         "Deavita.fr",
         239000
        ],
        [
         "Isle of Man",
         "Quinceanera.com",
         195000
        ],
        [
         "Israel",
         "On Point Fresh",
         44000
        ],
        [
         "Italy",
         "BeSpotted ",
         46000
        ],
        [
         "Jamaica",
         "Eating Bird Food",
         397000
        ],
        [
         "Japan",
         "Beautiful Dawn | Arts & Crafts · Crochet Patterns · Drawing Ideas",
         159000
        ],
        [
         "Jersey",
         "PrincetonBookReview.com",
         9000
        ],
        [
         "Jordan",
         "Alfiya Karim Khan",
         21000
        ],
        [
         "Kazakhstan",
         "Christina Maria - DIY Home Improvement + Decor",
         75000
        ],
        [
         "Kenya",
         "Vem que te Conto! | Dicas de Viagem",
         95000
        ],
        [
         "Kiribati",
         "MOMtivational // Parenting + Pregnancy + More",
         8000
        ],
        [
         "Korea",
         "Latest Hairstyles",
         627000
        ],
        [
         "Kuwait",
         "Green Wedding Shoes",
         2000000
        ],
        [
         "Kyrgyz Republic",
         "ADDitude Magazine",
         87000
        ],
        [
         "Lao People's Democratic Republic",
         "Culture Trip",
         455000
        ],
        [
         "Latvia",
         "Royal Fashionist",
         188000
        ],
        [
         "Lebanon",
         "Your Positive Oasis | Motivation| Inspiration| Wellness",
         163000
        ],
        [
         "Lesotho",
         "The Guardian",
         908000
        ],
        [
         "Liberia",
         "Happy Hooligans - Crafts and Activities for Kids",
         550000
        ],
        [
         "Libyan Arab Jamahiriya",
         "miss coco",
         157000
        ],
        [
         "Liechtenstein",
         "Scrapbook.com",
         342000
        ],
        [
         "Lithuania",
         "Play Ideas",
         52000
        ],
        [
         "Luxembourg",
         "Linda Kamp-Around The Kampfire",
         35000
        ],
        [
         "Macao",
         "Inhabitat",
         238000
        ],
        [
         "Macedonia",
         "Money Propeller",
         10000
        ],
        [
         "Madagascar",
         "MomAdvice",
         112000
        ],
        [
         "Malawi",
         "Tequila_Rose 🌹",
         18000
        ],
        [
         "Maldives",
         "Parents",
         416000
        ],
        [
         "Mali",
         "Mobile Home Living®",
         122000
        ],
        [
         "Malta",
         "Iowa Girl Eats",
         219000
        ],
        [
         "Marshall Islands",
         "Living Rich with Coupons",
         60000
        ],
        [
         "Martinique",
         "Heart Handmade UK | Craft Room Ideas, Craft Ideas For Adults",
         1000000
        ],
        [
         "Mauritania",
         "The Literacy Nest",
         22000
        ],
        [
         "Mauritius",
         "Cool Things- Drawing Ideas , Fashion ,Beautiy and Home Decor",
         46000
        ],
        [
         "Mayotte",
         "Sugar, Spice & Glitter",
         65000
        ],
        [
         "Mexico",
         "worksnwood",
         9000
        ],
        [
         "Micronesia",
         "A Crafted Passion | Create, Decorate, & Celebrate",
         43000
        ],
        [
         "Moldova",
         "HolleewoodHair",
         74000
        ],
        [
         "Monaco",
         "Artists Network",
         227000
        ],
        [
         "Mongolia",
         "ZAFUL",
         893000
        ],
        [
         "Montenegro",
         "Leelah loves",
         45000
        ],
        [
         "Montserrat",
         "Funny Videos/Photos/Memes",
         26000
        ],
        [
         "Morocco",
         "Two Southern Sweeties | Life After 50 + Second Act Lifestyle",
         13000
        ],
        [
         "Mozambique",
         "Stylin by Aylin",
         83000
        ],
        [
         "Myanmar",
         "Hearth and Vine",
         88000
        ],
        [
         "Namibia",
         "Snappy Gourmet",
         168000
        ],
        [
         "Nauru",
         "Femme Actuelle",
         303000
        ],
        [
         "Nepal",
         "Living on a Dime to Grow Rich",
         197000
        ],
        [
         "Netherlands",
         "Tracie Kiernan | Step By Step Painting |",
         308000
        ],
        [
         "Netherlands Antilles",
         "Sweet T Makes Three",
         61000
        ],
        [
         "New Caledonia",
         "Husskie",
         20000
        ],
        [
         "New Zealand",
         "ZENIDEES",
         19000
        ],
        [
         "Nicaragua",
         "Five Foot Feminine | Petite Style Blog + Home Decor",
         12000
        ],
        [
         "Niger",
         "And Other Adventures Embroidery",
         14000
        ],
        [
         "Nigeria",
         "Jo-Anna |  A Pretty Life",
         60000
        ],
        [
         "Niue",
         "Michelle | Brown Eyed Baker",
         271000
        ],
        [
         "Norfolk Island",
         "The Skinny Confidential",
         60000
        ],
        [
         "Northern Mariana Islands",
         "AL.com",
         31000
        ],
        [
         "Norway",
         "epicurious",
         409000
        ],
        [
         "Oman",
         "CentSai |  Personal Finance | Budgeting and Saving Money",
         11000
        ],
        [
         "Pakistan",
         "Buyer Select",
         441000
        ],
        [
         "Palau",
         "Sailing into Second",
         6000
        ],
        [
         "Palestinian Territory",
         "Onedio.com",
         561000
        ],
        [
         "Panama",
         "Alanna | Periodic Adventures",
         1000
        ],
        [
         "Papua New Guinea",
         "William Nowell",
         5000
        ],
        [
         "Paraguay",
         "Bernadette Balla | Spirituality, Healing, Growth & Inspiration",
         7000
        ],
        [
         "Paraguay",
         "Blanca Rosado-Diaz",
         7000
        ],
        [
         "Peru",
         "Nashvegasmama",
         6000
        ],
        [
         "Philippines",
         "ForYou",
         2000
        ],
        [
         "Pitcairn Islands",
         "Marla Meridith",
         671000
        ],
        [
         "Poland",
         "Mosswood Connections",
         16000
        ],
        [
         "Portugal",
         "Lindsey Blogs",
         29000
        ],
        [
         "Puerto Rico",
         "Stephanie Lynn",
         116000
        ],
        [
         "Qatar",
         "Hudson Farmhouse",
         45000
        ],
        [
         "Reunion",
         "xolivi",
         2000
        ],
        [
         "Romania",
         "Soberbadassery | Your Free Online Guide To Sober Living ",
         9000
        ],
        [
         "Russian Federation",
         "Ana White",
         1000000
        ],
        [
         "Rwanda",
         "Traveling Chic",
         6000
        ],
        [
         "Saint Barthelemy",
         "Edit + Nest",
         7000
        ],
        [
         "Saint Helena",
         "Book Riot",
         154000
        ],
        [
         "Saint Kitts and Nevis",
         "vintagetopia",
         171000
        ],
        [
         "Saint Lucia",
         "Teaching Exceptional Kinders",
         3000
        ],
        [
         "Saint Martin",
         "Montgo Farmhouse",
         9000
        ],
        [
         "Saint Pierre and Miquelon",
         "Ebbert Barnes",
         323
        ],
        [
         "Saint Vincent and the Grenadines",
         "SHTFPreparedness",
         380000
        ],
        [
         "Samoa",
         "Six Figures Under | Frugal Living + Family Finance +Paying off Debt",
         32000
        ],
        [
         "San Marino",
         "Sarah Joy Blog",
         125000
        ],
        [
         "Sao Tome and Principe",
         "kayyla.april",
         2000
        ],
        [
         "Saudi Arabia",
         "STYLE GIRLFRIEND | VIRTUAL PERSONAL SHOPPING FOR GUYS",
         23000
        ],
        [
         "Senegal",
         "Life-n-Reflection",
         24000
        ],
        [
         "Serbia",
         "Keitha Rankin",
         248
        ],
        [
         "Seychelles",
         "ALL FOR WOMAN",
         21000
        ],
        [
         "Singapore",
         "Hey Let's Make Stuff",
         88000
        ],
        [
         "Slovakia (Slovak Republic)",
         "CollectorCarAds.com",
         11000
        ],
        [
         "Slovenia",
         "Adrienne Wiggins",
         12000
        ],
        [
         "Solomon Islands",
         "Christy from Our Southern Home",
         81000
        ],
        [
         "Somalia",
         "Balloons_worldwides",
         118000
        ],
        [
         "South Africa",
         "Sophie Watters",
         3000
        ],
        [
         "South Georgia and the South Sandwich Islands",
         "Classic Nation",
         75000
        ],
        [
         "Spain",
         "Kids Toys LLC",
         419
        ],
        [
         "Sri Lanka",
         "Abd El Hakim",
         1000
        ],
        [
         "Sudan",
         "Literacy and Math Ideas",
         63000
        ],
        [
         "Suriname",
         "Modern MOH | How to be a Head Bridesmaid in Charge",
         10000
        ],
        [
         "Svalbard & Jan Mayen Islands",
         "Merissa (Little House Living) | Simple Living + Frugal Living",
         152000
        ],
        [
         "Swaziland",
         "Botanical Stars | Self-Care Magic, Empowered & Natural Skincare",
         5000
        ],
        [
         "Sweden",
         "My Bored Toddler",
         58000
        ],
        [
         "Switzerland",
         "Top Gear",
         33000
        ],
        [
         "Syrian Arab Republic",
         "Relationships & Lifestyle",
         3000
        ],
        [
         "Taiwan",
         "Emily Lightly",
         32000
        ],
        [
         "Tajikistan",
         "Fun Learning for Kids",
         217000
        ],
        [
         "Tanzania",
         "Kevmrc travel",
         5000
        ],
        [
         "Thailand",
         "Southern Productions Weddings & Events | MS Wedding Planner",
         10000
        ],
        [
         "Timor-Leste",
         "Sunshine Seeker ⋒ Travel Blog",
         12000
        ],
        [
         "Togo",
         "debra",
         4000
        ],
        [
         "Tokelau",
         "Budget Savvy Diva",
         384000
        ],
        [
         "Tonga",
         "Grecia Perales",
         0
        ],
        [
         "Trinidad and Tobago",
         "Syndi Mulcahy",
         254
        ],
        [
         "Tunisia",
         "El blog amarillo",
         66000
        ],
        [
         "Turkey",
         "Tastefully Frugal",
         40000
        ],
        [
         "Turkmenistan",
         "Jennifer Maker ❤️ DIY Home Decor + Craft + Paper Flowers",
         193000
        ],
        [
         "Turks and Caicos Islands",
         "Let's Eat Cake",
         19000
        ],
        [
         "Tuvalu",
         "Tripleseat",
         900
        ],
        [
         "Uganda",
         "Inspired by Charm",
         3000000
        ],
        [
         "Ukraine",
         "Mom like you mean it",
         10000
        ],
        [
         "United Kingdom",
         "teresa davis",
         30
        ],
        [
         "United States Minor Outlying Islands",
         "Bloglovin'",
         3000000
        ],
        [
         "United States Virgin Islands",
         "Ugly Duckling House | DIY, Home, Woodworking, Crafts & Recipes",
         4000000
        ],
        [
         "United States of America",
         "Evolution of Style",
         47000
        ],
        [
         "Uzbekistan",
         "giil",
         57
        ],
        [
         "Vanuatu",
         "Digital Art | Fine Art | Abstract Art | Graphic Art | Photography",
         10000
        ],
        [
         "Venezuela",
         "My Poppet - A Craft, Travel & Food Blog for Colourful Living",
         100000
        ],
        [
         "Vietnam",
         "Living Well Spending Less",
         326000
        ],
        [
         "Wallis and Futuna",
         "Small Stuff Counts",
         18000
        ],
        [
         "Western Sahara",
         "Emma Corley",
         2000
        ],
        [
         "Yemen",
         "T I F F A N Y",
         4000
        ],
        [
         "Yemen",
         "Jan Ucieklak",
         4000
        ],
        [
         "Zambia",
         "HALFTEE Layering Fashions",
         32000
        ]
       ],
       "datasetInfos": [],
       "dbfsResultPath": null,
       "isJsonSchema": true,
       "metadata": {},
       "overflow": false,
       "plotOptions": {
        "customPlotOptions": {},
        "displayType": "table",
        "pivotAggregation": null,
        "pivotColumns": null,
        "xColumns": null,
        "yColumns": null
       },
       "removedWidgets": [],
       "schema": [
        {
         "metadata": "{}",
         "name": "country",
         "type": "\"string\""
        },
        {
         "metadata": "{}",
         "name": "poster_name",
         "type": "\"string\""
        },
        {
         "metadata": "{}",
         "name": "follower_count",
         "type": "\"integer\""
        }
       ],
       "type": "table"
      }
     },
     "output_type": "display_data"
    }
   ],
   "source": [
    "%sql\n",
    "-- 6.a For each country find the user with the most followers. \n",
    "SELECT * FROM most_popular_posters_by_country;"
   ]
  },
  {
   "cell_type": "code",
   "execution_count": 0,
   "metadata": {
    "application/vnd.databricks.v1+cell": {
     "cellMetadata": {
      "byteLimit": 2048000,
      "implicitDf": true,
      "rowLimit": 10000
     },
     "inputWidgets": {},
     "nuid": "2c5408be-f1a4-49ab-9c21-a865712f6f39",
     "showTitle": false,
     "title": ""
    }
   },
   "outputs": [
    {
     "output_type": "display_data",
     "data": {
      "text/html": [
       "<style scoped>\n",
       "  .table-result-container {\n",
       "    max-height: 300px;\n",
       "    overflow: auto;\n",
       "  }\n",
       "  table, th, td {\n",
       "    border: 1px solid black;\n",
       "    border-collapse: collapse;\n",
       "  }\n",
       "  th, td {\n",
       "    padding: 5px;\n",
       "  }\n",
       "  th {\n",
       "    text-align: left;\n",
       "  }\n",
       "</style><div class='table-result-container'><table class='table-result'><thead style='background-color: white'><tr><th>country</th><th>follower_count</th></tr></thead><tbody><tr><td>Anguilla</td><td>15000000</td></tr></tbody></table></div>"
      ]
     },
     "metadata": {
      "application/vnd.databricks.v1+output": {
       "addedWidgets": {},
       "aggData": [],
       "aggError": "",
       "aggOverflow": false,
       "aggSchema": [],
       "aggSeriesLimitReached": false,
       "aggType": "",
       "arguments": {},
       "columnCustomDisplayInfos": {},
       "data": [
        [
         "Anguilla",
         15000000
        ]
       ],
       "datasetInfos": [],
       "dbfsResultPath": null,
       "isJsonSchema": true,
       "metadata": {},
       "overflow": false,
       "plotOptions": {
        "customPlotOptions": {},
        "displayType": "table",
        "pivotAggregation": null,
        "pivotColumns": null,
        "xColumns": null,
        "yColumns": null
       },
       "removedWidgets": [],
       "schema": [
        {
         "metadata": "{}",
         "name": "country",
         "type": "\"string\""
        },
        {
         "metadata": "{}",
         "name": "follower_count",
         "type": "\"integer\""
        }
       ],
       "type": "table"
      }
     },
     "output_type": "display_data"
    }
   ],
   "source": [
    "%sql\n",
    "-- 6.b  Based on the above query, find the country with the user with most followers. \n",
    "SELECT\n",
    "  country,\n",
    "  follower_count\n",
    "FROM most_popular_posters_by_country\n",
    "ORDER BY follower_count DESC\n",
    "LIMIT 1\n",
    ";\n"
   ]
  },
  {
   "cell_type": "code",
   "execution_count": 0,
   "metadata": {
    "application/vnd.databricks.v1+cell": {
     "cellMetadata": {
      "byteLimit": 2048000,
      "implicitDf": true,
      "rowLimit": 10000
     },
     "inputWidgets": {},
     "nuid": "542daad4-8f46-4a5a-8578-0c4db5f56948",
     "showTitle": false,
     "title": ""
    }
   },
   "outputs": [
    {
     "output_type": "display_data",
     "data": {
      "text/html": [
       "<style scoped>\n",
       "  .table-result-container {\n",
       "    max-height: 300px;\n",
       "    overflow: auto;\n",
       "  }\n",
       "  table, th, td {\n",
       "    border: 1px solid black;\n",
       "    border-collapse: collapse;\n",
       "  }\n",
       "  th, td {\n",
       "    padding: 5px;\n",
       "  }\n",
       "  th {\n",
       "    text-align: left;\n",
       "  }\n",
       "</style><div class='table-result-container'><table class='table-result'><thead style='background-color: white'><tr><th>age_group</th><th>category</th><th>category_count</th></tr></thead><tbody><tr><td>18-24</td><td>tattoos</td><td>1719</td></tr><tr><td>25-35</td><td>travel</td><td>971</td></tr><tr><td>36-50</td><td>quotes</td><td>783</td></tr><tr><td>50+</td><td>vehicles</td><td>328</td></tr></tbody></table></div>"
      ]
     },
     "metadata": {
      "application/vnd.databricks.v1+output": {
       "addedWidgets": {},
       "aggData": [],
       "aggError": "",
       "aggOverflow": false,
       "aggSchema": [],
       "aggSeriesLimitReached": false,
       "aggType": "",
       "arguments": {},
       "columnCustomDisplayInfos": {},
       "data": [
        [
         "18-24",
         "tattoos",
         1719
        ],
        [
         "25-35",
         "travel",
         971
        ],
        [
         "36-50",
         "quotes",
         783
        ],
        [
         "50+",
         "vehicles",
         328
        ]
       ],
       "datasetInfos": [],
       "dbfsResultPath": null,
       "isJsonSchema": true,
       "metadata": {},
       "overflow": false,
       "plotOptions": {
        "customPlotOptions": {},
        "displayType": "table",
        "pivotAggregation": null,
        "pivotColumns": null,
        "xColumns": null,
        "yColumns": null
       },
       "removedWidgets": [],
       "schema": [
        {
         "metadata": "{}",
         "name": "age_group",
         "type": "\"string\""
        },
        {
         "metadata": "{}",
         "name": "category",
         "type": "\"string\""
        },
        {
         "metadata": "{}",
         "name": "category_count",
         "type": "\"long\""
        }
       ],
       "type": "table"
      }
     },
     "output_type": "display_data"
    }
   ],
   "source": [
    "%sql\n",
    "-- 7 What is the most popular category people post to based age groups\n",
    "WITH group_age_table AS (\n",
    "  SELECT\n",
    "    user.age,\n",
    "    pin.category,\n",
    "    CASE\n",
    "      WHEN user.age >= 18 AND user.age <= 24 THEN '18-24'\n",
    "      WHEN user.age >= 25 AND user.age <= 35 THEN '25-35'\n",
    "      WHEN user.age >= 36 AND user.age <= 50 THEN '36-50'\n",
    "      ELSE'50+'\n",
    "    END AS age_group\n",
    "  FROM\n",
    "    12f2c229fbdb_temp_view_pin pin\n",
    "  JOIN 12f2c229fbdb_temp_view_user user ON pin.ind = user.ind\n",
    "),\n",
    "ranked_categories AS (\n",
    "  SELECT\n",
    "    age_group,\n",
    "    category,\n",
    "    COUNT(category) AS category_count,\n",
    "    RANK() OVER(PARTITION BY age_group ORDER BY COUNT(category) DESC) AS category_rank\n",
    "  FROM group_age_table\n",
    "  GROUP BY age_group, category\n",
    ")\n",
    "\n",
    "SELECT\n",
    "  age_group,\n",
    "  category,\n",
    "  category_count\n",
    "FROM ranked_categories\n",
    "WHERE category_rank = 1\n",
    ";\n"
   ]
  },
  {
   "cell_type": "code",
   "execution_count": 0,
   "metadata": {
    "application/vnd.databricks.v1+cell": {
     "cellMetadata": {
      "byteLimit": 2048000,
      "implicitDf": true,
      "rowLimit": 10000
     },
     "inputWidgets": {},
     "nuid": "2f13c4f4-82a3-4f59-9060-baf9551eb8aa",
     "showTitle": false,
     "title": ""
    }
   },
   "outputs": [
    {
     "output_type": "display_data",
     "data": {
      "text/html": [
       "<style scoped>\n",
       "  .table-result-container {\n",
       "    max-height: 300px;\n",
       "    overflow: auto;\n",
       "  }\n",
       "  table, th, td {\n",
       "    border: 1px solid black;\n",
       "    border-collapse: collapse;\n",
       "  }\n",
       "  th, td {\n",
       "    padding: 5px;\n",
       "  }\n",
       "  th {\n",
       "    text-align: left;\n",
       "  }\n",
       "</style><div class='table-result-container'><table class='table-result'><thead style='background-color: white'><tr><th>age_group</th><th>median_follower_count</th></tr></thead><tbody><tr><td>50+</td><td>1000</td></tr><tr><td>36-50</td><td>7000</td></tr><tr><td>18-24</td><td>119000</td></tr><tr><td>25-35</td><td>27000</td></tr></tbody></table></div>"
      ]
     },
     "metadata": {
      "application/vnd.databricks.v1+output": {
       "addedWidgets": {},
       "aggData": [],
       "aggError": "",
       "aggOverflow": false,
       "aggSchema": [],
       "aggSeriesLimitReached": false,
       "aggType": "",
       "arguments": {},
       "columnCustomDisplayInfos": {},
       "data": [
        [
         "50+",
         1000
        ],
        [
         "36-50",
         7000
        ],
        [
         "18-24",
         119000
        ],
        [
         "25-35",
         27000
        ]
       ],
       "datasetInfos": [],
       "dbfsResultPath": null,
       "isJsonSchema": true,
       "metadata": {},
       "overflow": false,
       "plotOptions": {
        "customPlotOptions": {},
        "displayType": "table",
        "pivotAggregation": null,
        "pivotColumns": null,
        "xColumns": null,
        "yColumns": null
       },
       "removedWidgets": [],
       "schema": [
        {
         "metadata": "{}",
         "name": "age_group",
         "type": "\"string\""
        },
        {
         "metadata": "{}",
         "name": "median_follower_count",
         "type": "\"integer\""
        }
       ],
       "type": "table"
      }
     },
     "output_type": "display_data"
    }
   ],
   "source": [
    "%sql\n",
    "-- 8\n",
    "WITH group_age_table AS (\n",
    "  SELECT\n",
    "    pin.follower_count,\n",
    "    CASE\n",
    "      WHEN user.age >= 18 AND user.age <= 24 THEN '18-24'\n",
    "      WHEN user.age >= 25 AND user.age <= 35 THEN '25-35'\n",
    "      WHEN user.age >= 36 AND user.age <= 50 THEN '36-50'\n",
    "      ELSE'50+'\n",
    "    END AS age_group\n",
    "  FROM\n",
    "    12f2c229fbdb_temp_view_pin pin\n",
    "  JOIN 12f2c229fbdb_temp_view_user user ON pin.ind = user.ind\n",
    ")\n",
    "SELECT age_group, percentile_approx(follower_count, 0.5) AS median_follower_count\n",
    "FROM group_age_table\n",
    "GROUP BY age_group\n",
    ";"
   ]
  },
  {
   "cell_type": "code",
   "execution_count": 0,
   "metadata": {
    "application/vnd.databricks.v1+cell": {
     "cellMetadata": {
      "byteLimit": 2048000,
      "implicitDf": true,
      "rowLimit": 10000
     },
     "inputWidgets": {},
     "nuid": "c4418b31-ba86-42c7-8883-15035445ac19",
     "showTitle": false,
     "title": ""
    }
   },
   "outputs": [
    {
     "output_type": "display_data",
     "data": {
      "text/html": [
       "<style scoped>\n",
       "  .table-result-container {\n",
       "    max-height: 300px;\n",
       "    overflow: auto;\n",
       "  }\n",
       "  table, th, td {\n",
       "    border: 1px solid black;\n",
       "    border-collapse: collapse;\n",
       "  }\n",
       "  th, td {\n",
       "    padding: 5px;\n",
       "  }\n",
       "  th {\n",
       "    text-align: left;\n",
       "  }\n",
       "</style><div class='table-result-container'><table class='table-result'><thead style='background-color: white'><tr><th>join_year</th><th>number_users_joined</th></tr></thead><tbody><tr><td>2015</td><td>2986</td></tr><tr><td>2016</td><td>3422</td></tr><tr><td>2017</td><td>1219</td></tr></tbody></table></div>"
      ]
     },
     "metadata": {
      "application/vnd.databricks.v1+output": {
       "addedWidgets": {},
       "aggData": [],
       "aggError": "",
       "aggOverflow": false,
       "aggSchema": [],
       "aggSeriesLimitReached": false,
       "aggType": "",
       "arguments": {},
       "columnCustomDisplayInfos": {},
       "data": [
        [
         2015,
         2986
        ],
        [
         2016,
         3422
        ],
        [
         2017,
         1219
        ]
       ],
       "datasetInfos": [],
       "dbfsResultPath": null,
       "isJsonSchema": true,
       "metadata": {},
       "overflow": false,
       "plotOptions": {
        "customPlotOptions": {},
        "displayType": "table",
        "pivotAggregation": null,
        "pivotColumns": null,
        "xColumns": null,
        "yColumns": null
       },
       "removedWidgets": [],
       "schema": [
        {
         "metadata": "{}",
         "name": "join_year",
         "type": "\"integer\""
        },
        {
         "metadata": "{}",
         "name": "number_users_joined",
         "type": "\"long\""
        }
       ],
       "type": "table"
      }
     },
     "output_type": "display_data"
    }
   ],
   "source": [
    "%sql\n",
    "-- 9\n",
    "WITH xyz AS (\n",
    "  SELECT\n",
    "  ind,\n",
    "  date_joined,\n",
    "  EXTRACT(year FROM user.date_joined) AS post_year\n",
    "  FROM 12f2c229fbdb_temp_view_user user\n",
    ")\n",
    "SELECT\n",
    "  post_year,\n",
    "  COUNT(*) AS number_users_joined\n",
    "FROM xyz\n",
    "WHERE post_year BETWEEN 2015 AND 2020\n",
    "GROUP BY join_year;"
   ]
  },
  {
   "cell_type": "code",
   "execution_count": 0,
   "metadata": {
    "application/vnd.databricks.v1+cell": {
     "cellMetadata": {
      "byteLimit": 2048000,
      "implicitDf": true,
      "rowLimit": 10000
     },
     "inputWidgets": {},
     "nuid": "905b5da2-b10e-479e-97f7-3de34bc74197",
     "showTitle": false,
     "title": ""
    }
   },
   "outputs": [
    {
     "output_type": "display_data",
     "data": {
      "text/html": [
       "<style scoped>\n",
       "  .table-result-container {\n",
       "    max-height: 300px;\n",
       "    overflow: auto;\n",
       "  }\n",
       "  table, th, td {\n",
       "    border: 1px solid black;\n",
       "    border-collapse: collapse;\n",
       "  }\n",
       "  th, td {\n",
       "    padding: 5px;\n",
       "  }\n",
       "  th {\n",
       "    text-align: left;\n",
       "  }\n",
       "</style><div class='table-result-container'><table class='table-result'><thead style='background-color: white'><tr><th>post_year</th><th>median_follower_count</th></tr></thead><tbody><tr><td>2015</td><td>132000</td></tr><tr><td>2016</td><td>18000</td></tr><tr><td>2017</td><td>4000</td></tr></tbody></table></div>"
      ]
     },
     "metadata": {
      "application/vnd.databricks.v1+output": {
       "addedWidgets": {},
       "aggData": [],
       "aggError": "",
       "aggOverflow": false,
       "aggSchema": [],
       "aggSeriesLimitReached": false,
       "aggType": "",
       "arguments": {},
       "columnCustomDisplayInfos": {},
       "data": [
        [
         2015,
         132000
        ],
        [
         2016,
         18000
        ],
        [
         2017,
         4000
        ]
       ],
       "datasetInfos": [],
       "dbfsResultPath": null,
       "isJsonSchema": true,
       "metadata": {},
       "overflow": false,
       "plotOptions": {
        "customPlotOptions": {},
        "displayType": "table",
        "pivotAggregation": null,
        "pivotColumns": null,
        "xColumns": null,
        "yColumns": null
       },
       "removedWidgets": [],
       "schema": [
        {
         "metadata": "{}",
         "name": "post_year",
         "type": "\"integer\""
        },
        {
         "metadata": "{}",
         "name": "median_follower_count",
         "type": "\"integer\""
        }
       ],
       "type": "table"
      }
     },
     "output_type": "display_data"
    }
   ],
   "source": [
    "%sql\n",
    "-- 10\n",
    "WITH xyz AS (\n",
    "  SELECT\n",
    "    pin.follower_count,\n",
    "    EXTRACT(year FROM user.date_joined) AS post_year\n",
    "  FROM 12f2c229fbdb_temp_view_user user\n",
    "  JOIN 12f2c229fbdb_temp_view_pin pin ON user.ind = pin.ind\n",
    ")\n",
    "SELECT\n",
    "  post_year,\n",
    "  percentile_approx(follower_count, 0.5) AS median_follower_count\n",
    "  FROM xyz\n",
    "  WHERE post_year BETWEEN 2015 AND 2020\n",
    "  GROUP BY post_year;\n"
   ]
  },
  {
   "cell_type": "code",
   "execution_count": 0,
   "metadata": {
    "application/vnd.databricks.v1+cell": {
     "cellMetadata": {
      "byteLimit": 2048000,
      "implicitDf": true,
      "rowLimit": 10000
     },
     "inputWidgets": {},
     "nuid": "0b93b2f6-4527-4225-a5c2-6c0038b7f239",
     "showTitle": false,
     "title": ""
    }
   },
   "outputs": [
    {
     "output_type": "display_data",
     "data": {
      "text/html": [
       "<style scoped>\n",
       "  .table-result-container {\n",
       "    max-height: 300px;\n",
       "    overflow: auto;\n",
       "  }\n",
       "  table, th, td {\n",
       "    border: 1px solid black;\n",
       "    border-collapse: collapse;\n",
       "  }\n",
       "  th, td {\n",
       "    padding: 5px;\n",
       "  }\n",
       "  th {\n",
       "    text-align: left;\n",
       "  }\n",
       "</style><div class='table-result-container'><table class='table-result'><thead style='background-color: white'><tr><th>age_group</th><th>post_year</th><th>median_follower_count</th></tr></thead><tbody><tr><td>18-24</td><td>2015</td><td>228000</td></tr><tr><td>18-24</td><td>2016</td><td>40000</td></tr><tr><td>18-24</td><td>2017</td><td>10000</td></tr><tr><td>25-35</td><td>2015</td><td>42000</td></tr><tr><td>25-35</td><td>2016</td><td>24000</td></tr><tr><td>25-35</td><td>2017</td><td>6000</td></tr><tr><td>36-50</td><td>2015</td><td>13000</td></tr><tr><td>36-50</td><td>2016</td><td>9000</td></tr><tr><td>36-50</td><td>2017</td><td>3000</td></tr><tr><td>50+</td><td>2015</td><td>14000</td></tr><tr><td>50+</td><td>2016</td><td>542</td></tr><tr><td>50+</td><td>2017</td><td>2000</td></tr></tbody></table></div>"
      ]
     },
     "metadata": {
      "application/vnd.databricks.v1+output": {
       "addedWidgets": {},
       "aggData": [],
       "aggError": "",
       "aggOverflow": false,
       "aggSchema": [],
       "aggSeriesLimitReached": false,
       "aggType": "",
       "arguments": {},
       "columnCustomDisplayInfos": {},
       "data": [
        [
         "18-24",
         2015,
         228000
        ],
        [
         "18-24",
         2016,
         40000
        ],
        [
         "18-24",
         2017,
         10000
        ],
        [
         "25-35",
         2015,
         42000
        ],
        [
         "25-35",
         2016,
         24000
        ],
        [
         "25-35",
         2017,
         6000
        ],
        [
         "36-50",
         2015,
         13000
        ],
        [
         "36-50",
         2016,
         9000
        ],
        [
         "36-50",
         2017,
         3000
        ],
        [
         "50+",
         2015,
         14000
        ],
        [
         "50+",
         2016,
         542
        ],
        [
         "50+",
         2017,
         2000
        ]
       ],
       "datasetInfos": [],
       "dbfsResultPath": null,
       "isJsonSchema": true,
       "metadata": {},
       "overflow": false,
       "plotOptions": {
        "customPlotOptions": {},
        "displayType": "table",
        "pivotAggregation": null,
        "pivotColumns": null,
        "xColumns": null,
        "yColumns": null
       },
       "removedWidgets": [],
       "schema": [
        {
         "metadata": "{}",
         "name": "age_group",
         "type": "\"string\""
        },
        {
         "metadata": "{}",
         "name": "post_year",
         "type": "\"integer\""
        },
        {
         "metadata": "{}",
         "name": "median_follower_count",
         "type": "\"integer\""
        }
       ],
       "type": "table"
      }
     },
     "output_type": "display_data"
    }
   ],
   "source": [
    "%sql\n",
    "-- 11\n",
    "WITH xyz AS (\n",
    "  SELECT\n",
    "    pin.follower_count,\n",
    "    user.ind,\n",
    "    user.date_joined,\n",
    "    EXTRACT(year FROM user.date_joined) AS post_year,\n",
    "    CASE\n",
    "      WHEN user.age >= 18 AND user.age <= 24 THEN '18-24'\n",
    "      WHEN user.age >= 25 AND user.age <= 35 THEN '25-35'\n",
    "      WHEN user.age >= 36 AND user.age <= 50 THEN '36-50'\n",
    "      ELSE'50+'\n",
    "    END AS age_group\n",
    "  FROM 12f2c229fbdb_temp_view_user user\n",
    "  JOIN\n",
    "    12f2c229fbdb_temp_view_pin pin ON user.ind = pin.ind\n",
    ")\n",
    "SELECT\n",
    "  age_group,\n",
    "  post_year,\n",
    "  percentile_approx(follower_count, 0.5) AS median_follower_count\n",
    "  FROM xyz\n",
    "  WHERE post_year BETWEEN 2015 AND 2020\n",
    "  GROUP BY age_group, post_year\n",
    "  ORDER BY age_group, post_year;"
   ]
  }
 ],
 "metadata": {
  "application/vnd.databricks.v1+notebook": {
   "dashboards": [],
   "language": "python",
   "notebookMetadata": {
    "mostRecentlyExecutedCommandWithImplicitDF": {
     "commandId": 1203634201404080,
     "dataframes": [
      "_sqldf"
     ]
    },
    "pythonIndentUnit": 4
   },
   "notebookName": "query_the_data",
   "widgets": {}
  }
 },
 "nbformat": 4,
 "nbformat_minor": 0
}
